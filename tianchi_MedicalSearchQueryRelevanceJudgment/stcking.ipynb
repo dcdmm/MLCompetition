{
 "cells": [
  {
   "cell_type": "code",
   "execution_count": 1,
   "id": "a347d2dd-1a02-49df-8ef6-2048692d2420",
   "metadata": {},
   "outputs": [],
   "source": [
    "import joblib\n",
    "import json\n",
    "import numpy as np"
   ]
  },
  {
   "cell_type": "code",
   "execution_count": 2,
   "id": "36e26234-68aa-4ba1-bf8b-a29e7cbce3e9",
   "metadata": {},
   "outputs": [],
   "source": [
    "# ernie3_base_predict.shape=[1596, 3]\n",
    "ernie3_base_predict = joblib.load('predict/ernie3_base.pkl')\n",
    "erniehealth_base_predict = joblib.load('predict/erniehealth_base.pkl')\n",
    "electra_base_predict = joblib.load('predict/electra_base.pkl')\n",
    "\n",
    "# 加权融合\n",
    "# 最优分数:0.8835\n",
    "stacking_predict = electra_base_predict * 0.1 + erniehealth_base_predict * 0.1 + ernie3_base_predict * 0.8"
   ]
  },
  {
   "cell_type": "code",
   "execution_count": 3,
   "id": "763294fa-572b-4f08-bc7e-338ecfe21ded",
   "metadata": {},
   "outputs": [],
   "source": [
    "predict_label = np.argmax(stacking_predict, axis=1).tolist()"
   ]
  },
  {
   "cell_type": "code",
   "execution_count": 4,
   "id": "40232c69-4841-44da-beac-065338c09199",
   "metadata": {},
   "outputs": [],
   "source": [
    "with open('datasets/KUAKE-QQR_test.json') as input_data:\n",
    "    json_content = json.load(input_data)\n",
    "    for i in range(len(json_content)):\n",
    "        json_content[i]['label'] = str(predict_label[i])"
   ]
  },
  {
   "cell_type": "code",
   "execution_count": 5,
   "id": "49aedcc8-eaaf-444b-938f-582e8611447d",
   "metadata": {
    "pycharm": {
     "name": "#%%\n"
    }
   },
   "outputs": [],
   "source": [
    "# JSON字符串的保存\n",
    "with open('predict/last_result.json', 'w') as fp:\n",
    "    json.dump(json_content, fp)"
   ]
  }
 ],
 "metadata": {
  "kernelspec": {
   "display_name": "env_3812",
   "language": "python",
   "name": "env_3812"
  },
  "language_info": {
   "codemirror_mode": {
    "name": "ipython",
    "version": 3
   },
   "file_extension": ".py",
   "mimetype": "text/x-python",
   "name": "python",
   "nbconvert_exporter": "python",
   "pygments_lexer": "ipython3",
   "version": "3.8.12"
  }
 },
 "nbformat": 4,
 "nbformat_minor": 5
}