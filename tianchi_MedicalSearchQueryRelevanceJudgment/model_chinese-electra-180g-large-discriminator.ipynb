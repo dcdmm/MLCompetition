{
 "cells": [
  {
   "cell_type": "code",
   "execution_count": 1,
   "id": "7c822165-fa12-400f-bfc7-41fa4d50e804",
   "metadata": {},
   "outputs": [],
   "source": [
    "import torch\n",
    "from transformers import AutoModel, AutoTokenizer\n",
    "import torch.nn as nn\n",
    "import torch.optim as optim\n",
    "import joblib\n",
    "import numpy as np\n",
    "import pandas as pd\n",
    "from sklearn.metrics import accuracy_score\n",
    "from sklearn.model_selection import StratifiedKFold\n",
    "from colorama import Fore, Style\n",
    "from transformers import logging\n",
    "\n",
    "from utils import (set_seed, read_data, get_collate_fn, evaluate, predict)\n",
    "\n",
    "# 忽略警告\n",
    "logging.set_verbosity_error()"
   ]
  },
  {
   "cell_type": "code",
   "execution_count": 2,
   "id": "48db146b-1f65-434e-a0b6-30198f744616",
   "metadata": {},
   "outputs": [],
   "source": [
    "USE_AUGMENT = False\n",
    "\n",
    "SEED = 2022\n",
    "set_seed(SEED)"
   ]
  },
  {
   "cell_type": "code",
   "execution_count": 3,
   "id": "309a61e6-9765-4a71-b37f-698ed3d9e298",
   "metadata": {},
   "outputs": [
    {
     "data": {
      "text/plain": [
       "device(type='cuda')"
      ]
     },
     "execution_count": 3,
     "metadata": {},
     "output_type": "execute_result"
    }
   ],
   "source": [
    "device = torch.device(\"cuda\" if torch.cuda.is_available() else \"cpu\")\n",
    "device"
   ]
  },
  {
   "cell_type": "code",
   "execution_count": 4,
   "id": "f7ba7efb-583b-4062-b4e1-24c46c884dbc",
   "metadata": {},
   "outputs": [],
   "source": [
    "train_data = read_data('datasets/KUAKE-QQR_train.json')\n",
    "valid_data = read_data('datasets/KUAKE-QQR_dev.json')\n",
    "\n",
    "if USE_AUGMENT:  # 是否开启数据增强\n",
    "    augment_data = pd.read_csv('extra_data/augment_data.csv')\n",
    "    all_data = pd.concat([train_data, valid_data, augment_data], axis=0)\n",
    "    all_data = all_data.drop_duplicates()\n",
    "else:\n",
    "    all_data = pd.concat([train_data, valid_data], axis=0)"
   ]
  },
  {
   "cell_type": "code",
   "execution_count": 5,
   "id": "fd2582dd-82e3-4918-9c1d-3eafac8c335a",
   "metadata": {},
   "outputs": [
    {
     "name": "stdout",
     "output_type": "stream",
     "text": [
      "['input_ids', 'token_type_ids', 'attention_mask']\n"
     ]
    }
   ],
   "source": [
    "model_ckpt = \"hfl/chinese-electra-180g-large-discriminator\"\n",
    "token = AutoTokenizer.from_pretrained(model_ckpt)\n",
    "print(token.model_input_names)"
   ]
  },
  {
   "cell_type": "code",
   "execution_count": 6,
   "id": "2883c368-d6bc-49c0-88f9-a5e1307670bb",
   "metadata": {},
   "outputs": [],
   "source": [
    "class CustomModel(nn.Module):\n",
    "    \"\"\"下游训练任务模型\"\"\"\n",
    "\n",
    "    def __init__(self, pretrained_model_name):\n",
    "        super(CustomModel, self).__init__()\n",
    "        self.pretrained = AutoModel.from_pretrained(pretrained_model_name)\n",
    "        self.fc = torch.nn.Linear(self.pretrained.config.hidden_size, 3)\n",
    "\n",
    "    def forward(self, input_ids, attention_mask, token_type_ids):\n",
    "        out = self.pretrained(input_ids=input_ids, attention_mask=attention_mask,\n",
    "                              token_type_ids=token_type_ids).last_hidden_state\n",
    "        # output.shape=[batch_size, class_num]\n",
    "        out = self.fc(torch.mean(out, dim=1))\n",
    "        out = out.softmax(dim=1)\n",
    "        return out"
   ]
  },
  {
   "cell_type": "code",
   "execution_count": 7,
   "id": "b311fba0-5d19-443c-8efd-53ca179db284",
   "metadata": {},
   "outputs": [],
   "source": [
    "# 模型训练\n",
    "def train_and_evaluate(model, dataloader_train, dataloader_valid, best, criterion, optimizer, scheduler_lr=None,\n",
    "                       device=torch.device('cpu')):\n",
    "    model.train()\n",
    "\n",
    "    for idx, (input_ids, attention_mask, token_type_ids, labels) in enumerate(dataloader_train, start=1):\n",
    "        # 数据设备切换\n",
    "        input_ids = input_ids.to(device)\n",
    "        attention_mask = attention_mask.to(device)\n",
    "        token_type_ids = token_type_ids.to(device)\n",
    "        labels = labels.to(device)\n",
    "\n",
    "        optimizer.zero_grad()\n",
    "        out = model(input_ids=input_ids, attention_mask=attention_mask, token_type_ids=token_type_ids)\n",
    "\n",
    "        loss = criterion(out, labels)  # 每个step的损失值\n",
    "        loss.backward()\n",
    "        optimizer.step()\n",
    "        if scheduler_lr is not None:\n",
    "            scheduler_lr.step()\n",
    "\n",
    "        if idx % 20 == 0:\n",
    "            valid_acc = evaluate(model, dataloader_valid, device)\n",
    "            train_step_acc = accuracy_score(labels.cpu().numpy(), torch.argmax(out.cpu(), dim=1).numpy())  # 评估指标\n",
    "            if best[1] < valid_acc:\n",
    "                best.pop()\n",
    "                best.append(valid_acc)\n",
    "                torch.save(model.state_dict(), 'models/save_model_{}.pkl'.format(best[0]))\n",
    "                print('| step {:5d} | loss {:9.6f} | train_step_acc {:9.6f} | valid_acc {:9.6f} |'.format(idx,\n",
    "                                                                                                          loss.item(),\n",
    "                                                                                                          train_step_acc,\n",
    "                                                                                                          valid_acc))\n"
   ]
  },
  {
   "cell_type": "code",
   "execution_count": 8,
   "id": "0eb3ffe7-5d44-4f2b-afbe-74d189bd60af",
   "metadata": {},
   "outputs": [
    {
     "name": "stdout",
     "output_type": "stream",
     "text": [
      "\u001B[31m##################################################0##################################################\n",
      "\u001B[0m----------------------------------------0----------------------------------------\n",
      "| step    20 | loss  0.924986 | train_step_acc  0.625000 | valid_acc  0.599699 |\n",
      "| step    40 | loss  0.915998 | train_step_acc  0.593750 | valid_acc  0.712651 |\n",
      "| step    60 | loss  0.677429 | train_step_acc  0.906250 | valid_acc  0.793373 |\n",
      "| step    80 | loss  0.707501 | train_step_acc  0.828125 | valid_acc  0.824398 |\n",
      "| step   120 | loss  0.646340 | train_step_acc  0.906250 | valid_acc  0.843976 |\n",
      "| step   140 | loss  0.651439 | train_step_acc  0.906250 | valid_acc  0.852108 |\n",
      "| step   160 | loss  0.724603 | train_step_acc  0.828125 | valid_acc  0.854819 |\n",
      "| step   180 | loss  0.633448 | train_step_acc  0.906250 | valid_acc  0.858434 |\n",
      "----------------------------------------1----------------------------------------\n",
      "| step    20 | loss  0.679236 | train_step_acc  0.859375 | valid_acc  0.859639 |\n",
      "| step    60 | loss  0.681428 | train_step_acc  0.875000 | valid_acc  0.866265 |\n",
      "| step    80 | loss  0.616372 | train_step_acc  0.937500 | valid_acc  0.868072 |\n",
      "| step   120 | loss  0.699270 | train_step_acc  0.859375 | valid_acc  0.868675 |\n",
      "| step   160 | loss  0.631807 | train_step_acc  0.921875 | valid_acc  0.870482 |\n",
      "----------------------------------------2----------------------------------------\n",
      "| step    40 | loss  0.629929 | train_step_acc  0.921875 | valid_acc  0.875301 |\n",
      "| step    80 | loss  0.662864 | train_step_acc  0.890625 | valid_acc  0.875602 |\n",
      "| step   140 | loss  0.670537 | train_step_acc  0.875000 | valid_acc  0.876807 |\n",
      "----------------------------------------3----------------------------------------\n",
      "| step    20 | loss  0.705524 | train_step_acc  0.843750 | valid_acc  0.877711 |\n",
      "| step   120 | loss  0.581062 | train_step_acc  0.968750 | valid_acc  0.878313 |\n",
      "| step   180 | loss  0.676945 | train_step_acc  0.875000 | valid_acc  0.880422 |\n",
      "----------------------------------------4----------------------------------------\n",
      "| step    40 | loss  0.648507 | train_step_acc  0.890625 | valid_acc  0.881928 |\n",
      "| step   180 | loss  0.679774 | train_step_acc  0.875000 | valid_acc  0.885542 |\n",
      "[0, 0.8855421686746988]\n",
      "\u001B[31m##################################################1##################################################\n",
      "\u001B[0m----------------------------------------0----------------------------------------\n",
      "| step    20 | loss  0.998246 | train_step_acc  0.546875 | valid_acc  0.699096 |\n",
      "| step    40 | loss  0.874719 | train_step_acc  0.656250 | valid_acc  0.722289 |\n",
      "| step    60 | loss  0.910712 | train_step_acc  0.625000 | valid_acc  0.734639 |\n",
      "| step    80 | loss  0.796459 | train_step_acc  0.750000 | valid_acc  0.746084 |\n",
      "| step   100 | loss  0.724465 | train_step_acc  0.828125 | valid_acc  0.748494 |\n",
      "| step   120 | loss  0.821417 | train_step_acc  0.734375 | valid_acc  0.755120 |\n",
      "| step   140 | loss  0.716782 | train_step_acc  0.843750 | valid_acc  0.774096 |\n",
      "| step   160 | loss  0.692357 | train_step_acc  0.843750 | valid_acc  0.822590 |\n",
      "| step   180 | loss  0.666195 | train_step_acc  0.890625 | valid_acc  0.833434 |\n",
      "----------------------------------------1----------------------------------------\n",
      "| step    20 | loss  0.716028 | train_step_acc  0.828125 | valid_acc  0.840964 |\n",
      "| step    60 | loss  0.634567 | train_step_acc  0.906250 | valid_acc  0.849398 |\n",
      "| step   200 | loss  0.616176 | train_step_acc  0.921875 | valid_acc  0.851807 |\n",
      "----------------------------------------2----------------------------------------\n",
      "| step    20 | loss  0.634818 | train_step_acc  0.921875 | valid_acc  0.852108 |\n",
      "| step    40 | loss  0.706840 | train_step_acc  0.828125 | valid_acc  0.853614 |\n",
      "| step    60 | loss  0.721484 | train_step_acc  0.828125 | valid_acc  0.854819 |\n",
      "| step    80 | loss  0.635688 | train_step_acc  0.921875 | valid_acc  0.857530 |\n",
      "| step   120 | loss  0.690495 | train_step_acc  0.859375 | valid_acc  0.858133 |\n",
      "| step   160 | loss  0.634873 | train_step_acc  0.921875 | valid_acc  0.862349 |\n",
      "| step   200 | loss  0.635624 | train_step_acc  0.906250 | valid_acc  0.862651 |\n",
      "----------------------------------------3----------------------------------------\n",
      "| step    20 | loss  0.654140 | train_step_acc  0.890625 | valid_acc  0.865663 |\n",
      "| step    60 | loss  0.680849 | train_step_acc  0.875000 | valid_acc  0.866566 |\n",
      "| step    80 | loss  0.622417 | train_step_acc  0.921875 | valid_acc  0.866867 |\n",
      "| step   100 | loss  0.630403 | train_step_acc  0.921875 | valid_acc  0.869578 |\n",
      "----------------------------------------4----------------------------------------\n",
      "| step    20 | loss  0.676714 | train_step_acc  0.875000 | valid_acc  0.873193 |\n",
      "| step   140 | loss  0.630896 | train_step_acc  0.921875 | valid_acc  0.875000 |\n",
      "[1, 0.875]\n",
      "\u001B[31m##################################################2##################################################\n",
      "\u001B[0m----------------------------------------0----------------------------------------\n",
      "| step    20 | loss  0.841987 | train_step_acc  0.703125 | valid_acc  0.696687 |\n",
      "| step    40 | loss  0.814046 | train_step_acc  0.734375 | valid_acc  0.737349 |\n",
      "| step    60 | loss  0.826160 | train_step_acc  0.703125 | valid_acc  0.743072 |\n",
      "| step    80 | loss  0.719867 | train_step_acc  0.843750 | valid_acc  0.802108 |\n",
      "| step   100 | loss  0.732007 | train_step_acc  0.828125 | valid_acc  0.826506 |\n",
      "| step   120 | loss  0.799840 | train_step_acc  0.750000 | valid_acc  0.828916 |\n",
      "| step   140 | loss  0.608521 | train_step_acc  0.937500 | valid_acc  0.844578 |\n",
      "| step   160 | loss  0.747460 | train_step_acc  0.796875 | valid_acc  0.845482 |\n",
      "| step   180 | loss  0.637427 | train_step_acc  0.906250 | valid_acc  0.851205 |\n",
      "----------------------------------------1----------------------------------------\n",
      "| step    40 | loss  0.652409 | train_step_acc  0.890625 | valid_acc  0.858133 |\n",
      "| step   180 | loss  0.677456 | train_step_acc  0.875000 | valid_acc  0.860843 |\n",
      "----------------------------------------2----------------------------------------\n",
      "| step   100 | loss  0.596040 | train_step_acc  0.953125 | valid_acc  0.864759 |\n",
      "| step   120 | loss  0.642771 | train_step_acc  0.906250 | valid_acc  0.866566 |\n",
      "| step   140 | loss  0.601729 | train_step_acc  0.953125 | valid_acc  0.866867 |\n",
      "| step   160 | loss  0.641975 | train_step_acc  0.921875 | valid_acc  0.871386 |\n",
      "----------------------------------------3----------------------------------------\n",
      "| step   180 | loss  0.713185 | train_step_acc  0.828125 | valid_acc  0.873795 |\n",
      "----------------------------------------4----------------------------------------\n",
      "[2, 0.8737951807228915]\n",
      "\u001B[31m##################################################3##################################################\n",
      "\u001B[0m----------------------------------------0----------------------------------------\n",
      "| step    20 | loss  0.908723 | train_step_acc  0.687500 | valid_acc  0.703916 |\n",
      "| step    40 | loss  0.866662 | train_step_acc  0.718750 | valid_acc  0.727711 |\n",
      "| step    60 | loss  0.761132 | train_step_acc  0.765625 | valid_acc  0.744277 |\n",
      "| step    80 | loss  0.725601 | train_step_acc  0.812500 | valid_acc  0.791867 |\n",
      "| step   100 | loss  0.768299 | train_step_acc  0.765625 | valid_acc  0.811446 |\n",
      "| step   120 | loss  0.682018 | train_step_acc  0.859375 | valid_acc  0.822590 |\n",
      "| step   140 | loss  0.693489 | train_step_acc  0.843750 | valid_acc  0.825000 |\n",
      "| step   160 | loss  0.632952 | train_step_acc  0.906250 | valid_acc  0.835843 |\n",
      "| step   200 | loss  0.763266 | train_step_acc  0.796875 | valid_acc  0.840964 |\n",
      "----------------------------------------1----------------------------------------\n",
      "| step    20 | loss  0.711474 | train_step_acc  0.843750 | valid_acc  0.847590 |\n",
      "| step   100 | loss  0.687161 | train_step_acc  0.859375 | valid_acc  0.848193 |\n",
      "| step   120 | loss  0.645771 | train_step_acc  0.906250 | valid_acc  0.851807 |\n",
      "| step   140 | loss  0.722901 | train_step_acc  0.828125 | valid_acc  0.852410 |\n",
      "| step   180 | loss  0.643977 | train_step_acc  0.906250 | valid_acc  0.854217 |\n",
      "| step   200 | loss  0.628975 | train_step_acc  0.921875 | valid_acc  0.859639 |\n",
      "----------------------------------------2----------------------------------------\n",
      "| step   140 | loss  0.657936 | train_step_acc  0.890625 | valid_acc  0.862349 |\n",
      "| step   160 | loss  0.663802 | train_step_acc  0.890625 | valid_acc  0.863554 |\n",
      "----------------------------------------3----------------------------------------\n",
      "| step    20 | loss  0.660006 | train_step_acc  0.875000 | valid_acc  0.864157 |\n",
      "| step    40 | loss  0.678326 | train_step_acc  0.875000 | valid_acc  0.865964 |\n",
      "| step   120 | loss  0.712659 | train_step_acc  0.843750 | valid_acc  0.866566 |\n",
      "----------------------------------------4----------------------------------------\n",
      "| step    40 | loss  0.628462 | train_step_acc  0.921875 | valid_acc  0.866867 |\n",
      "| step   120 | loss  0.706345 | train_step_acc  0.843750 | valid_acc  0.871687 |\n",
      "[3, 0.8716867469879518]\n",
      "\u001B[31m##################################################4##################################################\n",
      "\u001B[0m----------------------------------------0----------------------------------------\n",
      "| step    20 | loss  0.860868 | train_step_acc  0.687500 | valid_acc  0.700301 |\n",
      "| step    40 | loss  0.821951 | train_step_acc  0.718750 | valid_acc  0.720181 |\n",
      "| step    60 | loss  0.785072 | train_step_acc  0.765625 | valid_acc  0.724398 |\n",
      "| step    80 | loss  0.689090 | train_step_acc  0.875000 | valid_acc  0.803012 |\n",
      "| step   100 | loss  0.717449 | train_step_acc  0.843750 | valid_acc  0.832229 |\n",
      "| step   120 | loss  0.721464 | train_step_acc  0.828125 | valid_acc  0.837349 |\n",
      "| step   140 | loss  0.759024 | train_step_acc  0.796875 | valid_acc  0.839458 |\n",
      "| step   180 | loss  0.687929 | train_step_acc  0.859375 | valid_acc  0.848494 |\n",
      "----------------------------------------1----------------------------------------\n",
      "| step    20 | loss  0.655681 | train_step_acc  0.906250 | valid_acc  0.856024 |\n",
      "| step    40 | loss  0.726897 | train_step_acc  0.828125 | valid_acc  0.856928 |\n",
      "| step   160 | loss  0.691802 | train_step_acc  0.859375 | valid_acc  0.859036 |\n",
      "| step   180 | loss  0.712014 | train_step_acc  0.843750 | valid_acc  0.861145 |\n",
      "----------------------------------------2----------------------------------------\n",
      "| step    40 | loss  0.630609 | train_step_acc  0.921875 | valid_acc  0.870181 |\n",
      "| step   160 | loss  0.645706 | train_step_acc  0.906250 | valid_acc  0.872590 |\n",
      "----------------------------------------3----------------------------------------\n",
      "| step   180 | loss  0.646663 | train_step_acc  0.906250 | valid_acc  0.875000 |\n",
      "----------------------------------------4----------------------------------------\n",
      "| step    40 | loss  0.647675 | train_step_acc  0.906250 | valid_acc  0.877410 |\n",
      "| step   120 | loss  0.673795 | train_step_acc  0.875000 | valid_acc  0.877711 |\n",
      "| step   180 | loss  0.630803 | train_step_acc  0.921875 | valid_acc  0.881325 |\n",
      "[4, 0.8813253012048192]\n"
     ]
    }
   ],
   "source": [
    "skfold = StratifiedKFold(n_splits=5, shuffle=True, random_state=SEED)\n",
    "\n",
    "for fold, (trn_ind, val_ind) in enumerate(skfold.split(all_data, all_data['label'].values)):\n",
    "    print(Fore.RED + '#' * 50 + str(fold) + '#' * 50)\n",
    "    print(Style.RESET_ALL, end='')\n",
    "    train_data, valid_data = all_data.iloc[trn_ind].values.tolist(), all_data.iloc[val_ind].values.tolist()\n",
    "    dataloader_train = torch.utils.data.DataLoader(train_data,\n",
    "                                                   shuffle=True,\n",
    "                                                   batch_size=64,\n",
    "                                                   collate_fn=get_collate_fn(token))\n",
    "    dataloader_valid = torch.utils.data.DataLoader(valid_data,\n",
    "                                                   batch_size=64,\n",
    "                                                   collate_fn=get_collate_fn(token))\n",
    "    # *****************************************************************************\n",
    "    model = CustomModel(model_ckpt)\n",
    "    model = model.to(device)\n",
    "\n",
    "    optimizer_adamw = optim.AdamW(model.parameters(), lr=1e-5)\n",
    "    criterion_cross_entropy = torch.nn.CrossEntropyLoss()\n",
    "    # *****************************************************************************\n",
    "    best_acc_list = [fold, 0.0]\n",
    "    for epoch in range(5):\n",
    "        print('-' * 40 + str(epoch) + '-' * 40)\n",
    "        train_and_evaluate(model, dataloader_train, dataloader_valid, best_acc_list, criterion_cross_entropy,\n",
    "                           optimizer_adamw, None, device)\n",
    "    print(best_acc_list)"
   ]
  },
  {
   "cell_type": "code",
   "execution_count": 9,
   "id": "2e8e2003-5753-4fb7-ac4e-128838a72863",
   "metadata": {},
   "outputs": [],
   "source": [
    "k_fold_predict = np.zeros([1596, 3])\n",
    "\n",
    "for i in range(5):\n",
    "    model_predict = CustomModel(model_ckpt)\n",
    "    model_predict.load_state_dict(torch.load('models/save_model_{}.pkl'.format(i)))\n",
    "    model_predict = model_predict.to(device)\n",
    "    result_i = predict('datasets/KUAKE-QQR_test.json', token, model_predict, device)\n",
    "    k_fold_predict += (result_i / 5)"
   ]
  },
  {
   "cell_type": "code",
   "execution_count": 10,
   "id": "29c11896-9685-4c1d-8083-43a96a265c0d",
   "metadata": {},
   "outputs": [
    {
     "data": {
      "text/plain": [
       "['predict/electra_base.pkl']"
      ]
     },
     "execution_count": 10,
     "metadata": {},
     "output_type": "execute_result"
    }
   ],
   "source": [
    "joblib.dump(k_fold_predict, 'predict/electra_base.pkl')"
   ]
  },
  {
   "cell_type": "code",
   "execution_count": null,
   "id": "ed80058f-c5c9-41ac-a0ac-a2a609e8c886",
   "metadata": {},
   "outputs": [],
   "source": []
  }
 ],
 "metadata": {
  "kernelspec": {
   "display_name": "env_3812",
   "language": "python",
   "name": "env_3812"
  },
  "language_info": {
   "codemirror_mode": {
    "name": "ipython",
    "version": 3
   },
   "file_extension": ".py",
   "mimetype": "text/x-python",
   "name": "python",
   "nbconvert_exporter": "python",
   "pygments_lexer": "ipython3",
   "version": "3.8.12"
  }
 },
 "nbformat": 4,
 "nbformat_minor": 5
}