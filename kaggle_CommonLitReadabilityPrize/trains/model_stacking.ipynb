{
 "cells": [
  {
   "cell_type": "code",
   "execution_count": 107,
   "id": "f3c0c4b9-5baa-4b7f-ad2d-fa07792c8932",
   "metadata": {},
   "outputs": [],
   "source": [
    "from sklearn.linear_model import Ridge\n",
    "import joblib\n",
    "import pandas as pd\n",
    "import numpy as np"
   ]
  },
  {
   "cell_type": "code",
   "execution_count": 108,
   "id": "d6c65570-6506-4318-abc6-c2490aba2abb",
   "metadata": {},
   "outputs": [
    {
     "data": {
      "text/plain": "          id url_legal license  \\\n0  c12129c31       NaN     NaN   \n1  85aa80a4c       NaN     NaN   \n2  b69ac6792       NaN     NaN   \n3  dd1000b26       NaN     NaN   \n4  37c1b32fb       NaN     NaN   \n\n                                             excerpt    target  standard_error  \n0  When the young people returned to the ballroom... -0.340259        0.464009  \n1  All through dinner time, Mrs. Fayre was somewh... -0.315372        0.480805  \n2  As Roger had predicted, the snow departed as q... -0.580118        0.476676  \n3  And outside before the palace a great garden w... -1.054013        0.450007  \n4  Once upon a time there were Three Bears who li...  0.247197        0.510845  ",
      "text/html": "<div>\n<style scoped>\n    .dataframe tbody tr th:only-of-type {\n        vertical-align: middle;\n    }\n\n    .dataframe tbody tr th {\n        vertical-align: top;\n    }\n\n    .dataframe thead th {\n        text-align: right;\n    }\n</style>\n<table border=\"1\" class=\"dataframe\">\n  <thead>\n    <tr style=\"text-align: right;\">\n      <th></th>\n      <th>id</th>\n      <th>url_legal</th>\n      <th>license</th>\n      <th>excerpt</th>\n      <th>target</th>\n      <th>standard_error</th>\n    </tr>\n  </thead>\n  <tbody>\n    <tr>\n      <th>0</th>\n      <td>c12129c31</td>\n      <td>NaN</td>\n      <td>NaN</td>\n      <td>When the young people returned to the ballroom...</td>\n      <td>-0.340259</td>\n      <td>0.464009</td>\n    </tr>\n    <tr>\n      <th>1</th>\n      <td>85aa80a4c</td>\n      <td>NaN</td>\n      <td>NaN</td>\n      <td>All through dinner time, Mrs. Fayre was somewh...</td>\n      <td>-0.315372</td>\n      <td>0.480805</td>\n    </tr>\n    <tr>\n      <th>2</th>\n      <td>b69ac6792</td>\n      <td>NaN</td>\n      <td>NaN</td>\n      <td>As Roger had predicted, the snow departed as q...</td>\n      <td>-0.580118</td>\n      <td>0.476676</td>\n    </tr>\n    <tr>\n      <th>3</th>\n      <td>dd1000b26</td>\n      <td>NaN</td>\n      <td>NaN</td>\n      <td>And outside before the palace a great garden w...</td>\n      <td>-1.054013</td>\n      <td>0.450007</td>\n    </tr>\n    <tr>\n      <th>4</th>\n      <td>37c1b32fb</td>\n      <td>NaN</td>\n      <td>NaN</td>\n      <td>Once upon a time there were Three Bears who li...</td>\n      <td>0.247197</td>\n      <td>0.510845</td>\n    </tr>\n  </tbody>\n</table>\n</div>"
     },
     "execution_count": 108,
     "metadata": {},
     "output_type": "execute_result"
    }
   ],
   "source": [
    "data = pd.read_csv('../datasets/train.csv')\n",
    "data.head()"
   ]
  },
  {
   "cell_type": "code",
   "execution_count": 109,
   "id": "ca2355f2-55c6-4311-91b7-e5bc21610225",
   "metadata": {},
   "outputs": [
    {
     "data": {
      "text/plain": "(2834, 3)"
     },
     "execution_count": 109,
     "metadata": {},
     "output_type": "execute_result"
    }
   ],
   "source": [
    "X_train_roberta = joblib.load('roberta_mlm_cv_train/roberta_large_tr_p.pkl')\n",
    "X_train_alberta = joblib.load('albert_mlm_cv_train/albert_xxlarge_v2_tr_p.pkl')\n",
    "X_train_electra = joblib.load('electra_cv_train/electra_large_tr_p.pkl')\n",
    "X_train_stacking = np.concatenate((X_train_roberta, X_train_alberta, X_train_electra), axis=1)\n",
    "X_train_stacking.shape"
   ]
  },
  {
   "cell_type": "code",
   "execution_count": 110,
   "outputs": [
    {
     "data": {
      "text/plain": "Ridge(alpha=0.001, max_iter=1000)"
     },
     "execution_count": 110,
     "metadata": {},
     "output_type": "execute_result"
    }
   ],
   "source": [
    "ridge_reg = Ridge(alpha=0.001, max_iter=1000)  # 设置alpha=0.001(Regularization strength)\n",
    "ridge_reg.fit(X_train_stacking, data['target'].values)"
   ],
   "metadata": {
    "collapsed": false,
    "pycharm": {
     "name": "#%%\n"
    }
   }
  },
  {
   "cell_type": "code",
   "execution_count": 111,
   "id": "ff09b863-108c-4710-a9ec-0c211062defe",
   "metadata": {},
   "outputs": [
    {
     "data": {
      "text/plain": "array([[-1.2130673 , -1.2349802 , -1.0639806 ],\n       [-0.48608837, -0.51714957, -0.56315154],\n       [-1.1838045 , -1.0915611 , -1.0860678 ],\n       [-1.3047185 , -1.3212792 , -1.2881937 ],\n       [-0.64509046, -0.65288514, -0.6494516 ],\n       [-0.87645596, -0.91668445, -0.83477944],\n       [-1.1311338 , -1.2475598 , -1.1726393 ]], dtype=float32)"
     },
     "execution_count": 111,
     "metadata": {},
     "output_type": "execute_result"
    }
   ],
   "source": [
    "X_test_roberta = joblib.load('roberta_mlm_cv_train/roberta_large_te_pr.pkl').reshape(7, -1).mean(axis=1)\n",
    "X_test_alberta = joblib.load('albert_mlm_cv_train/albert_xxlarge_v2_te_pr.pkl').reshape(7, -1).mean(axis=1)\n",
    "X_test_electra = joblib.load('electra_cv_train/electra_large_te_pr.pkl').reshape(7, -1).mean(axis=1)\n",
    "X_test_stacking = np.stack((X_test_roberta, X_test_alberta, X_test_electra), axis=1)\n",
    "X_test_stacking"
   ]
  },
  {
   "cell_type": "code",
   "execution_count": 112,
   "id": "2ed6fe64-c883-44ae-85b2-723bb27a8d83",
   "metadata": {},
   "outputs": [
    {
     "data": {
      "text/plain": "array([-0.9621451 , -0.9655635 , -0.9671495 , -0.9493204 , -0.9681693 ,\n       -0.9625077 , -0.94282806], dtype=float32)"
     },
     "execution_count": 112,
     "metadata": {},
     "output_type": "execute_result"
    }
   ],
   "source": [
    "ridge_reg.predict(X_test_stacking)  # stacking模型融合"
   ]
  },
  {
   "cell_type": "code",
   "execution_count": 113,
   "id": "e3290c49-dfc8-4a2c-8197-19c006e10563",
   "metadata": {},
   "outputs": [
    {
     "data": {
      "text/plain": "array([-1.1749152 , -0.5185257 , -1.1268104 , -1.3047293 , -0.64873725,\n       -0.8760215 , -1.1785133 ], dtype=float32)"
     },
     "execution_count": 113,
     "metadata": {},
     "output_type": "execute_result"
    }
   ],
   "source": [
    "X_test_roberta * 0.4 + X_test_alberta * 0.3 + X_test_electra * 0.3  # 线性加权融合(可通过optuna包搜索各模型权重(为超参数))"
   ]
  },
  {
   "cell_type": "code",
   "execution_count": 113,
   "id": "1bae8600-7a1f-42fa-b2f5-c9a1931f9a75",
   "metadata": {},
   "outputs": [],
   "source": []
  }
 ],
 "metadata": {
  "kernelspec": {
   "display_name": "Python [conda env:pytorch_env]",
   "language": "python",
   "name": "conda-env-pytorch_env-py"
  },
  "language_info": {
   "codemirror_mode": {
    "name": "ipython",
    "version": 3
   },
   "file_extension": ".py",
   "mimetype": "text/x-python",
   "name": "python",
   "nbconvert_exporter": "python",
   "pygments_lexer": "ipython3",
   "version": "3.8.12"
  }
 },
 "nbformat": 4,
 "nbformat_minor": 5
}