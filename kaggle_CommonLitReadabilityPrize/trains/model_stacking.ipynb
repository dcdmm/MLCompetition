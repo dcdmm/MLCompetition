{
 "cells": [
  {
   "cell_type": "code",
   "execution_count": 3,
   "id": "f3c0c4b9-5baa-4b7f-ad2d-fa07792c8932",
   "metadata": {},
   "outputs": [],
   "source": [
    "from sklearn.linear_model import Ridge\n",
    "import joblib\n",
    "import pandas as pd\n",
    "import numpy as np\n",
    "from sklearn.utils import shuffle"
   ]
  },
  {
   "cell_type": "code",
   "execution_count": 4,
   "id": "d6c65570-6506-4318-abc6-c2490aba2abb",
   "metadata": {},
   "outputs": [
    {
     "data": {
      "text/plain": "          id                                          url_legal       license  \\\n0  b51730f9c                                                NaN           NaN   \n1  4d403fd57  https://en.wikipedia.org/wiki/Artificial_intel...  CC BY-SA 3.0   \n2  0f789ee41                                                NaN           NaN   \n3  87f96eb79                                                NaN           NaN   \n4  b9cca6661                                                NaN           NaN   \n\n                                             excerpt    target  \\\n0  Alice looked at the jury-box, and saw that, in... -0.432678   \n1  Artificial intelligence (AI) is intelligence e... -1.161746   \n2  A gruff squire on horseback with shiny top boo... -2.367914   \n3  But that hadn't helped Washington.\\nThe Americ... -0.842596   \n4  The principal business of the people of this c... -0.748452   \n\n   standard_error  fold  \n0        0.487498     0  \n1        0.458396     2  \n2        0.519369     4  \n3        0.466193     0  \n4        0.433000     4  ",
      "text/html": "<div>\n<style scoped>\n    .dataframe tbody tr th:only-of-type {\n        vertical-align: middle;\n    }\n\n    .dataframe tbody tr th {\n        vertical-align: top;\n    }\n\n    .dataframe thead th {\n        text-align: right;\n    }\n</style>\n<table border=\"1\" class=\"dataframe\">\n  <thead>\n    <tr style=\"text-align: right;\">\n      <th></th>\n      <th>id</th>\n      <th>url_legal</th>\n      <th>license</th>\n      <th>excerpt</th>\n      <th>target</th>\n      <th>standard_error</th>\n      <th>fold</th>\n    </tr>\n  </thead>\n  <tbody>\n    <tr>\n      <th>0</th>\n      <td>b51730f9c</td>\n      <td>NaN</td>\n      <td>NaN</td>\n      <td>Alice looked at the jury-box, and saw that, in...</td>\n      <td>-0.432678</td>\n      <td>0.487498</td>\n      <td>0</td>\n    </tr>\n    <tr>\n      <th>1</th>\n      <td>4d403fd57</td>\n      <td>https://en.wikipedia.org/wiki/Artificial_intel...</td>\n      <td>CC BY-SA 3.0</td>\n      <td>Artificial intelligence (AI) is intelligence e...</td>\n      <td>-1.161746</td>\n      <td>0.458396</td>\n      <td>2</td>\n    </tr>\n    <tr>\n      <th>2</th>\n      <td>0f789ee41</td>\n      <td>NaN</td>\n      <td>NaN</td>\n      <td>A gruff squire on horseback with shiny top boo...</td>\n      <td>-2.367914</td>\n      <td>0.519369</td>\n      <td>4</td>\n    </tr>\n    <tr>\n      <th>3</th>\n      <td>87f96eb79</td>\n      <td>NaN</td>\n      <td>NaN</td>\n      <td>But that hadn't helped Washington.\\nThe Americ...</td>\n      <td>-0.842596</td>\n      <td>0.466193</td>\n      <td>0</td>\n    </tr>\n    <tr>\n      <th>4</th>\n      <td>b9cca6661</td>\n      <td>NaN</td>\n      <td>NaN</td>\n      <td>The principal business of the people of this c...</td>\n      <td>-0.748452</td>\n      <td>0.433000</td>\n      <td>4</td>\n    </tr>\n  </tbody>\n</table>\n</div>"
     },
     "execution_count": 4,
     "metadata": {},
     "output_type": "execute_result"
    }
   ],
   "source": [
    "data_oof = pd.read_csv(\"../data/df_train_oof.csv\", index_col=0)  # 加载分层5折数据集\n",
    "data_oof.head()"
   ]
  },
  {
   "cell_type": "code",
   "execution_count": 5,
   "id": "f551562f-d983-4a35-be9c-4f47c2dfd5a1",
   "metadata": {},
   "outputs": [
    {
     "data": {
      "text/plain": "array([-0.43267753, -0.84259602, -2.40380493, ..., -2.13429795,\n       -1.2519907 , -0.6052157 ])"
     },
     "execution_count": 5,
     "metadata": {},
     "output_type": "execute_result"
    }
   ],
   "source": [
    "y_train = pd.concat([data_oof[data_oof['fold'] == 0]['target'], \n",
    "                     data_oof[data_oof['fold'] == 1]['target'], \n",
    "                     data_oof[data_oof['fold'] == 2]['target'],\n",
    "                     data_oof[data_oof['fold'] == 3]['target'],\n",
    "                     data_oof[data_oof['fold'] == 4]['target']]).values\n",
    "y_train"
   ]
  },
  {
   "cell_type": "code",
   "execution_count": 6,
   "id": "ca2355f2-55c6-4311-91b7-e5bc21610225",
   "metadata": {},
   "outputs": [
    {
     "data": {
      "text/plain": "(2834, 3)"
     },
     "execution_count": 6,
     "metadata": {},
     "output_type": "execute_result"
    }
   ],
   "source": [
    "X_train_roberta = joblib.load('roberta_mlm_cv_train/roberta_large_tr.pkl')\n",
    "X_train_alberta = joblib.load('albert_mlm_cv_train/albert_xxlarge_v2_tr.pkl')\n",
    "X_train_electra = joblib.load('electra_cv_train/electra_large_tr.pkl')\n",
    "X_train_stacking = np.concatenate((X_train_roberta, X_train_alberta, X_train_electra), axis=1)\n",
    "X_train_stacking.shape"
   ]
  },
  {
   "cell_type": "code",
   "execution_count": 7,
   "id": "c6972e75-2b53-4e67-8458-cd3ffc274141",
   "metadata": {},
   "outputs": [],
   "source": [
    "X_train_stacking, y_train = shuffle(X_train_stacking, y_train, random_state=42) "
   ]
  },
  {
   "cell_type": "code",
   "execution_count": 8,
   "id": "bcc2f908",
   "metadata": {
    "collapsed": false,
    "jupyter": {
     "outputs_hidden": false
    },
    "pycharm": {
     "name": "#%%\n"
    }
   },
   "outputs": [
    {
     "data": {
      "text/plain": "Ridge(alpha=0.001, max_iter=1000)"
     },
     "execution_count": 8,
     "metadata": {},
     "output_type": "execute_result"
    }
   ],
   "source": [
    "ridge_reg = Ridge(alpha=0.001, max_iter=1000)  # 设置alpha=0.001(Regularization strength)\n",
    "ridge_reg.fit(X_train_stacking, y_train)"
   ]
  },
  {
   "cell_type": "code",
   "execution_count": 9,
   "id": "ff09b863-108c-4710-a9ec-0c211062defe",
   "metadata": {},
   "outputs": [
    {
     "data": {
      "text/plain": "array([[-1.2130673 , -1.2349802 , -1.0639806 ],\n       [-0.48608837, -0.51714957, -0.56315154],\n       [-1.1838045 , -1.0915611 , -1.0860678 ],\n       [-1.3047185 , -1.3212792 , -1.2881937 ],\n       [-0.64509046, -0.65288514, -0.6494516 ],\n       [-0.87645596, -0.91668445, -0.83477944],\n       [-1.1311338 , -1.2475598 , -1.1726393 ]], dtype=float32)"
     },
     "execution_count": 9,
     "metadata": {},
     "output_type": "execute_result"
    }
   ],
   "source": [
    "X_test_roberta = joblib.load('roberta_mlm_cv_train/roberta_large_te.pkl').reshape(7, -1).mean(axis=1)\n",
    "X_test_alberta = joblib.load('albert_mlm_cv_train/albert_xxlarge_v2_te.pkl').reshape(7, -1).mean(axis=1)\n",
    "X_test_electra = joblib.load('electra_cv_train/electra_large_te.pkl').reshape(7, -1).mean(axis=1)\n",
    "X_test_stacking = np.stack((X_test_roberta, X_test_alberta, X_test_electra), axis=1)\n",
    "X_test_stacking"
   ]
  },
  {
   "cell_type": "code",
   "execution_count": 10,
   "id": "2ed6fe64-c883-44ae-85b2-723bb27a8d83",
   "metadata": {},
   "outputs": [
    {
     "data": {
      "text/plain": "array([-1.167804  , -0.5094876 , -1.1230512 , -1.3069384 , -0.6390131 ,\n       -0.86803937, -1.1795855 ], dtype=float32)"
     },
     "execution_count": 10,
     "metadata": {},
     "output_type": "execute_result"
    }
   ],
   "source": [
    "ridge_reg.predict(X_test_stacking)  # stacking模型融合"
   ]
  },
  {
   "cell_type": "code",
   "execution_count": 11,
   "id": "e3290c49-dfc8-4a2c-8197-19c006e10563",
   "metadata": {},
   "outputs": [
    {
     "data": {
      "text/plain": "array([-1.1749152 , -0.5185257 , -1.1268104 , -1.3047293 , -0.64873725,\n       -0.8760215 , -1.1785133 ], dtype=float32)"
     },
     "execution_count": 11,
     "metadata": {},
     "output_type": "execute_result"
    }
   ],
   "source": [
    "X_test_roberta * 0.4 + X_test_alberta * 0.3 + X_test_electra * 0.3  # 线性加权融合(可通过optuna包搜索各模型权重(为超参数))"
   ]
  },
  {
   "cell_type": "code",
   "execution_count": null,
   "id": "1bae8600-7a1f-42fa-b2f5-c9a1931f9a75",
   "metadata": {},
   "outputs": [],
   "source": []
  }
 ],
 "metadata": {
  "kernelspec": {
   "display_name": "Python [conda env:pytorch_env]",
   "language": "python",
   "name": "conda-env-pytorch_env-py"
  },
  "language_info": {
   "codemirror_mode": {
    "name": "ipython",
    "version": 3
   },
   "file_extension": ".py",
   "mimetype": "text/x-python",
   "name": "python",
   "nbconvert_exporter": "python",
   "pygments_lexer": "ipython3",
   "version": "3.8.12"
  }
 },
 "nbformat": 4,
 "nbformat_minor": 5
}