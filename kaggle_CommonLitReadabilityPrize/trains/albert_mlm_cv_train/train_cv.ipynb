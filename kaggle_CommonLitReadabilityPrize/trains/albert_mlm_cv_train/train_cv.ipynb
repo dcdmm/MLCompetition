{
 "cells": [
  {
   "cell_type": "code",
   "execution_count": 2,
   "id": "6ff3fdd7-b7f5-4d28-9ef2-a82cde5940a1",
   "metadata": {},
   "outputs": [],
   "source": [
    "from transformers import AutoModel, AutoTokenizer\n",
    "import torch\n",
    "import numpy as np\n",
    "import random\n",
    "import pandas as pd\n",
    "import torch.nn as nn\n",
    "import torch.utils.data as Data\n",
    "import torch.optim as optim\n",
    "from torch.optim.lr_scheduler import LambdaLR\n",
    "import copy\n",
    "import math\n",
    "import torch.nn.functional as F\n",
    "import joblib"
   ]
  },
  {
   "cell_type": "code",
   "execution_count": 3,
   "id": "14a56537-1c56-4550-ab87-8164bdd5fb04",
   "metadata": {},
   "outputs": [],
   "source": [
    "def set_seed(seed):\n",
    "    \"\"\"PyTorch随机数种子设置大全\"\"\"\n",
    "    np.random.seed(seed)\n",
    "    random.seed(seed)\n",
    "    torch.manual_seed(seed)  # CPU上设置随机种子\n",
    "    if torch.cuda.is_available():\n",
    "        torch.cuda.manual_seed(seed)  # 当前GPU上设置随机种子\n",
    "        # torch.cuda.manual_seed_all(seed) # 所有GPU上设置随机种子\n",
    "\n",
    "\n",
    "seed = 42\n",
    "set_seed(seed)"
   ]
  },
  {
   "cell_type": "code",
   "execution_count": 4,
   "id": "eae0ff35-0723-426d-afbf-c2a8427e8f8e",
   "metadata": {},
   "outputs": [
    {
     "data": {
      "text/plain": [
       "device(type='cuda')"
      ]
     },
     "execution_count": 4,
     "metadata": {},
     "output_type": "execute_result"
    }
   ],
   "source": [
    "device = torch.device(\"cuda\" if torch.cuda.is_available() else \"cpu\")\n",
    "device"
   ]
  },
  {
   "cell_type": "code",
   "execution_count": 5,
   "id": "18c98767-dae4-4227-a7fb-534fcbf29bb6",
   "metadata": {},
   "outputs": [
    {
     "data": {
      "text/html": [
       "<div>\n",
       "<style scoped>\n",
       "    .dataframe tbody tr th:only-of-type {\n",
       "        vertical-align: middle;\n",
       "    }\n",
       "\n",
       "    .dataframe tbody tr th {\n",
       "        vertical-align: top;\n",
       "    }\n",
       "\n",
       "    .dataframe thead th {\n",
       "        text-align: right;\n",
       "    }\n",
       "</style>\n",
       "<table border=\"1\" class=\"dataframe\">\n",
       "  <thead>\n",
       "    <tr style=\"text-align: right;\">\n",
       "      <th></th>\n",
       "      <th>id</th>\n",
       "      <th>url_legal</th>\n",
       "      <th>license</th>\n",
       "      <th>excerpt</th>\n",
       "    </tr>\n",
       "  </thead>\n",
       "  <tbody>\n",
       "    <tr>\n",
       "      <th>0</th>\n",
       "      <td>c0f722661</td>\n",
       "      <td>NaN</td>\n",
       "      <td>NaN</td>\n",
       "      <td>My hope lay in Jack's promise that he would ke...</td>\n",
       "    </tr>\n",
       "    <tr>\n",
       "      <th>1</th>\n",
       "      <td>f0953f0a5</td>\n",
       "      <td>NaN</td>\n",
       "      <td>NaN</td>\n",
       "      <td>Dotty continued to go to Mrs. Gray's every nig...</td>\n",
       "    </tr>\n",
       "    <tr>\n",
       "      <th>2</th>\n",
       "      <td>0df072751</td>\n",
       "      <td>NaN</td>\n",
       "      <td>NaN</td>\n",
       "      <td>It was a bright and cheerful scene that greete...</td>\n",
       "    </tr>\n",
       "    <tr>\n",
       "      <th>3</th>\n",
       "      <td>04caf4e0c</td>\n",
       "      <td>https://en.wikipedia.org/wiki/Cell_division</td>\n",
       "      <td>CC BY-SA 3.0</td>\n",
       "      <td>Cell division is the process by which a parent...</td>\n",
       "    </tr>\n",
       "    <tr>\n",
       "      <th>4</th>\n",
       "      <td>0e63f8bea</td>\n",
       "      <td>https://en.wikipedia.org/wiki/Debugging</td>\n",
       "      <td>CC BY-SA 3.0</td>\n",
       "      <td>Debugging is the process of finding and resolv...</td>\n",
       "    </tr>\n",
       "  </tbody>\n",
       "</table>\n",
       "</div>"
      ],
      "text/plain": [
       "          id                                    url_legal       license  \\\n",
       "0  c0f722661                                          NaN           NaN   \n",
       "1  f0953f0a5                                          NaN           NaN   \n",
       "2  0df072751                                          NaN           NaN   \n",
       "3  04caf4e0c  https://en.wikipedia.org/wiki/Cell_division  CC BY-SA 3.0   \n",
       "4  0e63f8bea      https://en.wikipedia.org/wiki/Debugging  CC BY-SA 3.0   \n",
       "\n",
       "                                             excerpt  \n",
       "0  My hope lay in Jack's promise that he would ke...  \n",
       "1  Dotty continued to go to Mrs. Gray's every nig...  \n",
       "2  It was a bright and cheerful scene that greete...  \n",
       "3  Cell division is the process by which a parent...  \n",
       "4  Debugging is the process of finding and resolv...  "
      ]
     },
     "execution_count": 5,
     "metadata": {},
     "output_type": "execute_result"
    }
   ],
   "source": [
    "df_test = pd.read_csv(\"../../datasets/test.csv\")\n",
    "df_test.head()"
   ]
  },
  {
   "cell_type": "code",
   "execution_count": 6,
   "id": "daa3b6d5-0dac-42db-86c7-670da300a74a",
   "metadata": {},
   "outputs": [
    {
     "name": "stdout",
     "output_type": "stream",
     "text": [
      "My hope lay in Jack's promise that he would keep a bright light burning in the upper story to guide me on my course. On a clear night this light was visible from the village, but somehow or other I failed to take into account the state of the weather. The air was full of eddying flakes, which would render the headlight of a locomotive invisible a hundred yards distant. Strange that this important fact never occurred to me until I was fully a fourth of a mile from the village. Then, after looking in vain for the beacon light, the danger of my situation struck me, and I halted.\n",
      "\"I am certain to go wrong,\" I said to myself.\n",
      "\"It is out of my power to follow a direct course without something to serve as a compass. I will go back to the village and wait till morning.\"\n"
     ]
    }
   ],
   "source": [
    "class MyDataset(Data.Dataset):\n",
    "    \"\"\"定义数据集\"\"\"\n",
    "\n",
    "    def __init__(self, df, have_target=True):\n",
    "        self.dataset = df\n",
    "        self.have_target = have_target\n",
    "\n",
    "    def __len__(self):\n",
    "        return len(self.dataset)\n",
    "\n",
    "    def __getitem__(self, i):\n",
    "        \"\"\"定义索引方式\"\"\"\n",
    "        text = self.dataset.iloc[i]['excerpt']\n",
    "        if self.have_target:\n",
    "            target = self.dataset.iloc[i]['target']\n",
    "            return text, target\n",
    "        else:\n",
    "            return text,\n",
    "\n",
    "\n",
    "data_test = MyDataset(df_test, have_target=False)\n",
    "\n",
    "for text, in data_test:\n",
    "    # 调用__getitem__方法\n",
    "    print(text)\n",
    "    break"
   ]
  },
  {
   "cell_type": "code",
   "execution_count": 7,
   "id": "1f0b778e-bf46-445a-9ba2-85dfad48343b",
   "metadata": {},
   "outputs": [
    {
     "data": {
      "application/vnd.jupyter.widget-view+json": {
       "model_id": "dd84a0eea08f43359fc7d31a30d2b2e4",
       "version_major": 2,
       "version_minor": 0
      },
      "text/plain": [
       "Downloading:   0%|          | 0.00/710 [00:00<?, ?B/s]"
      ]
     },
     "metadata": {},
     "output_type": "display_data"
    },
    {
     "data": {
      "application/vnd.jupyter.widget-view+json": {
       "model_id": "9c0afcf43a2c4265ad27c4d4d3fac73f",
       "version_major": 2,
       "version_minor": 0
      },
      "text/plain": [
       "Downloading:   0%|          | 0.00/742k [00:00<?, ?B/s]"
      ]
     },
     "metadata": {},
     "output_type": "display_data"
    },
    {
     "data": {
      "application/vnd.jupyter.widget-view+json": {
       "model_id": "ce2ac8fda2ee405dba9296b812191146",
       "version_major": 2,
       "version_minor": 0
      },
      "text/plain": [
       "Downloading:   0%|          | 0.00/1.25M [00:00<?, ?B/s]"
      ]
     },
     "metadata": {},
     "output_type": "display_data"
    },
    {
     "name": "stdout",
     "output_type": "stream",
     "text": [
      "['input_ids', 'token_type_ids', 'attention_mask']\n"
     ]
    },
    {
     "name": "stderr",
     "output_type": "stream",
     "text": [
      "Some weights of the model checkpoint at ../继续训练预训练模型_albert-xxlarge-v2/save_model/ were not used when initializing AlbertModel: ['predictions.dense.bias', 'predictions.decoder.weight', 'predictions.bias', 'predictions.decoder.bias', 'predictions.LayerNorm.weight', 'predictions.dense.weight', 'predictions.LayerNorm.bias']\n",
      "- This IS expected if you are initializing AlbertModel from the checkpoint of a model trained on another task or with another architecture (e.g. initializing a BertForSequenceClassification model from a BertForPreTraining model).\n",
      "- This IS NOT expected if you are initializing AlbertModel from the checkpoint of a model that you expect to be exactly identical (initializing a BertForSequenceClassification model from a BertForSequenceClassification model).\n",
      "Some weights of AlbertModel were not initialized from the model checkpoint at ../继续训练预训练模型_albert-xxlarge-v2/save_model/ and are newly initialized: ['albert.pooler.bias', 'albert.pooler.weight']\n",
      "You should probably TRAIN this model on a down-stream task to be able to use it for predictions and inference.\n"
     ]
    },
    {
     "name": "stdout",
     "output_type": "stream",
     "text": [
      "222595584\n"
     ]
    }
   ],
   "source": [
    "model_name = 'albert-xxlarge-v2'\n",
    "\n",
    "tokenizer = AutoTokenizer.from_pretrained(model_name)\n",
    "print(tokenizer.model_input_names)\n",
    "\n",
    "pretrained = AutoModel.from_pretrained('../继续训练预训练模型_albert-xxlarge-v2/save_model/')\n",
    "print(pretrained.num_parameters())  # 参数量"
   ]
  },
  {
   "cell_type": "code",
   "execution_count": 8,
   "id": "f034d3a2-ef46-491c-907f-1f43ff3f8c43",
   "metadata": {},
   "outputs": [
    {
     "name": "stdout",
     "output_type": "stream",
     "text": [
      "tensor([[    2,    51,  1376,  ...,     0,     0,     0],\n",
      "        [    2,   107, 12007,  ...,     0,     0,     0],\n",
      "        [    2,    32,    23,  ...,     0,     0,     0],\n",
      "        ...,\n",
      "        [    2,   121, 16254,  ...,     0,     0,     0],\n",
      "        [    2,    20,  3271,  ...,     0,     0,     0],\n",
      "        [    2,  4820,    58,  ...,     0,     0,     0]])\n",
      "tensor([[1, 1, 1,  ..., 0, 0, 0],\n",
      "        [1, 1, 1,  ..., 0, 0, 0],\n",
      "        [1, 1, 1,  ..., 0, 0, 0],\n",
      "        ...,\n",
      "        [1, 1, 1,  ..., 0, 0, 0],\n",
      "        [1, 1, 1,  ..., 0, 0, 0],\n",
      "        [1, 1, 1,  ..., 0, 0, 0]])\n",
      "tensor([[0, 0, 0,  ..., 0, 0, 0],\n",
      "        [0, 0, 0,  ..., 0, 0, 0],\n",
      "        [0, 0, 0,  ..., 0, 0, 0],\n",
      "        ...,\n",
      "        [0, 0, 0,  ..., 0, 0, 0],\n",
      "        [0, 0, 0,  ..., 0, 0, 0],\n",
      "        [0, 0, 0,  ..., 0, 0, 0]])\n"
     ]
    }
   ],
   "source": [
    "def get_collate_fn(tokenizer, max_len=256):\n",
    "    \"\"\"返回collate_fun函数(通过闭包函数引入形参)\"\"\"\n",
    "\n",
    "    def collate_fn(data):\n",
    "        sents = [i[0] for i in data]\n",
    "\n",
    "        # 批量编码句子\n",
    "        text_t = tokenizer(text=sents,\n",
    "                           truncation=True,\n",
    "                           padding='max_length',\n",
    "                           max_length=max_len,\n",
    "                           return_token_type_ids=True,\n",
    "                           return_attention_mask=True,\n",
    "                           return_tensors='pt')\n",
    "\n",
    "        input_ids = text_t['input_ids']\n",
    "        attention_mask = text_t['attention_mask']\n",
    "        token_type_ids = text_t['token_type_ids']\n",
    "        if len(data[0]) == 1:\n",
    "            return input_ids, attention_mask, token_type_ids\n",
    "        else:\n",
    "            target = torch.tensor([i[1] for i in data], dtype=torch.float32)\n",
    "            return input_ids, attention_mask, token_type_ids, target\n",
    "\n",
    "    return collate_fn\n",
    "\n",
    "\n",
    "dataloader_test = torch.utils.data.DataLoader(dataset=data_test, batch_size=8, collate_fn=get_collate_fn(tokenizer),\n",
    "                                              shuffle=False)\n",
    "\n",
    "for input_ids, attention_mask, token_type_ids in dataloader_test:\n",
    "    print(input_ids)\n",
    "    print(attention_mask)\n",
    "    print(token_type_ids)\n",
    "    break"
   ]
  },
  {
   "cell_type": "code",
   "execution_count": 9,
   "id": "a9341ead-9eb3-4b9f-8206-1fed869378b8",
   "metadata": {},
   "outputs": [],
   "source": [
    "class MyModel(nn.Module):\n",
    "    def __init__(self, pretrained):\n",
    "        super().__init__()\n",
    "        self.pretrained = pretrained\n",
    "        self.norm = nn.LayerNorm(4096)  # albert-xxlarge-v2隐藏层大小为4096\n",
    "        self.linear = nn.Linear(4096, 1)\n",
    "\n",
    "    def forward(self, input_ids, attention_mask, token_type_ids):\n",
    "        emb = self.pretrained(input_ids, attention_mask=attention_mask, token_type_ids=token_type_ids)[\n",
    "            \"last_hidden_state\"]\n",
    "        emb = torch.mean(emb, dim=1)\n",
    "        output = self.norm(emb)\n",
    "        output = self.linear(output)\n",
    "        return output"
   ]
  },
  {
   "cell_type": "code",
   "execution_count": 10,
   "id": "731ec72d-c893-46cc-bc7e-cb10431d9b04",
   "metadata": {},
   "outputs": [],
   "source": [
    "def get_parameters(model,\n",
    "                   pretrained_lr=2e-5,  # 预训练模型网络层学习率\n",
    "                   custom_lr=1e-4):  # 全自定义的网络层学习率\n",
    "    parameters = []\n",
    "\n",
    "    # 预训练模型网络层:\n",
    "    pretrained_params = {\n",
    "        'params': [param for name, param in model.named_parameters() if 'pretrained' in name],\n",
    "        'lr': pretrained_lr\n",
    "    }\n",
    "    parameters.append(pretrained_params)\n",
    "\n",
    "    # 自定义网络层:下游任务自定义的网络层(具体任务对应修改)\n",
    "    custom_params = {\n",
    "        'params': [param for name, param in model.named_parameters() if 'pretrained' not in name],\n",
    "        'lr': custom_lr\n",
    "    }\n",
    "    parameters.append(custom_params)\n",
    "    return parameters"
   ]
  },
  {
   "cell_type": "code",
   "execution_count": 11,
   "id": "f31cb7b3-7809-4099-823b-0d4005c4b2b1",
   "metadata": {},
   "outputs": [],
   "source": [
    "def get_cosine_schedule_with_warmup(optimizer, num_warmup_steps, num_training_steps, num_cycles=0.5):\n",
    "    \"\"\"\n",
    "    Create a schedule with a learning rate that decreases following the values of the cosine function between the\n",
    "    initial lr set in the optimizer to 0, after a warmup period during which it increases linearly between 0 and the\n",
    "    initial lr set in the optimizer.\n",
    "    Args:\n",
    "        optimizer ([`~torch.optim.Optimizer`]):\n",
    "            The optimizer for which to schedule the learning rate.\n",
    "        num_warmup_steps (`int`):\n",
    "            The number of steps for the warmup phase.\n",
    "        num_training_steps (`int`):\n",
    "            The total number of training steps.\n",
    "        num_cycles (`float`, *optional*, defaults to 0.5):\n",
    "            The number of waves in the cosine schedule (the defaults is to just decrease from the max value to 0\n",
    "            following a half-cosine).\n",
    "    Return:\n",
    "        `torch.optim.lr_scheduler.LambdaLR` with the appropriate schedule.\n",
    "    \"\"\"\n",
    "\n",
    "    def lr_lambda(current_step):\n",
    "        if current_step < num_warmup_steps:\n",
    "            # 学习率预热(线性增加)\n",
    "            return float(current_step) / float(max(1, num_warmup_steps))\n",
    "        progress = float(current_step - num_warmup_steps) / float(max(1, num_training_steps - num_warmup_steps))\n",
    "        return max(0.0, 0.5 * (1.0 + math.cos(math.pi * float(num_cycles) * 2.0 * progress)))  # 根据cos函数变化\n",
    "\n",
    "    return LambdaLR(optimizer, lr_lambda)"
   ]
  },
  {
   "cell_type": "markdown",
   "id": "dfb84365",
   "metadata": {
    "pycharm": {
     "name": "#%% md\n"
    }
   },
   "source": [
    "### 随机step次进行一次模型验证"
   ]
  },
  {
   "cell_type": "code",
   "execution_count": 12,
   "id": "1b2e8938-1c10-4901-8838-55d269f339f1",
   "metadata": {},
   "outputs": [],
   "source": [
    "# 模型验证\n",
    "def evaluate(model, dataloader, device):\n",
    "    model.eval()\n",
    "\n",
    "    loss_7 = []\n",
    "    with torch.no_grad():\n",
    "        for input_ids, attention_mask, token_type_ids, target in dataloader:\n",
    "            # 数据设备切换\n",
    "            input_ids = input_ids.to(device)\n",
    "            attention_mask = attention_mask.to(device)\n",
    "            token_type_ids = token_type_ids.to(device)\n",
    "            out = model(input_ids=input_ids, attention_mask=attention_mask, token_type_ids=token_type_ids)\n",
    "            loss = torch.sqrt(F.mse_loss(out.cpu().reshape(-1), target, reduction='mean'))\n",
    "            loss_7.append(loss.item())\n",
    "\n",
    "    return torch.mean(torch.tensor(loss_7)).item()  # 平均rmse\n",
    "\n",
    "\n",
    "# 每训练random.randint(8, 20)个step进行一次模型验证\n",
    "def train_and_evaluate(model, dataloader_train, dataloader_val, criterion, optimizer, scheduler_lr, epochs, device):\n",
    "    model.train()\n",
    "\n",
    "    best_valid_rmse = 1e7  # 最佳模型验证数据集的rmse\n",
    "    best_model_state_dict = [None]  # 最佳模型的状态字典\n",
    "    for epoch in range(1, epochs + 1):\n",
    "        val_idx = random.randint(8, 20)\n",
    "        for idx, (input_ids, attention_mask, token_type_ids, target) in enumerate(dataloader_train):\n",
    "            # 数据设备切换\n",
    "            input_ids = input_ids.to(device)\n",
    "            attention_mask = attention_mask.to(device)\n",
    "            token_type_ids = token_type_ids.to(device)\n",
    "            target = target.to(device)\n",
    "\n",
    "            optimizer.zero_grad()\n",
    "            out = model(input_ids=input_ids, attention_mask=attention_mask, token_type_ids=token_type_ids)\n",
    "            out = out.reshape(-1)\n",
    "\n",
    "            loss = criterion(out, target)  # 每个step的损失值\n",
    "\n",
    "            loss.backward()\n",
    "            optimizer.step()\n",
    "            scheduler_lr.step()\n",
    "\n",
    "            if idx == val_idx:\n",
    "                val_idx += random.randint(8, 20)\n",
    "                val_rmse = evaluate(model, dataloader_val, device)\n",
    "                if val_rmse < best_valid_rmse:\n",
    "                    best_valid_rmse = val_rmse\n",
    "                    best_model_state_dict.pop()\n",
    "                    best_model_state_dict.append(copy.deepcopy(model.state_dict()))  # 状态字典必须进行深拷贝\n",
    "                    print('| end of epoch {:5d} | step: {:5d} | valild rmse {:8.5f} |'.format(epoch, idx, val_rmse))\n",
    "\n",
    "    return best_valid_rmse, best_model_state_dict"
   ]
  },
  {
   "cell_type": "code",
   "execution_count": 13,
   "id": "8b265ed7-2561-4826-86c2-3fec9cee6b39",
   "metadata": {},
   "outputs": [
    {
     "data": {
      "text/html": [
       "<div>\n",
       "<style scoped>\n",
       "    .dataframe tbody tr th:only-of-type {\n",
       "        vertical-align: middle;\n",
       "    }\n",
       "\n",
       "    .dataframe tbody tr th {\n",
       "        vertical-align: top;\n",
       "    }\n",
       "\n",
       "    .dataframe thead th {\n",
       "        text-align: right;\n",
       "    }\n",
       "</style>\n",
       "<table border=\"1\" class=\"dataframe\">\n",
       "  <thead>\n",
       "    <tr style=\"text-align: right;\">\n",
       "      <th></th>\n",
       "      <th>id</th>\n",
       "      <th>url_legal</th>\n",
       "      <th>license</th>\n",
       "      <th>excerpt</th>\n",
       "      <th>target</th>\n",
       "      <th>standard_error</th>\n",
       "      <th>fold</th>\n",
       "    </tr>\n",
       "  </thead>\n",
       "  <tbody>\n",
       "    <tr>\n",
       "      <th>0</th>\n",
       "      <td>b51730f9c</td>\n",
       "      <td>NaN</td>\n",
       "      <td>NaN</td>\n",
       "      <td>Alice looked at the jury-box, and saw that, in...</td>\n",
       "      <td>-0.432678</td>\n",
       "      <td>0.487498</td>\n",
       "      <td>0</td>\n",
       "    </tr>\n",
       "    <tr>\n",
       "      <th>1</th>\n",
       "      <td>4d403fd57</td>\n",
       "      <td>https://en.wikipedia.org/wiki/Artificial_intel...</td>\n",
       "      <td>CC BY-SA 3.0</td>\n",
       "      <td>Artificial intelligence (AI) is intelligence e...</td>\n",
       "      <td>-1.161746</td>\n",
       "      <td>0.458396</td>\n",
       "      <td>2</td>\n",
       "    </tr>\n",
       "    <tr>\n",
       "      <th>2</th>\n",
       "      <td>0f789ee41</td>\n",
       "      <td>NaN</td>\n",
       "      <td>NaN</td>\n",
       "      <td>A gruff squire on horseback with shiny top boo...</td>\n",
       "      <td>-2.367914</td>\n",
       "      <td>0.519369</td>\n",
       "      <td>4</td>\n",
       "    </tr>\n",
       "    <tr>\n",
       "      <th>3</th>\n",
       "      <td>87f96eb79</td>\n",
       "      <td>NaN</td>\n",
       "      <td>NaN</td>\n",
       "      <td>But that hadn't helped Washington.\\nThe Americ...</td>\n",
       "      <td>-0.842596</td>\n",
       "      <td>0.466193</td>\n",
       "      <td>0</td>\n",
       "    </tr>\n",
       "    <tr>\n",
       "      <th>4</th>\n",
       "      <td>b9cca6661</td>\n",
       "      <td>NaN</td>\n",
       "      <td>NaN</td>\n",
       "      <td>The principal business of the people of this c...</td>\n",
       "      <td>-0.748452</td>\n",
       "      <td>0.433000</td>\n",
       "      <td>4</td>\n",
       "    </tr>\n",
       "  </tbody>\n",
       "</table>\n",
       "</div>"
      ],
      "text/plain": [
       "          id                                          url_legal       license  \\\n",
       "0  b51730f9c                                                NaN           NaN   \n",
       "1  4d403fd57  https://en.wikipedia.org/wiki/Artificial_intel...  CC BY-SA 3.0   \n",
       "2  0f789ee41                                                NaN           NaN   \n",
       "3  87f96eb79                                                NaN           NaN   \n",
       "4  b9cca6661                                                NaN           NaN   \n",
       "\n",
       "                                             excerpt    target  \\\n",
       "0  Alice looked at the jury-box, and saw that, in... -0.432678   \n",
       "1  Artificial intelligence (AI) is intelligence e... -1.161746   \n",
       "2  A gruff squire on horseback with shiny top boo... -2.367914   \n",
       "3  But that hadn't helped Washington.\\nThe Americ... -0.842596   \n",
       "4  The principal business of the people of this c... -0.748452   \n",
       "\n",
       "   standard_error  fold  \n",
       "0        0.487498     0  \n",
       "1        0.458396     2  \n",
       "2        0.519369     4  \n",
       "3        0.466193     0  \n",
       "4        0.433000     4  "
      ]
     },
     "execution_count": 13,
     "metadata": {},
     "output_type": "execute_result"
    }
   ],
   "source": [
    "data_oof = pd.read_csv(\"../../data/df_train_oof.csv\", index_col=0)  # 加载分层5折数据集\n",
    "data_oof.head()"
   ]
  },
  {
   "cell_type": "code",
   "execution_count": 14,
   "id": "1d6b0587-0bfe-41af-8085-20e2029cb009",
   "metadata": {},
   "outputs": [
    {
     "name": "stdout",
     "output_type": "stream",
     "text": [
      "****************************************0****************************************\n",
      "| end of epoch     1 | step:    18 | valild rmse  0.80530 |\n",
      "| end of epoch     1 | step:    27 | valild rmse  0.61621 |\n",
      "| end of epoch     1 | step:    35 | valild rmse  0.60319 |\n",
      "| end of epoch     1 | step:    54 | valild rmse  0.60014 |\n",
      "| end of epoch     1 | step:    77 | valild rmse  0.58998 |\n",
      "| end of epoch     1 | step:    98 | valild rmse  0.56372 |\n",
      "| end of epoch     1 | step:   117 | valild rmse  0.53360 |\n",
      "| end of epoch     1 | step:   144 | valild rmse  0.50319 |\n",
      "| end of epoch     1 | step:   235 | valild rmse  0.50028 |\n",
      "| end of epoch     2 | step:    72 | valild rmse  0.49407 |\n",
      "| end of epoch     2 | step:   121 | valild rmse  0.49014 |\n",
      "| end of epoch     2 | step:   132 | valild rmse  0.48111 |\n",
      "| end of epoch     2 | step:   196 | valild rmse  0.47319 |\n",
      "| end of epoch     2 | step:   204 | valild rmse  0.47230 |\n",
      "| end of epoch     3 | step:    35 | valild rmse  0.47162 |\n",
      "| end of epoch     3 | step:   237 | valild rmse  0.46719 |\n",
      "****************************************1****************************************\n",
      "| end of epoch     1 | step:    12 | valild rmse  0.81254 |\n",
      "| end of epoch     1 | step:    30 | valild rmse  0.63466 |\n",
      "| end of epoch     1 | step:    49 | valild rmse  0.58896 |\n",
      "| end of epoch     1 | step:    65 | valild rmse  0.58113 |\n",
      "| end of epoch     1 | step:    76 | valild rmse  0.54995 |\n",
      "| end of epoch     1 | step:    94 | valild rmse  0.54946 |\n",
      "| end of epoch     1 | step:   107 | valild rmse  0.52263 |\n",
      "| end of epoch     1 | step:   155 | valild rmse  0.50745 |\n",
      "| end of epoch     1 | step:   166 | valild rmse  0.50493 |\n",
      "| end of epoch     1 | step:   221 | valild rmse  0.49674 |\n",
      "| end of epoch     2 | step:    13 | valild rmse  0.49672 |\n",
      "| end of epoch     2 | step:    24 | valild rmse  0.48658 |\n",
      "| end of epoch     2 | step:    89 | valild rmse  0.47944 |\n",
      "| end of epoch     2 | step:   104 | valild rmse  0.47388 |\n",
      "| end of epoch     3 | step:    50 | valild rmse  0.47213 |\n",
      "| end of epoch     3 | step:    65 | valild rmse  0.46741 |\n",
      "| end of epoch     3 | step:    94 | valild rmse  0.46451 |\n",
      "| end of epoch     3 | step:   149 | valild rmse  0.46051 |\n",
      "| end of epoch     3 | step:   218 | valild rmse  0.46004 |\n",
      "| end of epoch     3 | step:   272 | valild rmse  0.45968 |\n",
      "| end of epoch     4 | step:    16 | valild rmse  0.45964 |\n",
      "| end of epoch     4 | step:    28 | valild rmse  0.45670 |\n",
      "| end of epoch     4 | step:    44 | valild rmse  0.45662 |\n",
      "****************************************2****************************************\n",
      "| end of epoch     1 | step:     8 | valild rmse  0.73483 |\n",
      "| end of epoch     1 | step:    38 | valild rmse  0.71206 |\n",
      "| end of epoch     1 | step:    53 | valild rmse  0.59656 |\n",
      "| end of epoch     1 | step:    83 | valild rmse  0.58647 |\n",
      "| end of epoch     1 | step:   126 | valild rmse  0.58000 |\n",
      "| end of epoch     1 | step:   134 | valild rmse  0.54555 |\n",
      "| end of epoch     1 | step:   180 | valild rmse  0.52587 |\n",
      "| end of epoch     1 | step:   199 | valild rmse  0.52431 |\n",
      "| end of epoch     1 | step:   243 | valild rmse  0.52017 |\n",
      "| end of epoch     1 | step:   259 | valild rmse  0.51107 |\n",
      "| end of epoch     1 | step:   279 | valild rmse  0.50696 |\n",
      "| end of epoch     2 | step:    97 | valild rmse  0.49707 |\n",
      "| end of epoch     2 | step:   213 | valild rmse  0.48771 |\n",
      "| end of epoch     2 | step:   243 | valild rmse  0.48204 |\n",
      "| end of epoch     3 | step:    86 | valild rmse  0.48042 |\n",
      "| end of epoch     3 | step:    97 | valild rmse  0.47667 |\n",
      "| end of epoch     3 | step:   199 | valild rmse  0.47484 |\n",
      "| end of epoch     3 | step:   272 | valild rmse  0.47326 |\n",
      "| end of epoch     4 | step:     8 | valild rmse  0.47090 |\n",
      "****************************************3****************************************\n",
      "| end of epoch     1 | step:    11 | valild rmse  0.94826 |\n",
      "| end of epoch     1 | step:    22 | valild rmse  0.86459 |\n",
      "| end of epoch     1 | step:    33 | valild rmse  0.65348 |\n",
      "| end of epoch     1 | step:    49 | valild rmse  0.61272 |\n",
      "| end of epoch     1 | step:    64 | valild rmse  0.59856 |\n",
      "| end of epoch     1 | step:   110 | valild rmse  0.57667 |\n",
      "| end of epoch     1 | step:   125 | valild rmse  0.56371 |\n",
      "| end of epoch     1 | step:   160 | valild rmse  0.54167 |\n",
      "| end of epoch     1 | step:   180 | valild rmse  0.53037 |\n",
      "| end of epoch     1 | step:   255 | valild rmse  0.51067 |\n",
      "| end of epoch     2 | step:    35 | valild rmse  0.50042 |\n",
      "| end of epoch     2 | step:   196 | valild rmse  0.49711 |\n",
      "| end of epoch     2 | step:   237 | valild rmse  0.49559 |\n",
      "| end of epoch     3 | step:   101 | valild rmse  0.49334 |\n",
      "| end of epoch     3 | step:   156 | valild rmse  0.49234 |\n",
      "| end of epoch     3 | step:   180 | valild rmse  0.49088 |\n",
      "| end of epoch     3 | step:   260 | valild rmse  0.48717 |\n",
      "| end of epoch     4 | step:    34 | valild rmse  0.48701 |\n",
      "| end of epoch     4 | step:   268 | valild rmse  0.48604 |\n",
      "****************************************4****************************************\n",
      "| end of epoch     1 | step:    17 | valild rmse  0.76461 |\n",
      "| end of epoch     1 | step:    34 | valild rmse  0.63709 |\n",
      "| end of epoch     1 | step:    43 | valild rmse  0.59049 |\n",
      "| end of epoch     1 | step:    52 | valild rmse  0.58028 |\n",
      "| end of epoch     1 | step:    68 | valild rmse  0.57659 |\n",
      "| end of epoch     1 | step:   117 | valild rmse  0.57611 |\n",
      "| end of epoch     1 | step:   130 | valild rmse  0.54279 |\n",
      "| end of epoch     1 | step:   185 | valild rmse  0.53275 |\n",
      "| end of epoch     1 | step:   247 | valild rmse  0.51583 |\n",
      "| end of epoch     2 | step:    42 | valild rmse  0.50660 |\n",
      "| end of epoch     2 | step:    76 | valild rmse  0.50565 |\n",
      "| end of epoch     2 | step:    88 | valild rmse  0.50431 |\n",
      "| end of epoch     2 | step:   146 | valild rmse  0.49214 |\n",
      "| end of epoch     3 | step:    47 | valild rmse  0.48305 |\n",
      "| end of epoch     4 | step:   120 | valild rmse  0.48237 |\n"
     ]
    }
   ],
   "source": [
    "fold_num_list = range(5)\n",
    "\n",
    "best_valid_rmse_lst = []  # 每折交叉验证最佳模型验证数据集的rmse\n",
    "\n",
    "for fold in fold_num_list:\n",
    "    print('*' * 40 + str(fold) + '*' * 40)\n",
    "\n",
    "    train_data = data_oof[data_oof['fold'] != fold]  # 训练数据集\n",
    "    val_data = data_oof[data_oof['fold'] == fold]  # 验证数据集\n",
    "    dataloader_train = torch.utils.data.DataLoader(dataset=MyDataset(train_data), batch_size=8,\n",
    "                                                   collate_fn=get_collate_fn(tokenizer), shuffle=True)\n",
    "    dataloader_val = torch.utils.data.DataLoader(dataset=MyDataset(val_data),\n",
    "                                                 # 测试数据只有7条((\\sqrt{(n1 + n2)/2} + \\sqrt{(n3 + n4)/2} + \\sqrt{(n5 + n6)/2}) / 3 不等于\\sqrt{(n1 + n2 + n3 + n4 + n5 + n6)/6})\n",
    "                                                 batch_size=7,\n",
    "                                                 collate_fn=get_collate_fn(tokenizer),\n",
    "                                                 shuffle=False, drop_last=True)\n",
    "\n",
    "    # **************************************************************************************\n",
    "    albert_xxlarge_v2 = MyModel(copy.deepcopy(pretrained))  # 必须进行深拷贝(pretrained会参与更新),否则会造成标签泄露\n",
    "    albert_xxlarge_v2 = albert_xxlarge_v2.to(device)\n",
    "\n",
    "    loss_mse = nn.MSELoss()\n",
    "\n",
    "    parameters = get_parameters(albert_xxlarge_v2, 2e-5, 1e-4)\n",
    "    # 优化器\n",
    "    optimizer_adamw = optim.AdamW(parameters)\n",
    "    scheduler_lr = get_cosine_schedule_with_warmup(optimizer_adamw, 0, len(dataloader_train) * 5)\n",
    "    # **************************************************************************************\n",
    "\n",
    "    bvr, bmsd = train_and_evaluate(albert_xxlarge_v2, dataloader_train, dataloader_val, loss_mse, optimizer_adamw,\n",
    "                                   scheduler_lr, 5, device)\n",
    "\n",
    "    best_valid_rmse_lst.append(bvr)\n",
    "    torch.save(bmsd, 'model' + str(fold) + '.bin')  # 保存最优模型的状态字典"
   ]
  },
  {
   "cell_type": "code",
   "execution_count": 15,
   "id": "7743b0b9-ba2a-43f6-9880-0bb413abeeb4",
   "metadata": {},
   "outputs": [],
   "source": [
    "# 模型预测\n",
    "def predict(model, dataloader, device):\n",
    "    model.eval()\n",
    "\n",
    "    predict_list = []\n",
    "    with torch.no_grad():\n",
    "        for i in dataloader:\n",
    "            # 数据设备\n",
    "            input_ids = i[0].to(device)\n",
    "            attention_mask = i[1].to(device)\n",
    "            token_type_ids = i[2].to(device)\n",
    "            out = model(input_ids=input_ids, attention_mask=attention_mask, token_type_ids=token_type_ids)\n",
    "            predict_list.append(out.cpu())\n",
    "    predict_all = torch.cat(predict_list, dim=0)\n",
    "    return predict_all"
   ]
  },
  {
   "cell_type": "code",
   "execution_count": 16,
   "id": "bc8154a9-de3e-4f9e-8ab4-f0694985c79f",
   "metadata": {},
   "outputs": [],
   "source": [
    "all_tr_predict = torch.tensor([]).reshape((0, 1))\n",
    "all_te_predict = torch.tensor([]).reshape((0, 1))\n",
    "\n",
    "for fold in fold_num_list:\n",
    "    val_d = data_oof[data_oof['fold'] == fold]\n",
    "    dl_val = torch.utils.data.DataLoader(dataset=MyDataset(val_d), batch_size=8, collate_fn=get_collate_fn(tokenizer))\n",
    "    # **************************************************************************************\n",
    "    albert_xxlarge_v2 = MyModel(copy.deepcopy(pretrained))  # 必须进行深拷贝(pretrained会参与更新),否则会造成标签泄露\n",
    "    best_state_dict = torch.load('model' + str(fold) + '.bin')\n",
    "    albert_xxlarge_v2.load_state_dict(best_state_dict[0])  # 记载状态字典\n",
    "    albert_xxlarge_v2 = albert_xxlarge_v2.to(device)\n",
    "    # **************************************************************************************\n",
    "    predict_result_tr = predict(albert_xxlarge_v2, dl_val, device)\n",
    "    all_tr_predict = torch.cat([all_tr_predict, predict_result_tr])\n",
    "\n",
    "    predict_result_te = predict(albert_xxlarge_v2, dataloader_test, device)\n",
    "    all_te_predict = torch.cat([all_te_predict, predict_result_te])"
   ]
  },
  {
   "cell_type": "code",
   "execution_count": 17,
   "id": "b6f6d6f6-b336-431a-b019-8466d9b89593",
   "metadata": {},
   "outputs": [
    {
     "data": {
      "text/plain": [
       "(torch.Size([2834, 1]), torch.Size([35, 1]))"
      ]
     },
     "execution_count": 17,
     "metadata": {},
     "output_type": "execute_result"
    }
   ],
   "source": [
    "all_tr_predict.shape, all_te_predict.shape"
   ]
  },
  {
   "cell_type": "code",
   "execution_count": 18,
   "id": "24f3475e-ad93-4a0c-acab-6769c4a529b6",
   "metadata": {},
   "outputs": [
    {
     "data": {
      "text/plain": [
       "['albert_xxlarge_v2_tr.pkl']"
      ]
     },
     "execution_count": 18,
     "metadata": {},
     "output_type": "execute_result"
    }
   ],
   "source": [
    "joblib.dump(all_tr_predict.numpy(), 'albert_xxlarge_v2_tr.pkl')"
   ]
  },
  {
   "cell_type": "code",
   "execution_count": 19,
   "id": "0452e8b7-1b58-4639-81fa-7db8ab2aa174",
   "metadata": {},
   "outputs": [
    {
     "data": {
      "text/plain": [
       "['albert_xxlarge_v2_te.pkl']"
      ]
     },
     "execution_count": 19,
     "metadata": {},
     "output_type": "execute_result"
    }
   ],
   "source": [
    "joblib.dump(all_te_predict.numpy(), 'albert_xxlarge_v2_te.pkl')"
   ]
  },
  {
   "cell_type": "code",
   "execution_count": null,
   "id": "a1946181-5d59-4714-843a-4a409a33da23",
   "metadata": {},
   "outputs": [],
   "source": []
  }
 ],
 "metadata": {
  "kernelspec": {
   "display_name": "Python [conda env:pytorch_env]",
   "language": "python",
   "name": "conda-env-pytorch_env-py"
  },
  "language_info": {
   "codemirror_mode": {
    "name": "ipython",
    "version": 3
   },
   "file_extension": ".py",
   "mimetype": "text/x-python",
   "name": "python",
   "nbconvert_exporter": "python",
   "pygments_lexer": "ipython3",
   "version": "3.8.12"
  }
 },
 "nbformat": 4,
 "nbformat_minor": 5
}
