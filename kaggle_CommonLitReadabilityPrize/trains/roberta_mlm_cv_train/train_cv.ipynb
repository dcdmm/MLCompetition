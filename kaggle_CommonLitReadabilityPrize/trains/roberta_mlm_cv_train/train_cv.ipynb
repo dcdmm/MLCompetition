{
 "cells": [
  {
   "cell_type": "code",
   "execution_count": 2,
   "id": "6ff3fdd7-b7f5-4d28-9ef2-a82cde5940a1",
   "metadata": {},
   "outputs": [],
   "source": [
    "from transformers import AutoModel, AutoTokenizer\n",
    "import torch\n",
    "import numpy as np\n",
    "import random\n",
    "import pandas as pd\n",
    "import torch.nn as nn\n",
    "import torch.utils.data as Data\n",
    "import torch.optim as optim\n",
    "from torch.optim.lr_scheduler import LambdaLR\n",
    "import copy\n",
    "import math\n",
    "import torch.nn.functional as F\n",
    "import joblib"
   ]
  },
  {
   "cell_type": "code",
   "execution_count": 3,
   "id": "14a56537-1c56-4550-ab87-8164bdd5fb04",
   "metadata": {},
   "outputs": [],
   "source": [
    "def set_seed(seed):\n",
    "    \"\"\"PyTorch随机数种子设置大全\"\"\"\n",
    "    np.random.seed(seed)\n",
    "    random.seed(seed)\n",
    "    torch.manual_seed(seed)  # CPU上设置随机种子\n",
    "    if torch.cuda.is_available():\n",
    "        torch.cuda.manual_seed(seed)  # 当前GPU上设置随机种子\n",
    "        # torch.cuda.manual_seed_all(seed) # 所有GPU上设置随机种子\n",
    "\n",
    "\n",
    "seed = 42\n",
    "set_seed(seed)"
   ]
  },
  {
   "cell_type": "code",
   "execution_count": 4,
   "id": "eae0ff35-0723-426d-afbf-c2a8427e8f8e",
   "metadata": {},
   "outputs": [
    {
     "data": {
      "text/plain": [
       "device(type='cuda')"
      ]
     },
     "execution_count": 4,
     "metadata": {},
     "output_type": "execute_result"
    }
   ],
   "source": [
    "device = torch.device(\"cuda\" if torch.cuda.is_available() else \"cpu\")\n",
    "device"
   ]
  },
  {
   "cell_type": "code",
   "execution_count": 5,
   "id": "18c98767-dae4-4227-a7fb-534fcbf29bb6",
   "metadata": {},
   "outputs": [
    {
     "data": {
      "text/html": [
       "<div>\n",
       "<style scoped>\n",
       "    .dataframe tbody tr th:only-of-type {\n",
       "        vertical-align: middle;\n",
       "    }\n",
       "\n",
       "    .dataframe tbody tr th {\n",
       "        vertical-align: top;\n",
       "    }\n",
       "\n",
       "    .dataframe thead th {\n",
       "        text-align: right;\n",
       "    }\n",
       "</style>\n",
       "<table border=\"1\" class=\"dataframe\">\n",
       "  <thead>\n",
       "    <tr style=\"text-align: right;\">\n",
       "      <th></th>\n",
       "      <th>id</th>\n",
       "      <th>url_legal</th>\n",
       "      <th>license</th>\n",
       "      <th>excerpt</th>\n",
       "    </tr>\n",
       "  </thead>\n",
       "  <tbody>\n",
       "    <tr>\n",
       "      <th>0</th>\n",
       "      <td>c0f722661</td>\n",
       "      <td>NaN</td>\n",
       "      <td>NaN</td>\n",
       "      <td>My hope lay in Jack's promise that he would ke...</td>\n",
       "    </tr>\n",
       "    <tr>\n",
       "      <th>1</th>\n",
       "      <td>f0953f0a5</td>\n",
       "      <td>NaN</td>\n",
       "      <td>NaN</td>\n",
       "      <td>Dotty continued to go to Mrs. Gray's every nig...</td>\n",
       "    </tr>\n",
       "    <tr>\n",
       "      <th>2</th>\n",
       "      <td>0df072751</td>\n",
       "      <td>NaN</td>\n",
       "      <td>NaN</td>\n",
       "      <td>It was a bright and cheerful scene that greete...</td>\n",
       "    </tr>\n",
       "    <tr>\n",
       "      <th>3</th>\n",
       "      <td>04caf4e0c</td>\n",
       "      <td>https://en.wikipedia.org/wiki/Cell_division</td>\n",
       "      <td>CC BY-SA 3.0</td>\n",
       "      <td>Cell division is the process by which a parent...</td>\n",
       "    </tr>\n",
       "    <tr>\n",
       "      <th>4</th>\n",
       "      <td>0e63f8bea</td>\n",
       "      <td>https://en.wikipedia.org/wiki/Debugging</td>\n",
       "      <td>CC BY-SA 3.0</td>\n",
       "      <td>Debugging is the process of finding and resolv...</td>\n",
       "    </tr>\n",
       "  </tbody>\n",
       "</table>\n",
       "</div>"
      ],
      "text/plain": [
       "          id                                    url_legal       license  \\\n",
       "0  c0f722661                                          NaN           NaN   \n",
       "1  f0953f0a5                                          NaN           NaN   \n",
       "2  0df072751                                          NaN           NaN   \n",
       "3  04caf4e0c  https://en.wikipedia.org/wiki/Cell_division  CC BY-SA 3.0   \n",
       "4  0e63f8bea      https://en.wikipedia.org/wiki/Debugging  CC BY-SA 3.0   \n",
       "\n",
       "                                             excerpt  \n",
       "0  My hope lay in Jack's promise that he would ke...  \n",
       "1  Dotty continued to go to Mrs. Gray's every nig...  \n",
       "2  It was a bright and cheerful scene that greete...  \n",
       "3  Cell division is the process by which a parent...  \n",
       "4  Debugging is the process of finding and resolv...  "
      ]
     },
     "execution_count": 5,
     "metadata": {},
     "output_type": "execute_result"
    }
   ],
   "source": [
    "df_test = pd.read_csv(\"../../datasets/test.csv\")\n",
    "df_test.head()"
   ]
  },
  {
   "cell_type": "code",
   "execution_count": 6,
   "id": "daa3b6d5-0dac-42db-86c7-670da300a74a",
   "metadata": {},
   "outputs": [
    {
     "name": "stdout",
     "output_type": "stream",
     "text": [
      "My hope lay in Jack's promise that he would keep a bright light burning in the upper story to guide me on my course. On a clear night this light was visible from the village, but somehow or other I failed to take into account the state of the weather. The air was full of eddying flakes, which would render the headlight of a locomotive invisible a hundred yards distant. Strange that this important fact never occurred to me until I was fully a fourth of a mile from the village. Then, after looking in vain for the beacon light, the danger of my situation struck me, and I halted.\n",
      "\"I am certain to go wrong,\" I said to myself.\n",
      "\"It is out of my power to follow a direct course without something to serve as a compass. I will go back to the village and wait till morning.\"\n"
     ]
    }
   ],
   "source": [
    "class MyDataset(Data.Dataset):\n",
    "    \"\"\"定义数据集\"\"\"\n",
    "\n",
    "    def __init__(self, df, have_target=True):\n",
    "        self.dataset = df\n",
    "        self.have_target = have_target\n",
    "\n",
    "    def __len__(self):\n",
    "        return len(self.dataset)\n",
    "\n",
    "    def __getitem__(self, i):\n",
    "        \"\"\"定义索引方式\"\"\"\n",
    "        text = self.dataset.iloc[i]['excerpt']\n",
    "        if self.have_target:\n",
    "            target = self.dataset.iloc[i]['target']\n",
    "            return text, target\n",
    "        else:\n",
    "            return text,\n",
    "\n",
    "\n",
    "data_test = MyDataset(df_test, have_target=False)\n",
    "\n",
    "for text, in data_test:\n",
    "    # 调用__getitem__方法\n",
    "    print(text)\n",
    "    break"
   ]
  },
  {
   "cell_type": "code",
   "execution_count": 7,
   "id": "1f0b778e-bf46-445a-9ba2-85dfad48343b",
   "metadata": {},
   "outputs": [
    {
     "data": {
      "application/vnd.jupyter.widget-view+json": {
       "model_id": "beb09fabe1ae40c3a6f65851ac245d2f",
       "version_major": 2,
       "version_minor": 0
      },
      "text/plain": [
       "Downloading:   0%|          | 0.00/482 [00:00<?, ?B/s]"
      ]
     },
     "metadata": {},
     "output_type": "display_data"
    },
    {
     "data": {
      "application/vnd.jupyter.widget-view+json": {
       "model_id": "de3af41541c140419e7701e1d10bb289",
       "version_major": 2,
       "version_minor": 0
      },
      "text/plain": [
       "Downloading:   0%|          | 0.00/878k [00:00<?, ?B/s]"
      ]
     },
     "metadata": {},
     "output_type": "display_data"
    },
    {
     "data": {
      "application/vnd.jupyter.widget-view+json": {
       "model_id": "46a927a0b610487c9aa71f3e5b4cf3d1",
       "version_major": 2,
       "version_minor": 0
      },
      "text/plain": [
       "Downloading:   0%|          | 0.00/446k [00:00<?, ?B/s]"
      ]
     },
     "metadata": {},
     "output_type": "display_data"
    },
    {
     "data": {
      "application/vnd.jupyter.widget-view+json": {
       "model_id": "903227faec1643eeb00c7d90416d7409",
       "version_major": 2,
       "version_minor": 0
      },
      "text/plain": [
       "Downloading:   0%|          | 0.00/1.29M [00:00<?, ?B/s]"
      ]
     },
     "metadata": {},
     "output_type": "display_data"
    },
    {
     "name": "stdout",
     "output_type": "stream",
     "text": [
      "['input_ids', 'attention_mask']\n"
     ]
    },
    {
     "name": "stderr",
     "output_type": "stream",
     "text": [
      "Some weights of the model checkpoint at ../继续训练预训练模型_roberta-large/save_model/ were not used when initializing RobertaModel: ['lm_head.layer_norm.bias', 'lm_head.layer_norm.weight', 'lm_head.dense.weight', 'lm_head.dense.bias', 'lm_head.bias']\n",
      "- This IS expected if you are initializing RobertaModel from the checkpoint of a model trained on another task or with another architecture (e.g. initializing a BertForSequenceClassification model from a BertForPreTraining model).\n",
      "- This IS NOT expected if you are initializing RobertaModel from the checkpoint of a model that you expect to be exactly identical (initializing a BertForSequenceClassification model from a BertForSequenceClassification model).\n",
      "Some weights of RobertaModel were not initialized from the model checkpoint at ../继续训练预训练模型_roberta-large/save_model/ and are newly initialized: ['roberta.pooler.dense.weight', 'roberta.pooler.dense.bias']\n",
      "You should probably TRAIN this model on a down-stream task to be able to use it for predictions and inference.\n"
     ]
    },
    {
     "name": "stdout",
     "output_type": "stream",
     "text": [
      "355359744\n"
     ]
    }
   ],
   "source": [
    "model_name = 'roberta-large'\n",
    "\n",
    "tokenizer = AutoTokenizer.from_pretrained(model_name)\n",
    "print(tokenizer.model_input_names)\n",
    "\n",
    "pretrained = AutoModel.from_pretrained('../继续训练预训练模型_roberta-large/save_model/')\n",
    "print(pretrained.num_parameters())  # 参数量"
   ]
  },
  {
   "cell_type": "code",
   "execution_count": 9,
   "id": "f034d3a2-ef46-491c-907f-1f43ff3f8c43",
   "metadata": {},
   "outputs": [
    {
     "name": "stdout",
     "output_type": "stream",
     "text": [
      "tensor([[    0,  2387,  1034,  ...,     1,     1,     1],\n",
      "        [    0,   495,  1242,  ...,     1,     1,     1],\n",
      "        [    0,   243,    21,  ...,     1,     1,     1],\n",
      "        ...,\n",
      "        [    0, 49714,  3923,  ...,     1,     1,     1],\n",
      "        [    0,  3972,  3922,  ...,     1,     1,     1],\n",
      "        [    0, 28151,  2348,  ...,     1,     1,     1]])\n",
      "tensor([[1, 1, 1,  ..., 0, 0, 0],\n",
      "        [1, 1, 1,  ..., 0, 0, 0],\n",
      "        [1, 1, 1,  ..., 0, 0, 0],\n",
      "        ...,\n",
      "        [1, 1, 1,  ..., 0, 0, 0],\n",
      "        [1, 1, 1,  ..., 0, 0, 0],\n",
      "        [1, 1, 1,  ..., 0, 0, 0]])\n"
     ]
    }
   ],
   "source": [
    "def get_collate_fn(tokenizer, max_len=256):\n",
    "    \"\"\"返回collate_fun函数(通过闭包函数引入形参)\"\"\"\n",
    "\n",
    "    def collate_fn(data):\n",
    "        sents = [i[0] for i in data]\n",
    "\n",
    "        # 批量编码句子\n",
    "        text_t = tokenizer(text=sents,\n",
    "                           truncation=True,\n",
    "                           padding='max_length',\n",
    "                           max_length=max_len,\n",
    "                           return_token_type_ids=True,\n",
    "                           return_attention_mask=True,\n",
    "                           return_tensors='pt')\n",
    "\n",
    "        input_ids = text_t['input_ids']\n",
    "        attention_mask = text_t['attention_mask']\n",
    "        if len(data[0]) == 1:\n",
    "            return input_ids, attention_mask\n",
    "        else:\n",
    "            target = torch.tensor([i[1] for i in data], dtype=torch.float32)\n",
    "            return input_ids, attention_mask, target\n",
    "\n",
    "    return collate_fn\n",
    "\n",
    "\n",
    "dataloader_test = torch.utils.data.DataLoader(dataset=data_test, batch_size=8, collate_fn=get_collate_fn(tokenizer),\n",
    "                                              shuffle=False)\n",
    "\n",
    "for input_ids, attention_mask, in dataloader_test:\n",
    "    print(input_ids)\n",
    "    print(attention_mask)\n",
    "    break"
   ]
  },
  {
   "cell_type": "code",
   "execution_count": 10,
   "id": "a9341ead-9eb3-4b9f-8206-1fed869378b8",
   "metadata": {},
   "outputs": [],
   "source": [
    "class MyModel(nn.Module):\n",
    "    def __init__(self, pretrained_model):\n",
    "        super().__init__()\n",
    "        self.pretrained = pretrained_model\n",
    "        self.norm = nn.LayerNorm(1024)  # roberta-large隐藏层大小为1024\n",
    "        self.linear = nn.Linear(1024, 1)\n",
    "\n",
    "    def forward(self, input_ids, attention_mask):\n",
    "        emb = self.pretrained(input_ids, attention_mask=attention_mask)[\"last_hidden_state\"]\n",
    "        emb = torch.mean(emb, dim=1)\n",
    "        output = self.norm(emb)\n",
    "        output = self.linear(output)\n",
    "        return output"
   ]
  },
  {
   "cell_type": "code",
   "execution_count": 11,
   "id": "731ec72d-c893-46cc-bc7e-cb10431d9b04",
   "metadata": {},
   "outputs": [],
   "source": [
    "def get_parameters(model,\n",
    "                   encoder_layer_init_lr=2e-5,  # bert模型最后一个encoder结构的学习率\n",
    "                   multiplier=0.95,  # 衰退因子\n",
    "                   custom_lr=1e-4):  # 自定义的网络层学习率\n",
    "    parameters = []\n",
    "    lr = encoder_layer_init_lr\n",
    "\n",
    "    # encoder层:\n",
    "    # bert-larger共有24个encoder结构(分别为encoder.layer.0, encoder.layer.1, ......, encoder.layer.23)\n",
    "    # bert-base共有12个encoder结构(分别为encoder.layer.0, encoder.layer.1, ......, encoder.layer.11)\n",
    "    for layer in range(23, -1, -1):\n",
    "        layer_params = {\n",
    "            'params': [param for name, param in model.named_parameters() if f'encoder.layer.{layer}.' in name],\n",
    "            'lr': lr\n",
    "        }\n",
    "        parameters.append(layer_params)\n",
    "        lr *= multiplier  # 上个encoder结构的学习率 = 该encoder结构的学习率 * 衰退因子\n",
    "\n",
    "    # embedding层:bert模型embedding层(最底层)\n",
    "    embeddings_params = {\n",
    "        'params': [param for name, param in model.named_parameters() if 'embeddings' in name],  # 关键字in表示是否包含\n",
    "        'lr': 1e-7\n",
    "    }\n",
    "    parameters.append(embeddings_params)\n",
    "\n",
    "    # 自定义网络层:下游任务自定义的网络层(具体任务对应修改)\n",
    "    custom_params = {\n",
    "        'params': [param for name, param in model.named_parameters() if 'linear' in name or 'norm' in name],\n",
    "        'lr': custom_lr\n",
    "    }\n",
    "    parameters.append(custom_params)\n",
    "    return parameters"
   ]
  },
  {
   "cell_type": "code",
   "execution_count": 12,
   "id": "f31cb7b3-7809-4099-823b-0d4005c4b2b1",
   "metadata": {},
   "outputs": [],
   "source": [
    "def get_cosine_schedule_with_warmup(optimizer, num_warmup_steps, num_training_steps, num_cycles=0.5):\n",
    "    \"\"\"\n",
    "    Create a schedule with a learning rate that decreases following the values of the cosine function between the\n",
    "    initial lr set in the optimizer to 0, after a warmup period during which it increases linearly between 0 and the\n",
    "    initial lr set in the optimizer.\n",
    "    Args:\n",
    "        optimizer ([`~torch.optim.Optimizer`]):\n",
    "            The optimizer for which to schedule the learning rate.\n",
    "        num_warmup_steps (`int`):\n",
    "            The number of steps for the warmup phase.\n",
    "        num_training_steps (`int`):\n",
    "            The total number of training steps.\n",
    "        num_cycles (`float`, *optional*, defaults to 0.5):\n",
    "            The number of waves in the cosine schedule (the defaults is to just decrease from the max value to 0\n",
    "            following a half-cosine).\n",
    "    Return:\n",
    "        `torch.optim.lr_scheduler.LambdaLR` with the appropriate schedule.\n",
    "    \"\"\"\n",
    "\n",
    "    def lr_lambda(current_step):\n",
    "        if current_step < num_warmup_steps:\n",
    "            # 学习率预热(线性增加)\n",
    "            return float(current_step) / float(max(1, num_warmup_steps))\n",
    "        progress = float(current_step - num_warmup_steps) / float(max(1, num_training_steps - num_warmup_steps))\n",
    "        return max(0.0, 0.5 * (1.0 + math.cos(math.pi * float(num_cycles) * 2.0 * progress)))  # 根据cos函数变化\n",
    "\n",
    "    return LambdaLR(optimizer, lr_lambda)"
   ]
  },
  {
   "cell_type": "code",
   "execution_count": 13,
   "id": "1b2e8938-1c10-4901-8838-55d269f339f1",
   "metadata": {},
   "outputs": [],
   "source": [
    "# 模型验证\n",
    "def evaluate(model, dataloader, device):\n",
    "    model.eval()\n",
    "\n",
    "    loss_7 = []\n",
    "    with torch.no_grad():\n",
    "        for input_ids, attention_mask, target in dataloader:\n",
    "            # 数据设备切换\n",
    "            input_ids = input_ids.to(device)\n",
    "            attention_mask = attention_mask.to(device)\n",
    "            out = model(input_ids=input_ids, attention_mask=attention_mask)\n",
    "            loss = torch.sqrt(F.mse_loss(out.cpu().reshape(-1), target, reduction='mean'))\n",
    "            loss_7.append(loss.item())\n",
    "\n",
    "    return torch.mean(torch.tensor(loss_7)).item()  # 平均rmse\n",
    "\n",
    "\n",
    "# 每训练10个step进行一次模型验证\n",
    "def train_and_evaluate(model, dataloader_train, dataloader_val, criterion, optimizer, scheduler_lr, epochs, device):\n",
    "    model.train()\n",
    "\n",
    "    best_valid_rmse = 1e7  # 最佳模型验证数据集的rmse\n",
    "    best_model_state_dict = [None]  # 最佳模型的状态字典\n",
    "    for epoch in range(1, epochs + 1):\n",
    "        for idx, (input_ids, attention_mask, target) in enumerate(dataloader_train):\n",
    "            # 数据设备切换\n",
    "            input_ids = input_ids.to(device)\n",
    "            attention_mask = attention_mask.to(device)\n",
    "            target = target.to(device)\n",
    "\n",
    "            optimizer.zero_grad()\n",
    "            out = model(input_ids=input_ids, attention_mask=attention_mask)\n",
    "            out = out.reshape(-1)\n",
    "\n",
    "            loss = criterion(out, target)  # 每个step的损失值\n",
    "\n",
    "            loss.backward()\n",
    "            optimizer.step()\n",
    "            scheduler_lr.step()\n",
    "\n",
    "            if idx % 10 == 0 and idx > 0:  # 每10 step进行一次模型验证\n",
    "                val_rmse = evaluate(model, dataloader_val, device)\n",
    "                if val_rmse < best_valid_rmse:\n",
    "                    best_valid_rmse = val_rmse\n",
    "                    best_model_state_dict.pop()\n",
    "                    best_model_state_dict.append(copy.deepcopy(model.state_dict()))  # 状态字典必须进行深拷贝\n",
    "                    print('| end of epoch {:5d} | step: {:5d} | valild rmse {:8.5f} |'.format(epoch, idx, val_rmse))\n",
    "\n",
    "    return best_valid_rmse, best_model_state_dict"
   ]
  },
  {
   "cell_type": "code",
   "execution_count": 17,
   "id": "e998bb60-5503-4cca-96cb-581b9416f4f2",
   "metadata": {},
   "outputs": [
    {
     "data": {
      "text/html": [
       "<div>\n",
       "<style scoped>\n",
       "    .dataframe tbody tr th:only-of-type {\n",
       "        vertical-align: middle;\n",
       "    }\n",
       "\n",
       "    .dataframe tbody tr th {\n",
       "        vertical-align: top;\n",
       "    }\n",
       "\n",
       "    .dataframe thead th {\n",
       "        text-align: right;\n",
       "    }\n",
       "</style>\n",
       "<table border=\"1\" class=\"dataframe\">\n",
       "  <thead>\n",
       "    <tr style=\"text-align: right;\">\n",
       "      <th></th>\n",
       "      <th>id</th>\n",
       "      <th>url_legal</th>\n",
       "      <th>license</th>\n",
       "      <th>excerpt</th>\n",
       "      <th>target</th>\n",
       "      <th>standard_error</th>\n",
       "      <th>fold</th>\n",
       "    </tr>\n",
       "  </thead>\n",
       "  <tbody>\n",
       "    <tr>\n",
       "      <th>0</th>\n",
       "      <td>b51730f9c</td>\n",
       "      <td>NaN</td>\n",
       "      <td>NaN</td>\n",
       "      <td>Alice looked at the jury-box, and saw that, in...</td>\n",
       "      <td>-0.432678</td>\n",
       "      <td>0.487498</td>\n",
       "      <td>0</td>\n",
       "    </tr>\n",
       "    <tr>\n",
       "      <th>1</th>\n",
       "      <td>4d403fd57</td>\n",
       "      <td>https://en.wikipedia.org/wiki/Artificial_intel...</td>\n",
       "      <td>CC BY-SA 3.0</td>\n",
       "      <td>Artificial intelligence (AI) is intelligence e...</td>\n",
       "      <td>-1.161746</td>\n",
       "      <td>0.458396</td>\n",
       "      <td>2</td>\n",
       "    </tr>\n",
       "    <tr>\n",
       "      <th>2</th>\n",
       "      <td>0f789ee41</td>\n",
       "      <td>NaN</td>\n",
       "      <td>NaN</td>\n",
       "      <td>A gruff squire on horseback with shiny top boo...</td>\n",
       "      <td>-2.367914</td>\n",
       "      <td>0.519369</td>\n",
       "      <td>4</td>\n",
       "    </tr>\n",
       "    <tr>\n",
       "      <th>3</th>\n",
       "      <td>87f96eb79</td>\n",
       "      <td>NaN</td>\n",
       "      <td>NaN</td>\n",
       "      <td>But that hadn't helped Washington.\\nThe Americ...</td>\n",
       "      <td>-0.842596</td>\n",
       "      <td>0.466193</td>\n",
       "      <td>0</td>\n",
       "    </tr>\n",
       "    <tr>\n",
       "      <th>4</th>\n",
       "      <td>b9cca6661</td>\n",
       "      <td>NaN</td>\n",
       "      <td>NaN</td>\n",
       "      <td>The principal business of the people of this c...</td>\n",
       "      <td>-0.748452</td>\n",
       "      <td>0.433000</td>\n",
       "      <td>4</td>\n",
       "    </tr>\n",
       "  </tbody>\n",
       "</table>\n",
       "</div>"
      ],
      "text/plain": [
       "          id                                          url_legal       license  \\\n",
       "0  b51730f9c                                                NaN           NaN   \n",
       "1  4d403fd57  https://en.wikipedia.org/wiki/Artificial_intel...  CC BY-SA 3.0   \n",
       "2  0f789ee41                                                NaN           NaN   \n",
       "3  87f96eb79                                                NaN           NaN   \n",
       "4  b9cca6661                                                NaN           NaN   \n",
       "\n",
       "                                             excerpt    target  \\\n",
       "0  Alice looked at the jury-box, and saw that, in... -0.432678   \n",
       "1  Artificial intelligence (AI) is intelligence e... -1.161746   \n",
       "2  A gruff squire on horseback with shiny top boo... -2.367914   \n",
       "3  But that hadn't helped Washington.\\nThe Americ... -0.842596   \n",
       "4  The principal business of the people of this c... -0.748452   \n",
       "\n",
       "   standard_error  fold  \n",
       "0        0.487498     0  \n",
       "1        0.458396     2  \n",
       "2        0.519369     4  \n",
       "3        0.466193     0  \n",
       "4        0.433000     4  "
      ]
     },
     "execution_count": 17,
     "metadata": {},
     "output_type": "execute_result"
    }
   ],
   "source": [
    "data_oof = pd.read_csv(\"../../data/df_train_oof.csv\", index_col=0)  # 加载分层5折数据集\n",
    "data_oof.head()"
   ]
  },
  {
   "cell_type": "code",
   "execution_count": 18,
   "id": "1d6b0587-0bfe-41af-8085-20e2029cb009",
   "metadata": {},
   "outputs": [
    {
     "name": "stdout",
     "output_type": "stream",
     "text": [
      "****************************************0****************************************\n",
      "| end of epoch     1 | step:    10 | valild rmse  0.99068 |\n",
      "| end of epoch     1 | step:    20 | valild rmse  0.87099 |\n",
      "| end of epoch     1 | step:    30 | valild rmse  0.78200 |\n",
      "| end of epoch     1 | step:    40 | valild rmse  0.72259 |\n",
      "| end of epoch     1 | step:    50 | valild rmse  0.61960 |\n",
      "| end of epoch     1 | step:    70 | valild rmse  0.58218 |\n",
      "| end of epoch     1 | step:    90 | valild rmse  0.56217 |\n",
      "| end of epoch     1 | step:   100 | valild rmse  0.55258 |\n",
      "| end of epoch     1 | step:   130 | valild rmse  0.54190 |\n",
      "| end of epoch     1 | step:   200 | valild rmse  0.53571 |\n",
      "| end of epoch     1 | step:   220 | valild rmse  0.53357 |\n",
      "| end of epoch     1 | step:   230 | valild rmse  0.49138 |\n",
      "| end of epoch     2 | step:    20 | valild rmse  0.47190 |\n",
      "| end of epoch     2 | step:    30 | valild rmse  0.46850 |\n",
      "| end of epoch     3 | step:    10 | valild rmse  0.46512 |\n",
      "| end of epoch     3 | step:    90 | valild rmse  0.46313 |\n",
      "| end of epoch     3 | step:   140 | valild rmse  0.46282 |\n",
      "| end of epoch     4 | step:    10 | valild rmse  0.46262 |\n",
      "| end of epoch     4 | step:    50 | valild rmse  0.46205 |\n",
      "| end of epoch     4 | step:   100 | valild rmse  0.46065 |\n",
      "****************************************1****************************************\n",
      "| end of epoch     1 | step:    10 | valild rmse  0.90298 |\n",
      "| end of epoch     1 | step:    20 | valild rmse  0.86616 |\n",
      "| end of epoch     1 | step:    30 | valild rmse  0.77247 |\n",
      "| end of epoch     1 | step:    40 | valild rmse  0.65795 |\n",
      "| end of epoch     1 | step:    50 | valild rmse  0.59757 |\n",
      "| end of epoch     1 | step:    90 | valild rmse  0.58757 |\n",
      "| end of epoch     1 | step:   100 | valild rmse  0.58725 |\n",
      "| end of epoch     1 | step:   110 | valild rmse  0.52821 |\n",
      "| end of epoch     1 | step:   150 | valild rmse  0.51208 |\n",
      "| end of epoch     2 | step:    10 | valild rmse  0.48882 |\n",
      "| end of epoch     2 | step:    20 | valild rmse  0.48278 |\n",
      "| end of epoch     2 | step:    30 | valild rmse  0.48057 |\n",
      "| end of epoch     2 | step:    60 | valild rmse  0.47655 |\n",
      "| end of epoch     2 | step:   150 | valild rmse  0.46630 |\n",
      "| end of epoch     2 | step:   270 | valild rmse  0.46302 |\n",
      "| end of epoch     3 | step:   270 | valild rmse  0.46236 |\n",
      "| end of epoch     4 | step:    90 | valild rmse  0.46115 |\n",
      "| end of epoch     4 | step:   170 | valild rmse  0.46038 |\n",
      "| end of epoch     4 | step:   200 | valild rmse  0.46011 |\n",
      "| end of epoch     4 | step:   250 | valild rmse  0.45972 |\n",
      "| end of epoch     5 | step:    40 | valild rmse  0.45968 |\n",
      "| end of epoch     5 | step:    70 | valild rmse  0.45942 |\n",
      "| end of epoch     5 | step:    80 | valild rmse  0.45937 |\n",
      "| end of epoch     5 | step:   100 | valild rmse  0.45937 |\n",
      "| end of epoch     5 | step:   110 | valild rmse  0.45919 |\n",
      "****************************************2****************************************\n",
      "| end of epoch     1 | step:    10 | valild rmse  0.85822 |\n",
      "| end of epoch     1 | step:    20 | valild rmse  0.75131 |\n",
      "| end of epoch     1 | step:    40 | valild rmse  0.62053 |\n",
      "| end of epoch     1 | step:    70 | valild rmse  0.59967 |\n",
      "| end of epoch     1 | step:   110 | valild rmse  0.59480 |\n",
      "| end of epoch     1 | step:   120 | valild rmse  0.58118 |\n",
      "| end of epoch     1 | step:   150 | valild rmse  0.55163 |\n",
      "| end of epoch     1 | step:   160 | valild rmse  0.51908 |\n",
      "| end of epoch     1 | step:   220 | valild rmse  0.48864 |\n",
      "| end of epoch     1 | step:   280 | valild rmse  0.48722 |\n",
      "| end of epoch     2 | step:    10 | valild rmse  0.47842 |\n",
      "| end of epoch     3 | step:    60 | valild rmse  0.47242 |\n",
      "| end of epoch     3 | step:   110 | valild rmse  0.46944 |\n",
      "| end of epoch     3 | step:   130 | valild rmse  0.46786 |\n",
      "| end of epoch     3 | step:   160 | valild rmse  0.46749 |\n",
      "| end of epoch     3 | step:   210 | valild rmse  0.46734 |\n",
      "| end of epoch     4 | step:    30 | valild rmse  0.46589 |\n",
      "| end of epoch     4 | step:   100 | valild rmse  0.46457 |\n",
      "****************************************3****************************************\n",
      "| end of epoch     1 | step:    10 | valild rmse  0.97972 |\n",
      "| end of epoch     1 | step:    20 | valild rmse  0.78870 |\n",
      "| end of epoch     1 | step:    30 | valild rmse  0.65114 |\n",
      "| end of epoch     1 | step:    40 | valild rmse  0.62775 |\n",
      "| end of epoch     1 | step:    50 | valild rmse  0.61958 |\n",
      "| end of epoch     1 | step:    60 | valild rmse  0.59726 |\n",
      "| end of epoch     1 | step:   110 | valild rmse  0.55282 |\n",
      "| end of epoch     1 | step:   120 | valild rmse  0.54329 |\n",
      "| end of epoch     1 | step:   150 | valild rmse  0.52900 |\n",
      "| end of epoch     1 | step:   160 | valild rmse  0.51899 |\n",
      "| end of epoch     1 | step:   200 | valild rmse  0.50532 |\n",
      "| end of epoch     1 | step:   220 | valild rmse  0.50326 |\n",
      "| end of epoch     1 | step:   250 | valild rmse  0.50288 |\n",
      "| end of epoch     2 | step:    20 | valild rmse  0.49857 |\n",
      "| end of epoch     2 | step:    30 | valild rmse  0.48995 |\n",
      "| end of epoch     2 | step:    50 | valild rmse  0.48263 |\n",
      "| end of epoch     2 | step:   130 | valild rmse  0.48114 |\n",
      "| end of epoch     2 | step:   230 | valild rmse  0.47765 |\n",
      "| end of epoch     2 | step:   240 | valild rmse  0.47563 |\n",
      "| end of epoch     3 | step:    80 | valild rmse  0.47399 |\n",
      "| end of epoch     3 | step:    90 | valild rmse  0.46976 |\n",
      "| end of epoch     3 | step:   210 | valild rmse  0.46926 |\n",
      "| end of epoch     4 | step:    50 | valild rmse  0.46839 |\n",
      "| end of epoch     4 | step:   250 | valild rmse  0.46780 |\n",
      "****************************************4****************************************\n",
      "| end of epoch     1 | step:    10 | valild rmse  0.95205 |\n",
      "| end of epoch     1 | step:    20 | valild rmse  0.87030 |\n",
      "| end of epoch     1 | step:    30 | valild rmse  0.68410 |\n",
      "| end of epoch     1 | step:    50 | valild rmse  0.62617 |\n",
      "| end of epoch     1 | step:    60 | valild rmse  0.60369 |\n",
      "| end of epoch     1 | step:   110 | valild rmse  0.59978 |\n",
      "| end of epoch     1 | step:   130 | valild rmse  0.57451 |\n",
      "| end of epoch     1 | step:   140 | valild rmse  0.55609 |\n",
      "| end of epoch     1 | step:   150 | valild rmse  0.55032 |\n",
      "| end of epoch     1 | step:   160 | valild rmse  0.53406 |\n",
      "| end of epoch     1 | step:   220 | valild rmse  0.53179 |\n",
      "| end of epoch     1 | step:   250 | valild rmse  0.51611 |\n",
      "| end of epoch     1 | step:   260 | valild rmse  0.50919 |\n",
      "| end of epoch     1 | step:   270 | valild rmse  0.50907 |\n",
      "| end of epoch     2 | step:    40 | valild rmse  0.50737 |\n",
      "| end of epoch     2 | step:    80 | valild rmse  0.49351 |\n",
      "| end of epoch     2 | step:    90 | valild rmse  0.49148 |\n",
      "| end of epoch     2 | step:   160 | valild rmse  0.48647 |\n",
      "| end of epoch     2 | step:   260 | valild rmse  0.47590 |\n",
      "| end of epoch     3 | step:   150 | valild rmse  0.47572 |\n",
      "| end of epoch     3 | step:   240 | valild rmse  0.47370 |\n",
      "| end of epoch     4 | step:    10 | valild rmse  0.47150 |\n",
      "| end of epoch     4 | step:    30 | valild rmse  0.47030 |\n"
     ]
    }
   ],
   "source": [
    "fold_num_list = range(5)\n",
    "\n",
    "best_valid_rmse_lst = []  # 每折交叉验证最佳模型验证数据集的rmse\n",
    "best_model_state_dict_lst = []  # 每折交叉验证最佳模型的状态字典\n",
    "\n",
    "for fold in fold_num_list:\n",
    "    print('*' * 40 + str(fold) + '*' * 40)\n",
    "\n",
    "    train_data = data_oof[data_oof['fold'] != fold]  # 训练数据集\n",
    "    val_data = data_oof[data_oof['fold'] == fold]  # 验证数据集\n",
    "    dataloader_train = torch.utils.data.DataLoader(dataset=MyDataset(train_data), batch_size=8,\n",
    "                                                   collate_fn=get_collate_fn(tokenizer), shuffle=True)\n",
    "    dataloader_val = torch.utils.data.DataLoader(dataset=MyDataset(val_data),\n",
    "                                                 # 测试数据只有7条((\\sqrt{(n1 + n2)/2} + \\sqrt{(n3 + n4)/2} + \\sqrt{(n5 + n6)/2}) / 3 不等于\\sqrt{(n1 + n2 + n3 + n4 + n5 + n6)/6})\n",
    "                                                 batch_size=7,\n",
    "                                                 collate_fn=get_collate_fn(tokenizer),\n",
    "                                                 shuffle=False, drop_last=True)\n",
    "\n",
    "    # **************************************************************************************\n",
    "    roberta_large = MyModel(copy.deepcopy(pretrained))  # 必须进行深拷贝(pretrained会参与更新),否则会造成标签泄露\n",
    "    roberta_large = roberta_large.to(device)\n",
    "\n",
    "    loss_mse = nn.MSELoss()\n",
    "\n",
    "    parameters = get_parameters(roberta_large, 2e-5, 0.95, 1e-4)\n",
    "    # 优化器\n",
    "    optimizer_adamw = optim.AdamW(parameters)\n",
    "    scheduler_lr = get_cosine_schedule_with_warmup(optimizer_adamw, 0, len(dataloader_train) * 5)\n",
    "    # **************************************************************************************\n",
    "\n",
    "    bvr, bmsd = train_and_evaluate(roberta_large, dataloader_train, dataloader_val, loss_mse, optimizer_adamw,\n",
    "                                   scheduler_lr, 5, device)\n",
    "\n",
    "    best_valid_rmse_lst.append(bvr)\n",
    "    best_model_state_dict_lst.extend(bmsd)"
   ]
  },
  {
   "cell_type": "code",
   "execution_count": 24,
   "id": "7743b0b9-ba2a-43f6-9880-0bb413abeeb4",
   "metadata": {},
   "outputs": [],
   "source": [
    "# 模型预测\n",
    "def predict(model, dataloader, device):\n",
    "    model.eval()\n",
    "\n",
    "    predict_list = []\n",
    "    with torch.no_grad():\n",
    "        for i in dataloader:\n",
    "            # 数据设备\n",
    "            input_ids = i[0].to(device)\n",
    "            attention_mask = i[1].to(device)\n",
    "            out = model(input_ids=input_ids, attention_mask=attention_mask)\n",
    "            predict_list.append(out.cpu())\n",
    "    predict_all = torch.cat(predict_list, dim=0)\n",
    "    return predict_all"
   ]
  },
  {
   "cell_type": "code",
   "execution_count": 25,
   "id": "bc8154a9-de3e-4f9e-8ab4-f0694985c79f",
   "metadata": {},
   "outputs": [],
   "source": [
    "all_tr_predict = torch.tensor([]).reshape((0, 1))\n",
    "all_te_predict = torch.tensor([]).reshape((0, 1))\n",
    "\n",
    "for fold in fold_num_list:\n",
    "    val_d = data_oof[data_oof['fold'] == fold]\n",
    "    dl_val = torch.utils.data.DataLoader(dataset=MyDataset(val_d), batch_size=8, collate_fn=get_collate_fn(tokenizer))\n",
    "    # **************************************************************************************\n",
    "    roberta_large = MyModel(copy.deepcopy(pretrained))  # 必须进行深拷贝(pretrained会参与更新),否则会造成标签泄露\n",
    "    roberta_large.load_state_dict(best_model_state_dict_lst[fold])  # 记载状态字典\n",
    "    roberta_large = roberta_large.to(device)\n",
    "    # **************************************************************************************\n",
    "    predict_result_tr = predict(roberta_large, dl_val, device)\n",
    "    all_tr_predict = torch.cat([all_tr_predict, predict_result_tr])\n",
    "\n",
    "    predict_result_te = predict(roberta_large, dataloader_test, device)\n",
    "    all_te_predict = torch.cat([all_te_predict, predict_result_te])"
   ]
  },
  {
   "cell_type": "code",
   "execution_count": 26,
   "id": "b6f6d6f6-b336-431a-b019-8466d9b89593",
   "metadata": {},
   "outputs": [
    {
     "data": {
      "text/plain": [
       "(torch.Size([2834, 1]), torch.Size([35, 1]))"
      ]
     },
     "execution_count": 26,
     "metadata": {},
     "output_type": "execute_result"
    }
   ],
   "source": [
    "all_tr_predict.shape, all_te_predict.shape"
   ]
  },
  {
   "cell_type": "code",
   "execution_count": 27,
   "id": "24f3475e-ad93-4a0c-acab-6769c4a529b6",
   "metadata": {},
   "outputs": [
    {
     "data": {
      "text/plain": [
       "['roberta_large_tr.pkl']"
      ]
     },
     "execution_count": 27,
     "metadata": {},
     "output_type": "execute_result"
    }
   ],
   "source": [
    "joblib.dump(all_tr_predict.numpy(), 'roberta_large_tr.pkl')"
   ]
  },
  {
   "cell_type": "code",
   "execution_count": 28,
   "id": "0452e8b7-1b58-4639-81fa-7db8ab2aa174",
   "metadata": {},
   "outputs": [
    {
     "data": {
      "text/plain": [
       "['roberta_large_te.pkl']"
      ]
     },
     "execution_count": 28,
     "metadata": {},
     "output_type": "execute_result"
    }
   ],
   "source": [
    "joblib.dump(all_te_predict.numpy(), 'roberta_large_te.pkl')"
   ]
  },
  {
   "cell_type": "code",
   "execution_count": null,
   "id": "15453e61-56f4-4438-9b99-c2f51e328a20",
   "metadata": {},
   "outputs": [],
   "source": []
  }
 ],
 "metadata": {
  "kernelspec": {
   "display_name": "Python [conda env:pytorch_env]",
   "language": "python",
   "name": "conda-env-pytorch_env-py"
  },
  "language_info": {
   "codemirror_mode": {
    "name": "ipython",
    "version": 3
   },
   "file_extension": ".py",
   "mimetype": "text/x-python",
   "name": "python",
   "nbconvert_exporter": "python",
   "pygments_lexer": "ipython3",
   "version": "3.8.12"
  }
 },
 "nbformat": 4,
 "nbformat_minor": 5
}