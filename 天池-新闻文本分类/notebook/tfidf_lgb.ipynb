{
 "cells": [
  {
   "cell_type": "code",
   "execution_count": 1,
   "metadata": {},
   "outputs": [],
   "source": [
    "import pandas as pd\n",
    "from sklearn.feature_extraction.text import TfidfVectorizer\n",
    "from sklearn.metrics import f1_score\n",
    "import numpy as np\n",
    "import joblib\n",
    "from sklearn.model_selection import StratifiedKFold\n",
    "import lightgbm as lgb\n",
    "\n",
    "# from 新闻文本分类.models.lightgbm_model import MyLightGBM\n",
    "%run ../models/lightgbm_model.py"
   ]
  },
  {
   "cell_type": "code",
   "execution_count": 2,
   "metadata": {
    "pycharm": {
     "name": "#%%\n"
    }
   },
   "outputs": [],
   "source": [
    "train_df = pd.read_csv('../datasets/train_set.csv', sep='\\t')\n",
    "test_df = pd.read_csv('../datasets/test_a.csv', sep='\\t')"
   ]
  },
  {
   "cell_type": "code",
   "execution_count": 3,
   "metadata": {
    "pycharm": {
     "name": "#%%\n"
    }
   },
   "outputs": [],
   "source": [
    "# 速度较慢;分多步进行\n",
    "# ************1 step************\n",
    "\n",
    "# tfidf = TfidfVectorizer(ngram_range=(1, 3), max_features=5000)\n",
    "# tfidf.fit(np.concatenate((train_df['text'].values, test_df['text'].values), axis=0))\n",
    "\n",
    "# 保存训练数据集在TfidfVectorizer上的结果\n",
    "# train_word_features = tfidf.transform(train_df['text'].values)\n",
    "# joblib.dump(train_word_features, '../intermediate_save_data/train_word_features.pkl')\n",
    "\n",
    "# 保存测试数据集在TfidfVectorizer上的结果\n",
    "# test_word_features = tfidf.transform(test_df['text'].values)\n",
    "# joblib.dump(test_word_features, '../intermediate_save_data/test_word_features.pkl')"
   ]
  },
  {
   "cell_type": "code",
   "execution_count": 4,
   "metadata": {
    "pycharm": {
     "name": "#%%\n"
    }
   },
   "outputs": [],
   "source": [
    "# ************2 step************\n",
    "\n",
    "train_word_features_load = joblib.load('../intermediate_save_data/train_word_features.pkl')\n",
    "test_word_features_load = joblib.load('../intermediate_save_data/test_word_features.pkl')"
   ]
  },
  {
   "cell_type": "code",
   "execution_count": 5,
   "metadata": {
    "pycharm": {
     "name": "#%%\n"
    }
   },
   "outputs": [
    {
     "name": "stdout",
     "output_type": "stream",
     "text": [
      "Training fold 1\n",
      "Training until validation scores don't improve for 200 rounds\n",
      "[50]\ttraining's multi_logloss: 0.151832\ttraining's F1 score: 0.9558\tvalid_1's multi_logloss: 0.205957\tvalid_1's F1 score: 0.93805\n",
      "[100]\ttraining's multi_logloss: 0.0871202\ttraining's F1 score: 0.977544\tvalid_1's multi_logloss: 0.175548\tvalid_1's F1 score: 0.9444\n",
      "[150]\ttraining's multi_logloss: 0.0576951\ttraining's F1 score: 0.9891\tvalid_1's multi_logloss: 0.168269\tvalid_1's F1 score: 0.9461\n",
      "[200]\ttraining's multi_logloss: 0.0418199\ttraining's F1 score: 0.994556\tvalid_1's multi_logloss: 0.165546\tvalid_1's F1 score: 0.946675\n",
      "[250]\ttraining's multi_logloss: 0.0328629\ttraining's F1 score: 0.997094\tvalid_1's multi_logloss: 0.164093\tvalid_1's F1 score: 0.947375\n",
      "[300]\ttraining's multi_logloss: 0.0274135\ttraining's F1 score: 0.998319\tvalid_1's multi_logloss: 0.16362\tvalid_1's F1 score: 0.947125\n",
      "[350]\ttraining's multi_logloss: 0.0237826\ttraining's F1 score: 0.998875\tvalid_1's multi_logloss: 0.163641\tvalid_1's F1 score: 0.9477\n",
      "[400]\ttraining's multi_logloss: 0.0214747\ttraining's F1 score: 0.999144\tvalid_1's multi_logloss: 0.16369\tvalid_1's F1 score: 0.947775\n",
      "[450]\ttraining's multi_logloss: 0.0201027\ttraining's F1 score: 0.999269\tvalid_1's multi_logloss: 0.163586\tvalid_1's F1 score: 0.948075\n",
      "[500]\ttraining's multi_logloss: 0.0191323\ttraining's F1 score: 0.999363\tvalid_1's multi_logloss: 0.163645\tvalid_1's F1 score: 0.9478\n",
      "Early stopping, best iteration is:\n",
      "[325]\ttraining's multi_logloss: 0.0253352\ttraining's F1 score: 0.998725\tvalid_1's multi_logloss: 0.163501\tvalid_1's F1 score: 0.9472\n",
      "Training fold 2\n",
      "[50]\ttraining's multi_logloss: 0.152521\ttraining's F1 score: 0.955869\tvalid_1's multi_logloss: 0.201863\tvalid_1's F1 score: 0.93865\n",
      "[100]\ttraining's multi_logloss: 0.0874359\ttraining's F1 score: 0.977644\tvalid_1's multi_logloss: 0.172157\tvalid_1's F1 score: 0.945475\n",
      "[150]\ttraining's multi_logloss: 0.0579534\ttraining's F1 score: 0.988944\tvalid_1's multi_logloss: 0.16507\tvalid_1's F1 score: 0.9469\n",
      "[200]\ttraining's multi_logloss: 0.0419889\ttraining's F1 score: 0.994631\tvalid_1's multi_logloss: 0.162358\tvalid_1's F1 score: 0.9482\n",
      "[250]\ttraining's multi_logloss: 0.0331159\ttraining's F1 score: 0.997112\tvalid_1's multi_logloss: 0.161179\tvalid_1's F1 score: 0.94855\n",
      "[300]\ttraining's multi_logloss: 0.0275634\ttraining's F1 score: 0.998363\tvalid_1's multi_logloss: 0.160712\tvalid_1's F1 score: 0.948925\n",
      "[350]\ttraining's multi_logloss: 0.0238974\ttraining's F1 score: 0.99885\tvalid_1's multi_logloss: 0.16064\tvalid_1's F1 score: 0.94925\n",
      "[400]\ttraining's multi_logloss: 0.0215179\ttraining's F1 score: 0.999125\tvalid_1's multi_logloss: 0.160691\tvalid_1's F1 score: 0.949125\n",
      "[450]\ttraining's multi_logloss: 0.0200036\ttraining's F1 score: 0.999256\tvalid_1's multi_logloss: 0.1607\tvalid_1's F1 score: 0.949025\n",
      "[500]\ttraining's multi_logloss: 0.019174\ttraining's F1 score: 0.999387\tvalid_1's multi_logloss: 0.16076\tvalid_1's F1 score: 0.949425\n",
      "[550]\ttraining's multi_logloss: 0.0186973\ttraining's F1 score: 0.999437\tvalid_1's multi_logloss: 0.160922\tvalid_1's F1 score: 0.9492\n",
      "Early stopping, best iteration is:\n",
      "[371]\ttraining's multi_logloss: 0.0227829\ttraining's F1 score: 0.998981\tvalid_1's multi_logloss: 0.160575\tvalid_1's F1 score: 0.948975\n",
      "Training fold 3\n",
      "[50]\ttraining's multi_logloss: 0.152711\ttraining's F1 score: 0.956119\tvalid_1's multi_logloss: 0.203536\tvalid_1's F1 score: 0.93705\n",
      "[100]\ttraining's multi_logloss: 0.0874337\ttraining's F1 score: 0.977581\tvalid_1's multi_logloss: 0.172887\tvalid_1's F1 score: 0.9443\n",
      "[150]\ttraining's multi_logloss: 0.058028\ttraining's F1 score: 0.989231\tvalid_1's multi_logloss: 0.165606\tvalid_1's F1 score: 0.946425\n",
      "[200]\ttraining's multi_logloss: 0.0419427\ttraining's F1 score: 0.994513\tvalid_1's multi_logloss: 0.162942\tvalid_1's F1 score: 0.946975\n",
      "[250]\ttraining's multi_logloss: 0.0329385\ttraining's F1 score: 0.997119\tvalid_1's multi_logloss: 0.161936\tvalid_1's F1 score: 0.947825\n",
      "[300]\ttraining's multi_logloss: 0.0274471\ttraining's F1 score: 0.998363\tvalid_1's multi_logloss: 0.161799\tvalid_1's F1 score: 0.94745\n",
      "[350]\ttraining's multi_logloss: 0.0237924\ttraining's F1 score: 0.998844\tvalid_1's multi_logloss: 0.161774\tvalid_1's F1 score: 0.947925\n",
      "[400]\ttraining's multi_logloss: 0.0214934\ttraining's F1 score: 0.999169\tvalid_1's multi_logloss: 0.161684\tvalid_1's F1 score: 0.9482\n",
      "[450]\ttraining's multi_logloss: 0.0201254\ttraining's F1 score: 0.999281\tvalid_1's multi_logloss: 0.161832\tvalid_1's F1 score: 0.94815\n",
      "[500]\ttraining's multi_logloss: 0.0191437\ttraining's F1 score: 0.999375\tvalid_1's multi_logloss: 0.161906\tvalid_1's F1 score: 0.94835\n",
      "[550]\ttraining's multi_logloss: 0.0186693\ttraining's F1 score: 0.999413\tvalid_1's multi_logloss: 0.162035\tvalid_1's F1 score: 0.948425\n",
      "Early stopping, best iteration is:\n",
      "[371]\ttraining's multi_logloss: 0.0227829\ttraining's F1 score: 0.998981\tvalid_1's multi_logloss: 0.160575\tvalid_1's F1 score: 0.948975\n",
      "Training fold 4\n",
      "[50]\ttraining's multi_logloss: 0.152257\ttraining's F1 score: 0.95595\tvalid_1's multi_logloss: 0.204638\tvalid_1's F1 score: 0.936975\n",
      "[100]\ttraining's multi_logloss: 0.0872336\ttraining's F1 score: 0.977569\tvalid_1's multi_logloss: 0.174455\tvalid_1's F1 score: 0.943325\n",
      "[150]\ttraining's multi_logloss: 0.0578757\ttraining's F1 score: 0.988925\tvalid_1's multi_logloss: 0.167145\tvalid_1's F1 score: 0.94555\n",
      "[200]\ttraining's multi_logloss: 0.0418579\ttraining's F1 score: 0.994506\tvalid_1's multi_logloss: 0.16407\tvalid_1's F1 score: 0.946475\n",
      "[250]\ttraining's multi_logloss: 0.0329441\ttraining's F1 score: 0.997188\tvalid_1's multi_logloss: 0.162725\tvalid_1's F1 score: 0.947225\n",
      "[300]\ttraining's multi_logloss: 0.0273519\ttraining's F1 score: 0.998281\tvalid_1's multi_logloss: 0.162166\tvalid_1's F1 score: 0.947675\n",
      "[350]\ttraining's multi_logloss: 0.0236819\ttraining's F1 score: 0.998888\tvalid_1's multi_logloss: 0.162024\tvalid_1's F1 score: 0.9481\n",
      "[400]\ttraining's multi_logloss: 0.0214009\ttraining's F1 score: 0.999125\tvalid_1's multi_logloss: 0.161938\tvalid_1's F1 score: 0.948475\n",
      "[450]\ttraining's multi_logloss: 0.0200541\ttraining's F1 score: 0.999269\tvalid_1's multi_logloss: 0.161905\tvalid_1's F1 score: 0.948725\n",
      "[500]\ttraining's multi_logloss: 0.0192073\ttraining's F1 score: 0.999413\tvalid_1's multi_logloss: 0.162031\tvalid_1's F1 score: 0.9488\n",
      "[550]\ttraining's multi_logloss: 0.0187398\ttraining's F1 score: 0.999475\tvalid_1's multi_logloss: 0.162027\tvalid_1's F1 score: 0.948775\n",
      "Early stopping, best iteration is:\n",
      "[371]\ttraining's multi_logloss: 0.0227829\ttraining's F1 score: 0.998981\tvalid_1's multi_logloss: 0.160575\tvalid_1's F1 score: 0.948975\n",
      "Training fold 5\n",
      "[50]\ttraining's multi_logloss: 0.152329\ttraining's F1 score: 0.955919\tvalid_1's multi_logloss: 0.205245\tvalid_1's F1 score: 0.936175\n",
      "[100]\ttraining's multi_logloss: 0.0869246\ttraining's F1 score: 0.977606\tvalid_1's multi_logloss: 0.174617\tvalid_1's F1 score: 0.943475\n",
      "[150]\ttraining's multi_logloss: 0.0576336\ttraining's F1 score: 0.989006\tvalid_1's multi_logloss: 0.167441\tvalid_1's F1 score: 0.945575\n",
      "[200]\ttraining's multi_logloss: 0.0417025\ttraining's F1 score: 0.994825\tvalid_1's multi_logloss: 0.164427\tvalid_1's F1 score: 0.947225\n",
      "[250]\ttraining's multi_logloss: 0.0328029\ttraining's F1 score: 0.997169\tvalid_1's multi_logloss: 0.163128\tvalid_1's F1 score: 0.947625\n",
      "[300]\ttraining's multi_logloss: 0.0272977\ttraining's F1 score: 0.998319\tvalid_1's multi_logloss: 0.162641\tvalid_1's F1 score: 0.94755\n",
      "[350]\ttraining's multi_logloss: 0.0236633\ttraining's F1 score: 0.998819\tvalid_1's multi_logloss: 0.162646\tvalid_1's F1 score: 0.9479\n",
      "[400]\ttraining's multi_logloss: 0.0212949\ttraining's F1 score: 0.99915\tvalid_1's multi_logloss: 0.162676\tvalid_1's F1 score: 0.948075\n",
      "[450]\ttraining's multi_logloss: 0.0199619\ttraining's F1 score: 0.999294\tvalid_1's multi_logloss: 0.162645\tvalid_1's F1 score: 0.948175\n",
      "[500]\ttraining's multi_logloss: 0.0191071\ttraining's F1 score: 0.999381\tvalid_1's multi_logloss: 0.162815\tvalid_1's F1 score: 0.948\n",
      "[550]\ttraining's multi_logloss: 0.0186114\ttraining's F1 score: 0.999444\tvalid_1's multi_logloss: 0.162857\tvalid_1's F1 score: 0.948075\n",
      "Early stopping, best iteration is:\n",
      "[371]\ttraining's multi_logloss: 0.0227829\ttraining's F1 score: 0.998981\tvalid_1's multi_logloss: 0.160575\tvalid_1's F1 score: 0.948975\n"
     ]
    }
   ],
   "source": [
    "# ************3 step************\n",
    "\n",
    "y_train_data = train_df['label'].values\n",
    "kf = StratifiedKFold(n_splits=5, shuffle=True, random_state=666)  # 5折交叉验证\n",
    "\n",
    "\n",
    "def my_gbm_loss(y_pred, y_true):\n",
    "    # 自定义验证数据集评估函数\n",
    "    reshape_y_pred = np.transpose(y_pred.reshape(14, -1))  # 这是一个14分类任务\n",
    "    reshape_y_pred = np.argmax(reshape_y_pred, axis=1)\n",
    "    f1 = f1_score(y_true.get_label(), reshape_y_pred, average='micro')\n",
    "    return 'F1 score', f1, True\n",
    "\n",
    "\n",
    "# 回调函数\n",
    "es_func = lgb.early_stopping(stopping_rounds=200)\n",
    "le_func = lgb.log_evaluation(50)\n",
    "\n",
    "lgb_params = {\"objective\": \"multiclass\",\n",
    "              \"num_class\": 14,\n",
    "              \"max_depth\": -1,\n",
    "              \"num_boost_round\": 2000,\n",
    "              \"bagging_fraction\": 0.8,\n",
    "              \"feature_fraction\": 0.7,\n",
    "              \"verbosity\": -1,\n",
    "              \"reg_alpha\": 6,\n",
    "              \"reg_lambda\": 6,\n",
    "              \"n_jobs\": 8,\n",
    "              \"metric\": (\"multi_logloss\",)}\n",
    "\n",
    "test_predictions, model_list = MyLightGBM(X_train_data=train_word_features_load.toarray(),\n",
    "                                          y_train_data=y_train_data,\n",
    "                                          X_test_data=test_word_features_load.toarray(),\n",
    "                                          kfold=kf,\n",
    "                                          params=lgb_params,\n",
    "                                          feval=my_gbm_loss,\n",
    "                                          callbacks=[es_func, le_func])"
   ]
  },
  {
   "cell_type": "code",
   "execution_count": 6,
   "metadata": {
    "pycharm": {
     "name": "#%%\n"
    }
   },
   "outputs": [
    {
     "data": {
      "text/plain": [
       "['../intermediate_save_data/test_predictions_tfidf_lgb.pkl']"
      ]
     },
     "execution_count": 6,
     "metadata": {},
     "output_type": "execute_result"
    }
   ],
   "source": [
    "# ************4 step************\n",
    "\n",
    "# 保存预测结果\n",
    "joblib.dump(test_predictions, '../intermediate_save_data/test_predictions_tfidf_lgb.pkl')"
   ]
  },
  {
   "cell_type": "code",
   "execution_count": 7,
   "metadata": {
    "pycharm": {
     "name": "#%%\n"
    }
   },
   "outputs": [
    {
     "data": {
      "text/html": [
       "<div>\n",
       "<style scoped>\n",
       "    .dataframe tbody tr th:only-of-type {\n",
       "        vertical-align: middle;\n",
       "    }\n",
       "\n",
       "    .dataframe tbody tr th {\n",
       "        vertical-align: top;\n",
       "    }\n",
       "\n",
       "    .dataframe thead th {\n",
       "        text-align: right;\n",
       "    }\n",
       "</style>\n",
       "<table border=\"1\" class=\"dataframe\">\n",
       "  <thead>\n",
       "    <tr style=\"text-align: right;\">\n",
       "      <th></th>\n",
       "      <th>label</th>\n",
       "    </tr>\n",
       "  </thead>\n",
       "  <tbody>\n",
       "    <tr>\n",
       "      <th>0</th>\n",
       "      <td>1</td>\n",
       "    </tr>\n",
       "    <tr>\n",
       "      <th>1</th>\n",
       "      <td>2</td>\n",
       "    </tr>\n",
       "    <tr>\n",
       "      <th>2</th>\n",
       "      <td>8</td>\n",
       "    </tr>\n",
       "    <tr>\n",
       "      <th>3</th>\n",
       "      <td>5</td>\n",
       "    </tr>\n",
       "    <tr>\n",
       "      <th>4</th>\n",
       "      <td>0</td>\n",
       "    </tr>\n",
       "    <tr>\n",
       "      <th>...</th>\n",
       "      <td>...</td>\n",
       "    </tr>\n",
       "    <tr>\n",
       "      <th>49995</th>\n",
       "      <td>0</td>\n",
       "    </tr>\n",
       "    <tr>\n",
       "      <th>49996</th>\n",
       "      <td>13</td>\n",
       "    </tr>\n",
       "    <tr>\n",
       "      <th>49997</th>\n",
       "      <td>1</td>\n",
       "    </tr>\n",
       "    <tr>\n",
       "      <th>49998</th>\n",
       "      <td>3</td>\n",
       "    </tr>\n",
       "    <tr>\n",
       "      <th>49999</th>\n",
       "      <td>1</td>\n",
       "    </tr>\n",
       "  </tbody>\n",
       "</table>\n",
       "<p>50000 rows × 1 columns</p>\n",
       "</div>"
      ],
      "text/plain": [
       "       label\n",
       "0          1\n",
       "1          2\n",
       "2          8\n",
       "3          5\n",
       "4          0\n",
       "...      ...\n",
       "49995      0\n",
       "49996     13\n",
       "49997      1\n",
       "49998      3\n",
       "49999      1\n",
       "\n",
       "[50000 rows x 1 columns]"
      ]
     },
     "execution_count": 7,
     "metadata": {},
     "output_type": "execute_result"
    }
   ],
   "source": [
    "test_predictions_load = joblib.load('../intermediate_save_data/test_predictions_tfidf_lgb.pkl')\n",
    "test_predictions_label = np.argmax(test_predictions_load, axis=1)\n",
    "test_predictions_label_df = pd.DataFrame(test_predictions_label, columns=['label'])\n",
    "test_predictions_label_df"
   ]
  },
  {
   "cell_type": "code",
   "execution_count": 8,
   "metadata": {
    "pycharm": {
     "name": "#%%\n"
    }
   },
   "outputs": [],
   "source": [
    "# score:\n",
    "test_predictions_label_df.to_csv('../intermediate_save_data/test_predictions_tfidf_lgb.csv', index=False)"
   ]
  },
  {
   "cell_type": "code",
   "execution_count": null,
   "metadata": {
    "pycharm": {
     "name": "#%%\n"
    }
   },
   "outputs": [],
   "source": []
  }
 ],
 "metadata": {
  "kernelspec": {
   "display_name": "Python 3",
   "language": "python",
   "name": "python3"
  },
  "language_info": {
   "codemirror_mode": {
    "name": "ipython",
    "version": 3
   },
   "file_extension": ".py",
   "mimetype": "text/x-python",
   "name": "python",
   "nbconvert_exporter": "python",
   "pygments_lexer": "ipython3",
   "version": "3.8.8"
  }
 },
 "nbformat": 4,
 "nbformat_minor": 1
}
