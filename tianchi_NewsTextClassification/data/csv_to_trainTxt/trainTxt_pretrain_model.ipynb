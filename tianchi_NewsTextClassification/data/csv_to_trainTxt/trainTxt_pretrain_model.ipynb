{
 "cells": [
  {
   "cell_type": "code",
   "execution_count": 1,
   "id": "05642186-6a77-470f-894e-19fdc262b196",
   "metadata": {},
   "outputs": [],
   "source": [
    "import pandas as pd"
   ]
  },
  {
   "cell_type": "code",
   "execution_count": 3,
   "id": "9e5472d0-d6b3-4966-b103-76da753b3862",
   "metadata": {},
   "outputs": [],
   "source": [
    "train_dataset = pd.read_csv('../../datasets/train_set.csv', sep='\\t')['text']\n",
    "train_dataset = train_dataset.apply(lambda string: string + ' \\n')\n",
    "\n",
    "test_dataset = pd.read_csv('../../datasets/test_a.csv', sep='\\t')['text']\n",
    "test_dataset = test_dataset.apply(lambda string: string + ' \\n')\n",
    "\n",
    "all_dataset = pd.concat([train_dataset, test_dataset])"
   ]
  },
  {
   "cell_type": "code",
   "execution_count": 4,
   "id": "a2d3994d-0f02-4ad6-8d10-ecba088f071e",
   "metadata": {},
   "outputs": [
    {
     "data": {
      "text/plain": [
       "0        2967 6758 339 2021 1854 3731 4109 3792 4149 15...\n",
       "1        4464 486 6352 5619 2465 4802 1452 3137 5778 54...\n",
       "2        7346 4068 5074 3747 5681 6093 1777 2226 7354 6...\n",
       "3        7159 948 4866 2109 5520 2490 211 3956 5520 549...\n",
       "4        3646 3055 3055 2490 4659 6065 3370 5814 2465 5...\n",
       "                               ...                        \n",
       "49995    3725 4498 2282 1647 6293 4245 4498 3615 1141 2...\n",
       "49996    4811 465 3800 1394 3038 2376 2327 5165 3070 57...\n",
       "49997    5338 1952 3117 4109 299 6656 6654 3792 6831 21...\n",
       "49998    893 3469 5775 584 2490 4223 6569 6663 2124 168...\n",
       "49999    2400 4409 4412 2210 5122 4464 7186 2465 1327 9...\n",
       "Name: text, Length: 250000, dtype: object"
      ]
     },
     "execution_count": 4,
     "metadata": {},
     "output_type": "execute_result"
    }
   ],
   "source": [
    "all_dataset"
   ]
  },
  {
   "cell_type": "code",
   "execution_count": 5,
   "id": "30dbe52e-8121-48f2-9faa-99937a97569d",
   "metadata": {},
   "outputs": [],
   "source": [
    "text_list = []\n",
    "\n",
    "\n",
    "def recursion_func(data_l, lst):\n",
    "    if len(data_l) <= 512:\n",
    "        lst.append(' ')\n",
    "    else:\n",
    "        lst.append(' '.join(data_l[:512]) + '\\n')  # 每次截取data_l前512个token\n",
    "        data_l = data_l[512:]\n",
    "        recursion_func(data_l, lst)  # 递归\n",
    "\n",
    "\n",
    "def apply_func(data):\n",
    "    data_list = data.split()\n",
    "    if len(data_list) >= 512:\n",
    "        recursion_func(data_list, text_list)\n",
    "        text_list.append(' '.join(data_list[-512:]) + '\\n')  # 最后512个token\n",
    "    else:\n",
    "        text_list.append(data + '\\n')\n",
    "\n",
    "\n",
    "_ = all_dataset.apply(apply_func)"
   ]
  },
  {
   "cell_type": "code",
   "execution_count": 6,
   "id": "978bc45c-4ef5-4d5c-b011-191ceba4c2c1",
   "metadata": {},
   "outputs": [
    {
     "data": {
      "text/plain": [
       "726642"
      ]
     },
     "execution_count": 6,
     "metadata": {},
     "output_type": "execute_result"
    }
   ],
   "source": [
    "len(text_list)"
   ]
  },
  {
   "cell_type": "code",
   "execution_count": 7,
   "id": "d26cd4b3-dc82-4e2e-b69f-053e40eacad2",
   "metadata": {},
   "outputs": [
    {
     "name": "stdout",
     "output_type": "stream",
     "text": [
      "#####over#####\n"
     ]
    }
   ],
   "source": [
    "with open(\"trainTxt_pretrain_model.txt\", \"w+\") as f:\n",
    "    f.writelines(text_list)\n",
    "    print(\"#####over#####\")"
   ]
  },
  {
   "cell_type": "code",
   "execution_count": null,
   "id": "9b7f051a-cb81-4d9a-9abf-28a97e03411a",
   "metadata": {},
   "outputs": [],
   "source": []
  }
 ],
 "metadata": {
  "kernelspec": {
   "display_name": "Python [conda env:pytorch_env]",
   "language": "python",
   "name": "conda-env-pytorch_env-py"
  },
  "language_info": {
   "codemirror_mode": {
    "name": "ipython",
    "version": 3
   },
   "file_extension": ".py",
   "mimetype": "text/x-python",
   "name": "python",
   "nbconvert_exporter": "python",
   "pygments_lexer": "ipython3",
   "version": "3.8.12"
  }
 },
 "nbformat": 4,
 "nbformat_minor": 5
}