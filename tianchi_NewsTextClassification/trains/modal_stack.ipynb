{
 "cells": [
  {
   "cell_type": "code",
   "execution_count": 20,
   "metadata": {
    "collapsed": true
   },
   "outputs": [],
   "source": [
    "import joblib\n",
    "import pandas as pd\n",
    "import numpy as np"
   ]
  },
  {
   "cell_type": "code",
   "execution_count": 21,
   "outputs": [],
   "source": [
    "rnn = joblib.load('textrnn/rnn_result_pro.pkl').numpy()\n",
    "roberta1 = joblib.load('roberta/roberta_result_pro_t1.pkl')\n",
    "roberta2 = joblib.load('roberta/roberta_result_pro_t2.pkl')"
   ],
   "metadata": {
    "collapsed": false,
    "pycharm": {
     "name": "#%%\n"
    }
   }
  },
  {
   "cell_type": "code",
   "execution_count": 22,
   "outputs": [
    {
     "data": {
      "text/plain": "array([[-0.8663658 , 10.116234  , -3.2116563 , ..., -4.2162867 ,\n        -3.7920368 , -5.634458  ],\n       [-2.2896082 , -2.6684303 , 11.267864  , ..., -3.684772  ,\n        -0.36331695, -6.412143  ],\n       [-0.1505247 , -1.8812511 , -2.412789  , ..., -1.3999715 ,\n        -5.3646054 , -3.7973776 ],\n       ...,\n       [-2.5561113 ,  9.4224415 , -3.2941458 , ..., -4.679548  ,\n        -3.922461  , -7.0535464 ],\n       [-1.330626  , -1.6287504 , -0.77273697, ..., -1.1789587 ,\n        -4.5843    , -5.29966   ],\n       [-1.7559128 , 10.040874  , -3.1310577 , ..., -3.4217443 ,\n        -4.0975213 , -5.516956  ]], dtype=float32)"
     },
     "execution_count": 22,
     "metadata": {},
     "output_type": "execute_result"
    }
   ],
   "source": [
    "pro_stack = 0.2 * rnn * 0.3 * roberta1 * 0.5 * roberta2\n",
    "pro_stack"
   ],
   "metadata": {
    "collapsed": false,
    "pycharm": {
     "name": "#%%\n"
    }
   }
  },
  {
   "cell_type": "code",
   "execution_count": 23,
   "outputs": [
    {
     "data": {
      "text/plain": "       label\n0          1\n1          2\n2          8\n3          5\n4          0\n...      ...\n49995      9\n49996     13\n49997      1\n49998      3\n49999      1\n\n[50000 rows x 1 columns]",
      "text/html": "<div>\n<style scoped>\n    .dataframe tbody tr th:only-of-type {\n        vertical-align: middle;\n    }\n\n    .dataframe tbody tr th {\n        vertical-align: top;\n    }\n\n    .dataframe thead th {\n        text-align: right;\n    }\n</style>\n<table border=\"1\" class=\"dataframe\">\n  <thead>\n    <tr style=\"text-align: right;\">\n      <th></th>\n      <th>label</th>\n    </tr>\n  </thead>\n  <tbody>\n    <tr>\n      <th>0</th>\n      <td>1</td>\n    </tr>\n    <tr>\n      <th>1</th>\n      <td>2</td>\n    </tr>\n    <tr>\n      <th>2</th>\n      <td>8</td>\n    </tr>\n    <tr>\n      <th>3</th>\n      <td>5</td>\n    </tr>\n    <tr>\n      <th>4</th>\n      <td>0</td>\n    </tr>\n    <tr>\n      <th>...</th>\n      <td>...</td>\n    </tr>\n    <tr>\n      <th>49995</th>\n      <td>9</td>\n    </tr>\n    <tr>\n      <th>49996</th>\n      <td>13</td>\n    </tr>\n    <tr>\n      <th>49997</th>\n      <td>1</td>\n    </tr>\n    <tr>\n      <th>49998</th>\n      <td>3</td>\n    </tr>\n    <tr>\n      <th>49999</th>\n      <td>1</td>\n    </tr>\n  </tbody>\n</table>\n<p>50000 rows × 1 columns</p>\n</div>"
     },
     "execution_count": 23,
     "metadata": {},
     "output_type": "execute_result"
    }
   ],
   "source": [
    "pro_stack_label = np.argmax(pro_stack, axis=1)\n",
    "pro_stack_label = pd.DataFrame(pro_stack_label, columns=['label'])\n",
    "pro_stack_label"
   ],
   "metadata": {
    "collapsed": false,
    "pycharm": {
     "name": "#%%\n"
    }
   }
  },
  {
   "cell_type": "code",
   "execution_count": 24,
   "outputs": [],
   "source": [
    "# test f1 score:0.9737\n",
    "pro_stack_label.to_csv('../predict_result/model_stack.csv', index=False)"
   ],
   "metadata": {
    "collapsed": false,
    "pycharm": {
     "name": "#%%\n"
    }
   }
  }
 ],
 "metadata": {
  "kernelspec": {
   "display_name": "Python 3",
   "language": "python",
   "name": "python3"
  },
  "language_info": {
   "codemirror_mode": {
    "name": "ipython",
    "version": 2
   },
   "file_extension": ".py",
   "mimetype": "text/x-python",
   "name": "python",
   "nbconvert_exporter": "python",
   "pygments_lexer": "ipython2",
   "version": "2.7.6"
  }
 },
 "nbformat": 4,
 "nbformat_minor": 0
}