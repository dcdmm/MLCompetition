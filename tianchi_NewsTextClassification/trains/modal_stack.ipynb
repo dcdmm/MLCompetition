{
 "cells": [
  {
   "cell_type": "code",
   "execution_count": 21,
   "metadata": {
    "collapsed": true
   },
   "outputs": [],
   "source": [
    "import joblib\n",
    "import pandas as pd\n",
    "import numpy as np"
   ]
  },
  {
   "cell_type": "code",
   "execution_count": 22,
   "outputs": [],
   "source": [
    "rnn = joblib.load('textrnn/rnn_result_pro.pkl').numpy()\n",
    "roberta1 = joblib.load('roberta/roberta_result_pro_t1.pkl')\n",
    "roberta2 = joblib.load('roberta/roberta_result_pro_t2.pkl')"
   ],
   "metadata": {
    "collapsed": false,
    "pycharm": {
     "name": "#%%\n"
    }
   }
  },
  {
   "cell_type": "code",
   "execution_count": 23,
   "outputs": [
    {
     "data": {
      "text/plain": "array([[-0.89488244,  9.837197  , -2.6032588 , ..., -3.3777122 ,\n        -3.144171  , -4.569236  ],\n       [-1.93512   , -2.1907315 , 10.645346  , ..., -2.896417  ,\n        -0.5231414 , -5.1772165 ],\n       [-0.3530333 , -1.4699675 , -1.8873293 , ..., -1.3455255 ,\n        -4.1900334 , -3.0775928 ],\n       ...,\n       [-2.247698  ,  9.298098  , -2.6554193 , ..., -3.7402992 ,\n        -3.22766   , -5.61989   ],\n       [-1.0924308 , -1.2212296 , -0.81013334, ..., -0.94101954,\n        -3.6186576 , -4.3206754 ],\n       [-1.6258504 ,  9.77179   , -2.5511897 , ..., -2.7773297 ,\n        -3.3777397 , -4.452996  ]], dtype=float32)"
     },
     "execution_count": 23,
     "metadata": {},
     "output_type": "execute_result"
    }
   ],
   "source": [
    "# pro_stack = 0.4 * rnn +  0.6 * roberta1 #   # 0.9728\n",
    "# pro_stack = 0.2 * rnn +  0.3 * roberta1 + 0.5 * roberta2  # 0.9736\n",
    "pro_stack = 0.3 * rnn +  0.4 * roberta1 + 0.3 * roberta2  # 0.9739\n",
    "pro_stack"
   ],
   "metadata": {
    "collapsed": false,
    "pycharm": {
     "name": "#%%\n"
    }
   }
  },
  {
   "cell_type": "code",
   "execution_count": 24,
   "outputs": [
    {
     "data": {
      "text/plain": "       label\n0          1\n1          2\n2          8\n3          5\n4          0\n...      ...\n49995      9\n49996     13\n49997      1\n49998      3\n49999      1\n\n[50000 rows x 1 columns]",
      "text/html": "<div>\n<style scoped>\n    .dataframe tbody tr th:only-of-type {\n        vertical-align: middle;\n    }\n\n    .dataframe tbody tr th {\n        vertical-align: top;\n    }\n\n    .dataframe thead th {\n        text-align: right;\n    }\n</style>\n<table border=\"1\" class=\"dataframe\">\n  <thead>\n    <tr style=\"text-align: right;\">\n      <th></th>\n      <th>label</th>\n    </tr>\n  </thead>\n  <tbody>\n    <tr>\n      <th>0</th>\n      <td>1</td>\n    </tr>\n    <tr>\n      <th>1</th>\n      <td>2</td>\n    </tr>\n    <tr>\n      <th>2</th>\n      <td>8</td>\n    </tr>\n    <tr>\n      <th>3</th>\n      <td>5</td>\n    </tr>\n    <tr>\n      <th>4</th>\n      <td>0</td>\n    </tr>\n    <tr>\n      <th>...</th>\n      <td>...</td>\n    </tr>\n    <tr>\n      <th>49995</th>\n      <td>9</td>\n    </tr>\n    <tr>\n      <th>49996</th>\n      <td>13</td>\n    </tr>\n    <tr>\n      <th>49997</th>\n      <td>1</td>\n    </tr>\n    <tr>\n      <th>49998</th>\n      <td>3</td>\n    </tr>\n    <tr>\n      <th>49999</th>\n      <td>1</td>\n    </tr>\n  </tbody>\n</table>\n<p>50000 rows × 1 columns</p>\n</div>"
     },
     "execution_count": 24,
     "metadata": {},
     "output_type": "execute_result"
    }
   ],
   "source": [
    "pro_stack_label = np.argmax(pro_stack, axis=1)\n",
    "pro_stack_label = pd.DataFrame(pro_stack_label, columns=['label'])\n",
    "pro_stack_label"
   ],
   "metadata": {
    "collapsed": false,
    "pycharm": {
     "name": "#%%\n"
    }
   }
  },
  {
   "cell_type": "code",
   "execution_count": 25,
   "outputs": [],
   "source": [
    "pro_stack_label.to_csv('../predict_result/model_stack.csv', index=False)"
   ],
   "metadata": {
    "collapsed": false,
    "pycharm": {
     "name": "#%%\n"
    }
   }
  }
 ],
 "metadata": {
  "kernelspec": {
   "display_name": "Python 3",
   "language": "python",
   "name": "python3"
  },
  "language_info": {
   "codemirror_mode": {
    "name": "ipython",
    "version": 2
   },
   "file_extension": ".py",
   "mimetype": "text/x-python",
   "name": "python",
   "nbconvert_exporter": "python",
   "pygments_lexer": "ipython2",
   "version": "2.7.6"
  }
 },
 "nbformat": 4,
 "nbformat_minor": 0
}