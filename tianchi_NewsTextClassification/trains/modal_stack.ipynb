{
 "cells": [
  {
   "cell_type": "code",
   "execution_count": 16,
   "metadata": {
    "collapsed": true
   },
   "outputs": [],
   "source": [
    "import joblib\n",
    "import pandas as pd\n",
    "import numpy as np"
   ]
  },
  {
   "cell_type": "code",
   "execution_count": 17,
   "outputs": [],
   "source": [
    "rnn = joblib.load('textrnn/rnn_result_pro.pkl').numpy()\n",
    "roberta1 = joblib.load('roberta/roberta_result_pro_t1.pkl')\n",
    "roberta2 = joblib.load('roberta/roberta_result_pro_t2.pkl')"
   ],
   "metadata": {
    "collapsed": false,
    "pycharm": {
     "name": "#%%\n"
    }
   }
  },
  {
   "cell_type": "code",
   "execution_count": 18,
   "outputs": [
    {
     "data": {
      "text/plain": "array([[-0.8844013 , 10.104975  , -3.156407  , ..., -4.2203107 ,\n        -3.8091788 , -5.654849  ],\n       [-2.2613075 , -2.6824217 , 11.290149  , ..., -3.668103  ,\n        -0.39016712, -6.4185505 ],\n       [-0.13376468, -1.8181925 , -2.3757088 , ..., -1.4398224 ,\n        -5.3448725 , -3.7397003 ],\n       ...,\n       [-2.5659244 ,  9.417651  , -3.2472925 , ..., -4.6899924 ,\n        -3.9451122 , -7.0721974 ],\n       [-1.3577192 , -1.5600376 , -0.76001006, ..., -1.171032  ,\n        -4.55609   , -5.312426  ],\n       [-1.7414875 , 10.040988  , -3.0993137 , ..., -3.4300299 ,\n        -4.1214333 , -5.5127206 ]], dtype=float32)"
     },
     "execution_count": 18,
     "metadata": {},
     "output_type": "execute_result"
    }
   ],
   "source": [
    "# pro_stack = 0.4 * rnn +  0.6 * roberta1 #   # 0.9728\n",
    "# pro_stack = 0.2 * rnn +  0.3 * roberta1 + 0.5 * roberta2  # 0.9736\n",
    "# pro_stack = 0.3 * rnn +  0.4 * roberta1 + 0.3 * roberta2  # 0.9739\n",
    "# pro_stack = 0.35 * rnn +  0.4 * roberta1 + 0.25 * roberta2  # 0.9741\n",
    "pro_stack = 0.4 * rnn +  0.4 * roberta1 + 0.2 * roberta2  # 0.9738\n",
    "pro_stack"
   ],
   "metadata": {
    "collapsed": false,
    "pycharm": {
     "name": "#%%\n"
    }
   }
  },
  {
   "cell_type": "code",
   "execution_count": 19,
   "outputs": [
    {
     "data": {
      "text/plain": "       label\n0          1\n1          2\n2          8\n3          5\n4          0\n...      ...\n49995      9\n49996     13\n49997      1\n49998      3\n49999      1\n\n[50000 rows x 1 columns]",
      "text/html": "<div>\n<style scoped>\n    .dataframe tbody tr th:only-of-type {\n        vertical-align: middle;\n    }\n\n    .dataframe tbody tr th {\n        vertical-align: top;\n    }\n\n    .dataframe thead th {\n        text-align: right;\n    }\n</style>\n<table border=\"1\" class=\"dataframe\">\n  <thead>\n    <tr style=\"text-align: right;\">\n      <th></th>\n      <th>label</th>\n    </tr>\n  </thead>\n  <tbody>\n    <tr>\n      <th>0</th>\n      <td>1</td>\n    </tr>\n    <tr>\n      <th>1</th>\n      <td>2</td>\n    </tr>\n    <tr>\n      <th>2</th>\n      <td>8</td>\n    </tr>\n    <tr>\n      <th>3</th>\n      <td>5</td>\n    </tr>\n    <tr>\n      <th>4</th>\n      <td>0</td>\n    </tr>\n    <tr>\n      <th>...</th>\n      <td>...</td>\n    </tr>\n    <tr>\n      <th>49995</th>\n      <td>9</td>\n    </tr>\n    <tr>\n      <th>49996</th>\n      <td>13</td>\n    </tr>\n    <tr>\n      <th>49997</th>\n      <td>1</td>\n    </tr>\n    <tr>\n      <th>49998</th>\n      <td>3</td>\n    </tr>\n    <tr>\n      <th>49999</th>\n      <td>1</td>\n    </tr>\n  </tbody>\n</table>\n<p>50000 rows × 1 columns</p>\n</div>"
     },
     "execution_count": 19,
     "metadata": {},
     "output_type": "execute_result"
    }
   ],
   "source": [
    "pro_stack_label = np.argmax(pro_stack, axis=1)\n",
    "pro_stack_label = pd.DataFrame(pro_stack_label, columns=['label'])\n",
    "pro_stack_label"
   ],
   "metadata": {
    "collapsed": false,
    "pycharm": {
     "name": "#%%\n"
    }
   }
  },
  {
   "cell_type": "code",
   "execution_count": 20,
   "outputs": [],
   "source": [
    "pro_stack_label.to_csv('../predict_result/model_stack.csv', index=False)"
   ],
   "metadata": {
    "collapsed": false,
    "pycharm": {
     "name": "#%%\n"
    }
   }
  }
 ],
 "metadata": {
  "kernelspec": {
   "display_name": "Python 3",
   "language": "python",
   "name": "python3"
  },
  "language_info": {
   "codemirror_mode": {
    "name": "ipython",
    "version": 2
   },
   "file_extension": ".py",
   "mimetype": "text/x-python",
   "name": "python",
   "nbconvert_exporter": "python",
   "pygments_lexer": "ipython2",
   "version": "2.7.6"
  }
 },
 "nbformat": 4,
 "nbformat_minor": 0
}