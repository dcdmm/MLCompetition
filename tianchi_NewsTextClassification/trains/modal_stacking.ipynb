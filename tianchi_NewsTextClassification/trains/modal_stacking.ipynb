{
 "cells": [
  {
   "cell_type": "code",
   "execution_count": 26,
   "metadata": {
    "collapsed": true
   },
   "outputs": [],
   "source": [
    "import joblib\n",
    "import pandas as pd\n",
    "import numpy as np"
   ]
  },
  {
   "cell_type": "code",
   "execution_count": 27,
   "outputs": [],
   "source": [
    "rnn = joblib.load('textrnn/rnn_result_pro.pkl').numpy()\n",
    "roberta1 = joblib.load('roberta/roberta_result_pro_t1.pkl')\n",
    "roberta2 = joblib.load('roberta/roberta_result_pro_t2.pkl')"
   ],
   "metadata": {
    "collapsed": false,
    "pycharm": {
     "name": "#%%\n"
    }
   }
  },
  {
   "cell_type": "code",
   "execution_count": 28,
   "outputs": [
    {
     "data": {
      "text/plain": "array([[-0.88964176,  9.9710865 , -2.8798327 , ..., -3.799011  ,\n        -3.4766748 , -5.1120424 ],\n       [-2.0982137 , -2.4365764 , 10.967748  , ..., -3.2822602 ,\n        -0.45665425, -5.7978835 ],\n       [-0.24339901, -1.6440799 , -2.131519  , ..., -1.392674  ,\n        -4.7674527 , -3.4086466 ],\n       ...,\n       [-2.406811  ,  9.357874  , -2.951356  , ..., -4.215146  ,\n        -3.586386  , -6.346044  ],\n       [-1.2250749 , -1.3906337 , -0.78507173, ..., -1.0560257 ,\n        -4.0873737 , -4.8165507 ],\n       [-1.6836689 ,  9.906389  , -2.8252518 , ..., -3.1036797 ,\n        -3.7495863 , -4.982858  ]], dtype=float32)"
     },
     "execution_count": 28,
     "metadata": {},
     "output_type": "execute_result"
    }
   ],
   "source": [
    "pro_stack = 0.35 * rnn +  0.4 * roberta1 + 0.25 * roberta2  # 0.9741\n",
    "pro_stack"
   ],
   "metadata": {
    "collapsed": false,
    "pycharm": {
     "name": "#%%\n"
    }
   }
  },
  {
   "cell_type": "code",
   "execution_count": 29,
   "outputs": [
    {
     "data": {
      "text/plain": "       label\n0          1\n1          2\n2          8\n3          5\n4          0\n...      ...\n49995      9\n49996     13\n49997      1\n49998      3\n49999      1\n\n[50000 rows x 1 columns]",
      "text/html": "<div>\n<style scoped>\n    .dataframe tbody tr th:only-of-type {\n        vertical-align: middle;\n    }\n\n    .dataframe tbody tr th {\n        vertical-align: top;\n    }\n\n    .dataframe thead th {\n        text-align: right;\n    }\n</style>\n<table border=\"1\" class=\"dataframe\">\n  <thead>\n    <tr style=\"text-align: right;\">\n      <th></th>\n      <th>label</th>\n    </tr>\n  </thead>\n  <tbody>\n    <tr>\n      <th>0</th>\n      <td>1</td>\n    </tr>\n    <tr>\n      <th>1</th>\n      <td>2</td>\n    </tr>\n    <tr>\n      <th>2</th>\n      <td>8</td>\n    </tr>\n    <tr>\n      <th>3</th>\n      <td>5</td>\n    </tr>\n    <tr>\n      <th>4</th>\n      <td>0</td>\n    </tr>\n    <tr>\n      <th>...</th>\n      <td>...</td>\n    </tr>\n    <tr>\n      <th>49995</th>\n      <td>9</td>\n    </tr>\n    <tr>\n      <th>49996</th>\n      <td>13</td>\n    </tr>\n    <tr>\n      <th>49997</th>\n      <td>1</td>\n    </tr>\n    <tr>\n      <th>49998</th>\n      <td>3</td>\n    </tr>\n    <tr>\n      <th>49999</th>\n      <td>1</td>\n    </tr>\n  </tbody>\n</table>\n<p>50000 rows × 1 columns</p>\n</div>"
     },
     "execution_count": 29,
     "metadata": {},
     "output_type": "execute_result"
    }
   ],
   "source": [
    "pro_stack_label = np.argmax(pro_stack, axis=1)\n",
    "pro_stack_label = pd.DataFrame(pro_stack_label, columns=['label'])\n",
    "pro_stack_label"
   ],
   "metadata": {
    "collapsed": false,
    "pycharm": {
     "name": "#%%\n"
    }
   }
  },
  {
   "cell_type": "code",
   "execution_count": 30,
   "outputs": [],
   "source": [
    "pro_stack_label.to_csv('../predict_result/model_stack.csv', index=False)"
   ],
   "metadata": {
    "collapsed": false,
    "pycharm": {
     "name": "#%%\n"
    }
   }
  }
 ],
 "metadata": {
  "kernelspec": {
   "display_name": "Python 3",
   "language": "python",
   "name": "python3"
  },
  "language_info": {
   "codemirror_mode": {
    "name": "ipython",
    "version": 2
   },
   "file_extension": ".py",
   "mimetype": "text/x-python",
   "name": "python",
   "nbconvert_exporter": "python",
   "pygments_lexer": "ipython2",
   "version": "2.7.6"
  }
 },
 "nbformat": 4,
 "nbformat_minor": 0
}