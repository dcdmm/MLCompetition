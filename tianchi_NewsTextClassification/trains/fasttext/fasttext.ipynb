{
 "cells": [
  {
   "cell_type": "code",
   "execution_count": 3,
   "metadata": {
    "collapsed": true,
    "jupyter": {
     "outputs_hidden": true
    }
   },
   "outputs": [],
   "source": [
    "import fasttext\n",
    "import numpy as np\n",
    "import pandas as pd"
   ]
  },
  {
   "cell_type": "code",
   "execution_count": 4,
   "metadata": {
    "collapsed": false,
    "jupyter": {
     "outputs_hidden": false
    },
    "pycharm": {
     "name": "#%%\n"
    }
   },
   "outputs": [],
   "source": [
    "train_df = pd.read_csv('../../datasets/train_set.csv', sep='\\t')\n",
    "test_df = pd.read_csv('../../datasets/test_a.csv', sep='\\t')"
   ]
  },
  {
   "cell_type": "code",
   "execution_count": 5,
   "metadata": {
    "collapsed": false,
    "jupyter": {
     "outputs_hidden": false
    },
    "pycharm": {
     "name": "#%%\n"
    }
   },
   "outputs": [
    {
     "data": {
      "text/plain": "   label                                               text     label_ft\n0      2  2967 6758 339 2021 1854 3731 4109 3792 4149 15...   __label__2\n1     11  4464 486 6352 5619 2465 4802 1452 3137 5778 54...  __label__11\n2      3  7346 4068 5074 3747 5681 6093 1777 2226 7354 6...   __label__3\n3      2  7159 948 4866 2109 5520 2490 211 3956 5520 549...   __label__2\n4      3  3646 3055 3055 2490 4659 6065 3370 5814 2465 5...   __label__3",
      "text/html": "<div>\n<style scoped>\n    .dataframe tbody tr th:only-of-type {\n        vertical-align: middle;\n    }\n\n    .dataframe tbody tr th {\n        vertical-align: top;\n    }\n\n    .dataframe thead th {\n        text-align: right;\n    }\n</style>\n<table border=\"1\" class=\"dataframe\">\n  <thead>\n    <tr style=\"text-align: right;\">\n      <th></th>\n      <th>label</th>\n      <th>text</th>\n      <th>label_ft</th>\n    </tr>\n  </thead>\n  <tbody>\n    <tr>\n      <th>0</th>\n      <td>2</td>\n      <td>2967 6758 339 2021 1854 3731 4109 3792 4149 15...</td>\n      <td>__label__2</td>\n    </tr>\n    <tr>\n      <th>1</th>\n      <td>11</td>\n      <td>4464 486 6352 5619 2465 4802 1452 3137 5778 54...</td>\n      <td>__label__11</td>\n    </tr>\n    <tr>\n      <th>2</th>\n      <td>3</td>\n      <td>7346 4068 5074 3747 5681 6093 1777 2226 7354 6...</td>\n      <td>__label__3</td>\n    </tr>\n    <tr>\n      <th>3</th>\n      <td>2</td>\n      <td>7159 948 4866 2109 5520 2490 211 3956 5520 549...</td>\n      <td>__label__2</td>\n    </tr>\n    <tr>\n      <th>4</th>\n      <td>3</td>\n      <td>3646 3055 3055 2490 4659 6065 3370 5814 2465 5...</td>\n      <td>__label__3</td>\n    </tr>\n  </tbody>\n</table>\n</div>"
     },
     "execution_count": 5,
     "metadata": {},
     "output_type": "execute_result"
    }
   ],
   "source": [
    "train_df['label_ft'] = '__label__' + train_df['label'].astype(str)\n",
    "train_df.head()"
   ]
  },
  {
   "cell_type": "code",
   "execution_count": 6,
   "metadata": {
    "collapsed": false,
    "jupyter": {
     "outputs_hidden": false
    },
    "pycharm": {
     "name": "#%%\n"
    }
   },
   "outputs": [],
   "source": [
    "# fasttext训练的文本文件\n",
    "train_df[['label_ft', 'text']].to_csv('train_fasttext.csv', index=None, header=None, sep='\\t')"
   ]
  },
  {
   "cell_type": "code",
   "execution_count": 7,
   "metadata": {
    "collapsed": false,
    "jupyter": {
     "outputs_hidden": false
    },
    "pycharm": {
     "name": "#%%\n"
    }
   },
   "outputs": [],
   "source": [
    "# 速度较快\n",
    "model = fasttext.train_supervised('train_fasttext.csv', lr=1.0, wordNgrams=5,\n",
    "                                  verbose=2, minCount=1, epoch=25, loss=\"hs\")"
   ]
  },
  {
   "cell_type": "code",
   "execution_count": 8,
   "metadata": {
    "collapsed": false,
    "jupyter": {
     "outputs_hidden": false
    },
    "pycharm": {
     "name": "#%%\n"
    }
   },
   "outputs": [
    {
     "data": {
      "text/plain": "[['__label__1'],\n ['__label__2'],\n ['__label__8'],\n ['__label__5'],\n ['__label__0'],\n ['__label__4'],\n ['__label__2'],\n ['__label__1'],\n ['__label__6'],\n ['__label__4'],\n ['__label__1'],\n ['__label__0'],\n ['__label__3'],\n ['__label__6'],\n ['__label__0'],\n ['__label__1'],\n ['__label__2'],\n ['__label__1'],\n ['__label__7'],\n ['__label__0'],\n ['__label__2'],\n ['__label__0'],\n ['__label__7'],\n ['__label__6'],\n ['__label__2'],\n ['__label__5'],\n ['__label__1'],\n ['__label__2'],\n ['__label__2'],\n ['__label__6'],\n ['__label__0'],\n ['__label__7'],\n ['__label__1'],\n ['__label__1'],\n ['__label__6'],\n ['__label__0'],\n ['__label__3'],\n ['__label__9'],\n ['__label__10'],\n ['__label__3'],\n ['__label__5'],\n ['__label__2'],\n ['__label__1'],\n ['__label__2'],\n ['__label__0'],\n ['__label__1'],\n ['__label__0'],\n ['__label__2'],\n ['__label__2'],\n ['__label__0'],\n ['__label__5'],\n ['__label__2'],\n ['__label__3'],\n ['__label__1'],\n ['__label__4'],\n ['__label__7'],\n ['__label__6'],\n ['__label__7'],\n ['__label__0'],\n ['__label__3'],\n ['__label__5'],\n ['__label__3'],\n ['__label__0'],\n ['__label__6'],\n ['__label__2'],\n ['__label__13'],\n ['__label__1'],\n ['__label__0'],\n ['__label__2'],\n ['__label__2'],\n ['__label__6'],\n ['__label__1'],\n ['__label__4'],\n ['__label__4'],\n ['__label__0'],\n ['__label__2'],\n ['__label__2'],\n ['__label__2'],\n ['__label__5'],\n ['__label__0'],\n ['__label__10'],\n ['__label__8'],\n ['__label__1'],\n ['__label__4'],\n ['__label__9'],\n ['__label__1'],\n ['__label__1'],\n ['__label__10'],\n ['__label__3'],\n ['__label__0'],\n ['__label__9'],\n ['__label__1'],\n ['__label__1'],\n ['__label__8'],\n ['__label__3'],\n ['__label__7'],\n ['__label__10'],\n ['__label__10'],\n ['__label__3'],\n ['__label__0'],\n ['__label__2'],\n ['__label__0'],\n ['__label__6'],\n ['__label__3'],\n ['__label__0'],\n ['__label__0'],\n ['__label__3'],\n ['__label__2'],\n ['__label__8'],\n ['__label__4'],\n ['__label__1'],\n ['__label__2'],\n ['__label__2'],\n ['__label__3'],\n ['__label__5'],\n ['__label__2'],\n ['__label__1'],\n ['__label__7'],\n ['__label__2'],\n ['__label__1'],\n ['__label__0'],\n ['__label__2'],\n ['__label__7'],\n ['__label__3'],\n ['__label__2'],\n ['__label__9'],\n ['__label__2'],\n ['__label__1'],\n ['__label__1'],\n ['__label__0'],\n ['__label__0'],\n ['__label__6'],\n ['__label__2'],\n ['__label__2'],\n ['__label__2'],\n ['__label__2'],\n ['__label__0'],\n ['__label__0'],\n ['__label__0'],\n ['__label__0'],\n ['__label__1'],\n ['__label__0'],\n ['__label__6'],\n ['__label__7'],\n ['__label__1'],\n ['__label__0'],\n ['__label__0'],\n ['__label__0'],\n ['__label__0'],\n ['__label__5'],\n ['__label__3'],\n ['__label__1'],\n ['__label__2'],\n ['__label__1'],\n ['__label__3'],\n ['__label__7'],\n ['__label__2'],\n ['__label__8'],\n ['__label__5'],\n ['__label__5'],\n ['__label__2'],\n ['__label__8'],\n ['__label__2'],\n ['__label__9'],\n ['__label__5'],\n ['__label__0'],\n ['__label__6'],\n ['__label__5'],\n ['__label__2'],\n ['__label__1'],\n ['__label__3'],\n ['__label__4'],\n ['__label__2'],\n ['__label__3'],\n ['__label__0'],\n ['__label__3'],\n ['__label__7'],\n ['__label__0'],\n ['__label__2'],\n ['__label__1'],\n ['__label__4'],\n ['__label__3'],\n ['__label__1'],\n ['__label__4'],\n ['__label__8'],\n ['__label__2'],\n ['__label__8'],\n ['__label__2'],\n ['__label__5'],\n ['__label__9'],\n ['__label__2'],\n ['__label__7'],\n ['__label__1'],\n ['__label__4'],\n ['__label__0'],\n ['__label__3'],\n ['__label__6'],\n ['__label__7'],\n ['__label__0'],\n ['__label__7'],\n ['__label__9'],\n ['__label__8'],\n ['__label__0'],\n ['__label__2'],\n ['__label__0'],\n ['__label__6'],\n ['__label__2'],\n ['__label__3'],\n ['__label__2'],\n ['__label__0'],\n ['__label__1'],\n ['__label__7'],\n ['__label__2'],\n ['__label__7'],\n ['__label__1'],\n ['__label__3'],\n ['__label__2'],\n ['__label__0'],\n ['__label__3'],\n ['__label__10'],\n ['__label__9'],\n ['__label__4'],\n ['__label__2'],\n ['__label__0'],\n ['__label__3'],\n ['__label__0'],\n ['__label__1'],\n ['__label__1'],\n ['__label__0'],\n ['__label__1'],\n ['__label__1'],\n ['__label__6'],\n ['__label__11'],\n ['__label__2'],\n ['__label__4'],\n ['__label__5'],\n ['__label__3'],\n ['__label__1'],\n ['__label__1'],\n ['__label__0'],\n ['__label__1'],\n ['__label__10'],\n ['__label__0'],\n ['__label__8'],\n ['__label__11'],\n ['__label__0'],\n ['__label__3'],\n ['__label__8'],\n ['__label__3'],\n ['__label__7'],\n ['__label__0'],\n ['__label__4'],\n ['__label__0'],\n ['__label__1'],\n ['__label__3'],\n ['__label__3'],\n ['__label__4'],\n ['__label__2'],\n ['__label__1'],\n ['__label__11'],\n ['__label__2'],\n ['__label__1'],\n ['__label__0'],\n ['__label__2'],\n ['__label__7'],\n ['__label__1'],\n ['__label__11'],\n ['__label__0'],\n ['__label__0'],\n ['__label__6'],\n ['__label__2'],\n ['__label__0'],\n ['__label__4'],\n ['__label__1'],\n ['__label__1'],\n ['__label__3'],\n ['__label__4'],\n ['__label__1'],\n ['__label__1'],\n ['__label__11'],\n ['__label__8'],\n ['__label__6'],\n ['__label__3'],\n ['__label__0'],\n ['__label__0'],\n ['__label__1'],\n ['__label__5'],\n ['__label__3'],\n ['__label__0'],\n ['__label__1'],\n ['__label__7'],\n ['__label__7'],\n ['__label__4'],\n ['__label__4'],\n ['__label__0'],\n ['__label__8'],\n ['__label__2'],\n ['__label__0'],\n ['__label__0'],\n ['__label__1'],\n ['__label__6'],\n ['__label__2'],\n ['__label__4'],\n ['__label__5'],\n ['__label__3'],\n ['__label__13'],\n ['__label__7'],\n ['__label__1'],\n ['__label__2'],\n ['__label__6'],\n ['__label__1'],\n ['__label__3'],\n ['__label__2'],\n ['__label__10'],\n ['__label__1'],\n ['__label__1'],\n ['__label__3'],\n ['__label__4'],\n ['__label__0'],\n ['__label__2'],\n ['__label__5'],\n ['__label__1'],\n ['__label__13'],\n ['__label__2'],\n ['__label__10'],\n ['__label__4'],\n ['__label__2'],\n ['__label__0'],\n ['__label__7'],\n ['__label__3'],\n ['__label__1'],\n ['__label__1'],\n ['__label__1'],\n ['__label__2'],\n ['__label__10'],\n ['__label__0'],\n ['__label__1'],\n ['__label__1'],\n ['__label__1'],\n ['__label__3'],\n ['__label__7'],\n ['__label__1'],\n ['__label__1'],\n ['__label__1'],\n ['__label__0'],\n ['__label__2'],\n ['__label__5'],\n ['__label__0'],\n ['__label__4'],\n ['__label__0'],\n ['__label__1'],\n ['__label__0'],\n ['__label__0'],\n ['__label__0'],\n ['__label__2'],\n ['__label__3'],\n ['__label__0'],\n ['__label__1'],\n ['__label__2'],\n ['__label__2'],\n ['__label__1'],\n ['__label__1'],\n ['__label__7'],\n ['__label__7'],\n ['__label__7'],\n ['__label__5'],\n ['__label__2'],\n ['__label__2'],\n ['__label__2'],\n ['__label__1'],\n ['__label__1'],\n ['__label__0'],\n ['__label__1'],\n ['__label__7'],\n ['__label__7'],\n ['__label__0'],\n ['__label__6'],\n ['__label__10'],\n ['__label__1'],\n ['__label__5'],\n ['__label__2'],\n ['__label__0'],\n ['__label__2'],\n ['__label__5'],\n ['__label__8'],\n ['__label__1'],\n ['__label__1'],\n ['__label__2'],\n ['__label__1'],\n ['__label__0'],\n ['__label__2'],\n ['__label__1'],\n ['__label__0'],\n ['__label__0'],\n ['__label__7'],\n ['__label__5'],\n ['__label__0'],\n ['__label__0'],\n ['__label__4'],\n ['__label__6'],\n ['__label__2'],\n ['__label__6'],\n ['__label__5'],\n ['__label__8'],\n ['__label__4'],\n ['__label__3'],\n ['__label__10'],\n ['__label__1'],\n ['__label__6'],\n ['__label__1'],\n ['__label__7'],\n ['__label__1'],\n ['__label__0'],\n ['__label__0'],\n ['__label__0'],\n ['__label__4'],\n ['__label__2'],\n ['__label__9'],\n ['__label__9'],\n ['__label__4'],\n ['__label__1'],\n ['__label__7'],\n ['__label__12'],\n ['__label__2'],\n ['__label__3'],\n ['__label__3'],\n ['__label__3'],\n ['__label__10'],\n ['__label__0'],\n ['__label__4'],\n ['__label__5'],\n ['__label__9'],\n ['__label__1'],\n ['__label__10'],\n ['__label__10'],\n ['__label__3'],\n ['__label__1'],\n ['__label__0'],\n ['__label__1'],\n ['__label__1'],\n ['__label__3'],\n ['__label__0'],\n ['__label__0'],\n ['__label__1'],\n ['__label__2'],\n ['__label__8'],\n ['__label__0'],\n ['__label__0'],\n ['__label__0'],\n ['__label__3'],\n ['__label__4'],\n ['__label__3'],\n ['__label__2'],\n ['__label__0'],\n ['__label__8'],\n ['__label__5'],\n ['__label__2'],\n ['__label__9'],\n ['__label__4'],\n ['__label__1'],\n ['__label__4'],\n ['__label__3'],\n ['__label__5'],\n ['__label__1'],\n ['__label__5'],\n ['__label__2'],\n ['__label__0'],\n ['__label__12'],\n ['__label__0'],\n ['__label__1'],\n ['__label__1'],\n ['__label__5'],\n ['__label__2'],\n ['__label__4'],\n ['__label__9'],\n ['__label__0'],\n ['__label__1'],\n ['__label__0'],\n ['__label__4'],\n ['__label__5'],\n ['__label__3'],\n ['__label__1'],\n ['__label__2'],\n ['__label__1'],\n ['__label__1'],\n ['__label__3'],\n ['__label__3'],\n ['__label__0'],\n ['__label__7'],\n ['__label__3'],\n ['__label__6'],\n ['__label__10'],\n ['__label__3'],\n ['__label__1'],\n ['__label__3'],\n ['__label__8'],\n ['__label__1'],\n ['__label__0'],\n ['__label__3'],\n ['__label__0'],\n ['__label__1'],\n ['__label__7'],\n ['__label__10'],\n ['__label__3'],\n ['__label__3'],\n ['__label__1'],\n ['__label__6'],\n ['__label__6'],\n ['__label__2'],\n ['__label__3'],\n ['__label__0'],\n ['__label__2'],\n ['__label__3'],\n ['__label__6'],\n ['__label__4'],\n ['__label__4'],\n ['__label__2'],\n ['__label__2'],\n ['__label__0'],\n ['__label__2'],\n ['__label__0'],\n ['__label__3'],\n ['__label__0'],\n ['__label__2'],\n ['__label__0'],\n ['__label__0'],\n ['__label__4'],\n ['__label__0'],\n ['__label__0'],\n ['__label__1'],\n ['__label__1'],\n ['__label__4'],\n ['__label__11'],\n ['__label__1'],\n ['__label__0'],\n ['__label__3'],\n ['__label__1'],\n ['__label__1'],\n ['__label__3'],\n ['__label__3'],\n ['__label__10'],\n ['__label__2'],\n ['__label__6'],\n ['__label__1'],\n ['__label__1'],\n ['__label__2'],\n ['__label__3'],\n ['__label__5'],\n ['__label__4'],\n ['__label__2'],\n ['__label__2'],\n ['__label__4'],\n ['__label__5'],\n ['__label__3'],\n ['__label__1'],\n ['__label__0'],\n ['__label__0'],\n ['__label__1'],\n ['__label__3'],\n ['__label__1'],\n ['__label__1'],\n ['__label__9'],\n ['__label__2'],\n ['__label__5'],\n ['__label__10'],\n ['__label__1'],\n ['__label__10'],\n ['__label__2'],\n ['__label__0'],\n ['__label__11'],\n ['__label__1'],\n ['__label__6'],\n ['__label__6'],\n ['__label__1'],\n ['__label__8'],\n ['__label__2'],\n ['__label__9'],\n ['__label__10'],\n ['__label__7'],\n ['__label__3'],\n ['__label__0'],\n ['__label__0'],\n ['__label__9'],\n ['__label__0'],\n ['__label__9'],\n ['__label__5'],\n ['__label__2'],\n ['__label__13'],\n ['__label__0'],\n ['__label__0'],\n ['__label__2'],\n ['__label__2'],\n ['__label__10'],\n ['__label__10'],\n ['__label__4'],\n ['__label__7'],\n ['__label__9'],\n ['__label__0'],\n ['__label__1'],\n ['__label__11'],\n ['__label__5'],\n ['__label__2'],\n ['__label__0'],\n ['__label__2'],\n ['__label__4'],\n ['__label__10'],\n ['__label__3'],\n ['__label__0'],\n ['__label__6'],\n ['__label__11'],\n ['__label__4'],\n ['__label__4'],\n ['__label__1'],\n ['__label__0'],\n ['__label__9'],\n ['__label__1'],\n ['__label__2'],\n ['__label__3'],\n ['__label__0'],\n ['__label__5'],\n ['__label__3'],\n ['__label__7'],\n ['__label__7'],\n ['__label__0'],\n ['__label__6'],\n ['__label__1'],\n ['__label__2'],\n ['__label__1'],\n ['__label__3'],\n ['__label__9'],\n ['__label__8'],\n ['__label__4'],\n ['__label__0'],\n ['__label__3'],\n ['__label__0'],\n ['__label__0'],\n ['__label__2'],\n ['__label__10'],\n ['__label__3'],\n ['__label__0'],\n ['__label__2'],\n ['__label__10'],\n ['__label__0'],\n ['__label__0'],\n ['__label__6'],\n ['__label__1'],\n ['__label__1'],\n ['__label__2'],\n ['__label__1'],\n ['__label__1'],\n ['__label__8'],\n ['__label__0'],\n ['__label__3'],\n ['__label__10'],\n ['__label__0'],\n ['__label__3'],\n ['__label__2'],\n ['__label__1'],\n ['__label__9'],\n ['__label__7'],\n ['__label__2'],\n ['__label__1'],\n ['__label__0'],\n ['__label__3'],\n ['__label__10'],\n ['__label__1'],\n ['__label__5'],\n ['__label__1'],\n ['__label__0'],\n ['__label__2'],\n ['__label__1'],\n ['__label__8'],\n ['__label__7'],\n ['__label__0'],\n ['__label__3'],\n ['__label__1'],\n ['__label__10'],\n ['__label__6'],\n ['__label__7'],\n ['__label__1'],\n ['__label__3'],\n ['__label__0'],\n ['__label__7'],\n ['__label__10'],\n ['__label__4'],\n ['__label__5'],\n ['__label__5'],\n ['__label__0'],\n ['__label__4'],\n ['__label__11'],\n ['__label__2'],\n ['__label__5'],\n ['__label__5'],\n ['__label__2'],\n ['__label__0'],\n ['__label__6'],\n ['__label__0'],\n ['__label__6'],\n ['__label__1'],\n ['__label__1'],\n ['__label__0'],\n ['__label__1'],\n ['__label__0'],\n ['__label__1'],\n ['__label__3'],\n ['__label__9'],\n ['__label__1'],\n ['__label__4'],\n ['__label__5'],\n ['__label__3'],\n ['__label__5'],\n ['__label__5'],\n ['__label__0'],\n ['__label__8'],\n ['__label__3'],\n ['__label__10'],\n ['__label__1'],\n ['__label__0'],\n ['__label__5'],\n ['__label__3'],\n ['__label__3'],\n ['__label__3'],\n ['__label__2'],\n ['__label__1'],\n ['__label__2'],\n ['__label__0'],\n ['__label__3'],\n ['__label__3'],\n ['__label__1'],\n ['__label__11'],\n ['__label__10'],\n ['__label__0'],\n ['__label__3'],\n ['__label__0'],\n ['__label__0'],\n ['__label__1'],\n ['__label__8'],\n ['__label__1'],\n ['__label__12'],\n ['__label__2'],\n ['__label__4'],\n ['__label__4'],\n ['__label__4'],\n ['__label__2'],\n ['__label__1'],\n ['__label__1'],\n ['__label__5'],\n ['__label__6'],\n ['__label__1'],\n ['__label__0'],\n ['__label__0'],\n ['__label__10'],\n ['__label__4'],\n ['__label__3'],\n ['__label__5'],\n ['__label__1'],\n ['__label__0'],\n ['__label__10'],\n ['__label__3'],\n ['__label__10'],\n ['__label__2'],\n ['__label__5'],\n ['__label__7'],\n ['__label__4'],\n ['__label__7'],\n ['__label__3'],\n ['__label__2'],\n ['__label__4'],\n ['__label__2'],\n ['__label__3'],\n ['__label__1'],\n ['__label__3'],\n ['__label__0'],\n ['__label__9'],\n ['__label__2'],\n ['__label__4'],\n ['__label__10'],\n ['__label__0'],\n ['__label__6'],\n ['__label__1'],\n ['__label__1'],\n ['__label__1'],\n ['__label__3'],\n ['__label__1'],\n ['__label__6'],\n ['__label__0'],\n ['__label__0'],\n ['__label__2'],\n ['__label__3'],\n ['__label__1'],\n ['__label__1'],\n ['__label__8'],\n ['__label__5'],\n ['__label__0'],\n ['__label__8'],\n ['__label__11'],\n ['__label__1'],\n ['__label__8'],\n ['__label__2'],\n ['__label__9'],\n ['__label__7'],\n ['__label__2'],\n ['__label__1'],\n ['__label__4'],\n ['__label__2'],\n ['__label__0'],\n ['__label__8'],\n ['__label__11'],\n ['__label__2'],\n ['__label__1'],\n ['__label__1'],\n ['__label__3'],\n ['__label__0'],\n ['__label__8'],\n ['__label__2'],\n ['__label__0'],\n ['__label__1'],\n ['__label__11'],\n ['__label__5'],\n ['__label__2'],\n ['__label__0'],\n ['__label__3'],\n ['__label__4'],\n ['__label__1'],\n ['__label__7'],\n ['__label__0'],\n ['__label__10'],\n ['__label__10'],\n ['__label__0'],\n ['__label__1'],\n ['__label__6'],\n ['__label__2'],\n ['__label__8'],\n ['__label__9'],\n ['__label__3'],\n ['__label__9'],\n ['__label__3'],\n ['__label__1'],\n ['__label__2'],\n ['__label__3'],\n ['__label__0'],\n ['__label__0'],\n ['__label__4'],\n ['__label__4'],\n ['__label__3'],\n ['__label__2'],\n ['__label__5'],\n ['__label__3'],\n ['__label__5'],\n ['__label__3'],\n ['__label__0'],\n ['__label__1'],\n ['__label__1'],\n ['__label__5'],\n ['__label__1'],\n ['__label__2'],\n ['__label__3'],\n ['__label__4'],\n ['__label__0'],\n ['__label__1'],\n ['__label__1'],\n ['__label__4'],\n ['__label__2'],\n ['__label__1'],\n ['__label__0'],\n ['__label__2'],\n ['__label__5'],\n ['__label__1'],\n ['__label__0'],\n ['__label__3'],\n ['__label__6'],\n ['__label__0'],\n ['__label__2'],\n ['__label__0'],\n ['__label__1'],\n ['__label__7'],\n ['__label__9'],\n ['__label__0'],\n ['__label__7'],\n ['__label__2'],\n ['__label__0'],\n ['__label__2'],\n ['__label__5'],\n ['__label__3'],\n ['__label__2'],\n ['__label__5'],\n ['__label__3'],\n ['__label__4'],\n ['__label__3'],\n ['__label__7'],\n ['__label__0'],\n ['__label__10'],\n ['__label__2'],\n ['__label__0'],\n ['__label__3'],\n ['__label__0'],\n ['__label__2'],\n ['__label__9'],\n ['__label__9'],\n ['__label__0'],\n ['__label__0'],\n ['__label__2'],\n ['__label__4'],\n ['__label__0'],\n ['__label__0'],\n ['__label__7'],\n ['__label__1'],\n ['__label__6'],\n ['__label__2'],\n ['__label__0'],\n ['__label__0'],\n ['__label__1'],\n ['__label__8'],\n ['__label__3'],\n ['__label__1'],\n ['__label__2'],\n ['__label__0'],\n ['__label__5'],\n ['__label__1'],\n ['__label__2'],\n ['__label__6'],\n ['__label__2'],\n ['__label__1'],\n ['__label__5'],\n ['__label__0'],\n ['__label__1'],\n ['__label__0'],\n ['__label__12'],\n ['__label__0'],\n ['__label__11'],\n ['__label__7'],\n ['__label__3'],\n ['__label__0'],\n ['__label__0'],\n ['__label__5'],\n ['__label__3'],\n ['__label__7'],\n ['__label__1'],\n ['__label__4'],\n ['__label__2'],\n ['__label__3'],\n ['__label__3'],\n ['__label__2'],\n ['__label__2'],\n ['__label__13'],\n ['__label__3'],\n ['__label__10'],\n ['__label__0'],\n ['__label__13'],\n ['__label__0'],\n ['__label__1'],\n ['__label__3'],\n ['__label__8'],\n ['__label__2'],\n ['__label__2'],\n ['__label__9'],\n ['__label__0'],\n ['__label__0'],\n ['__label__2'],\n ['__label__1'],\n ['__label__7'],\n ['__label__0'],\n ['__label__1'],\n ['__label__5'],\n ['__label__2'],\n ['__label__0'],\n ['__label__0'],\n ['__label__1'],\n ['__label__6'],\n ['__label__3'],\n ['__label__8'],\n ['__label__1'],\n ['__label__8'],\n ['__label__8'],\n ['__label__1'],\n ['__label__2'],\n ['__label__0'],\n ['__label__2'],\n ['__label__1'],\n ['__label__2'],\n ['__label__4'],\n ['__label__6'],\n ['__label__1'],\n ['__label__7'],\n ['__label__4'],\n ['__label__0'],\n ['__label__0'],\n ['__label__3'],\n ['__label__7'],\n ['__label__5'],\n ['__label__2'],\n ['__label__0'],\n ['__label__3'],\n ['__label__4'],\n ['__label__7'],\n ['__label__1'],\n ['__label__4'],\n ['__label__0'],\n ['__label__2'],\n ['__label__2'],\n ...]"
     },
     "execution_count": 8,
     "metadata": {},
     "output_type": "execute_result"
    }
   ],
   "source": [
    "test_predict_label = model.predict(test_df['text'].values.tolist())[0]\n",
    "test_predict_label"
   ]
  },
  {
   "cell_type": "code",
   "execution_count": 9,
   "metadata": {
    "collapsed": false,
    "jupyter": {
     "outputs_hidden": false
    },
    "pycharm": {
     "name": "#%%\n"
    }
   },
   "outputs": [
    {
     "data": {
      "text/plain": "0         1\n1         2\n2         8\n3         5\n4         0\n         ..\n49995     9\n49996    13\n49997     1\n49998     3\n49999     1\nLength: 50000, dtype: int32"
     },
     "execution_count": 9,
     "metadata": {},
     "output_type": "execute_result"
    }
   ],
   "source": [
    "test_predict = pd.Series(np.array(test_predict_label).reshape(-1, )).str[9:]\n",
    "test_predict = test_predict.astype(np.int_)\n",
    "test_predict"
   ]
  },
  {
   "cell_type": "code",
   "execution_count": 11,
   "metadata": {
    "collapsed": false,
    "jupyter": {
     "outputs_hidden": false
    },
    "pycharm": {
     "name": "#%%\n"
    }
   },
   "outputs": [],
   "source": [
    "# 线上F1 score:0.9213\n",
    "pd.DataFrame(test_predict, columns=['label']).to_csv('../../predict_result/fasttext.csv',\n",
    "                                                     index=False)"
   ]
  },
  {
   "cell_type": "code",
   "execution_count": null,
   "metadata": {
    "collapsed": false,
    "jupyter": {
     "outputs_hidden": false
    },
    "pycharm": {
     "name": "#%%\n"
    }
   },
   "outputs": [],
   "source": []
  }
 ],
 "metadata": {
  "kernelspec": {
   "display_name": "Python 3 (ipykernel)",
   "language": "python",
   "name": "python3"
  },
  "language_info": {
   "codemirror_mode": {
    "name": "ipython",
    "version": 3
   },
   "file_extension": ".py",
   "mimetype": "text/x-python",
   "name": "python",
   "nbconvert_exporter": "python",
   "pygments_lexer": "ipython3",
   "version": "3.7.9"
  }
 },
 "nbformat": 4,
 "nbformat_minor": 4
}