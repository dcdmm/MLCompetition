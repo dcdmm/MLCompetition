{
 "cells": [
  {
   "cell_type": "code",
   "execution_count": 1,
   "metadata": {
    "tags": []
   },
   "outputs": [],
   "source": [
    "import torch\n",
    "import torch.utils.data as Data\n",
    "import joblib\n",
    "import torch.nn as nn\n",
    "import torchtext\n",
    "from sklearn.metrics import accuracy_score\n",
    "import os\n",
    "import numpy as np\n",
    "import sys\n",
    "import pandas as pd\n",
    "\n",
    "# Linux下添加此代码,添加临时模块搜索路径(pycharm下当前项目为搜索路径)\n",
    "sys.path.append(os.path.abspath(\"..\" + os.sep + \"..\" + os.sep + \"..\"))\n",
    "\n",
    "from tianchi_NewsTextClassification.core.models.textcnn_model import TextCNN\n",
    "from tianchi_NewsTextClassification.core.utils.train_evaluate import Trainer\n",
    "\n",
    "%run ../models/textcnn_model.py"
   ]
  },
  {
   "cell_type": "code",
   "execution_count": 2,
   "metadata": {
    "collapsed": false,
    "jupyter": {
     "outputs_hidden": false
    },
    "pycharm": {
     "name": "#%%\n"
    }
   },
   "outputs": [
    {
     "data": {
      "text/plain": [
       "device(type='cuda')"
      ]
     },
     "execution_count": 2,
     "metadata": {},
     "output_type": "execute_result"
    }
   ],
   "source": [
    "device = torch.device(\"cuda\" if torch.cuda.is_available() else \"cpu\")\n",
    "device"
   ]
  },
  {
   "cell_type": "code",
   "execution_count": 3,
   "metadata": {
    "collapsed": false,
    "jupyter": {
     "outputs_hidden": false
    },
    "pycharm": {
     "name": "#%%\n"
    }
   },
   "outputs": [],
   "source": [
    "X_train = joblib.load('../../intermediate_save_data/X_train.pkl')\n",
    "y_train = joblib.load('../../intermediate_save_data/y_train.pkl')\n",
    "X_test = joblib.load('../../intermediate_save_data/X_test.pkl')"
   ]
  },
  {
   "cell_type": "code",
   "execution_count": 4,
   "metadata": {
    "collapsed": false,
    "jupyter": {
     "outputs_hidden": false
    },
    "pycharm": {
     "name": "#%%\n"
    }
   },
   "outputs": [
    {
     "data": {
      "text/plain": [
       "tensor([[ 0.0000e+00,  0.0000e+00,  0.0000e+00,  ...,  0.0000e+00,\n",
       "          0.0000e+00,  0.0000e+00],\n",
       "        [ 0.0000e+00,  0.0000e+00,  0.0000e+00,  ...,  0.0000e+00,\n",
       "          0.0000e+00,  0.0000e+00],\n",
       "        [ 1.8134e+00, -4.1394e+00,  1.1417e+00,  ...,  3.5465e+00,\n",
       "          2.9921e-02, -8.0849e-01],\n",
       "        ...,\n",
       "        [ 2.7235e-03,  7.6506e-03, -7.8161e-02,  ..., -7.4759e-03,\n",
       "         -1.0344e-01, -1.2040e-01],\n",
       "        [ 8.8274e-02,  9.2499e-02, -3.2991e-02,  ..., -1.7648e-02,\n",
       "         -1.1850e-01, -2.1958e-02],\n",
       "        [-1.1811e-01,  3.4976e-02,  1.8313e-02,  ..., -7.8549e-02,\n",
       "         -1.6537e-01, -1.1834e-01]])"
      ]
     },
     "execution_count": 4,
     "metadata": {},
     "output_type": "execute_result"
    }
   ],
   "source": [
    "# 加载词典\n",
    "load_vocal = joblib.load('../../intermediate_save_data/vocal.pkl')\n",
    "\n",
    "# 加载预训练词向量文件\n",
    "vector = torchtext.vocab.Vectors(name=\"cnew_200.txt\",\n",
    "                                 cache='../../intermediate_save_data')\n",
    "\n",
    "pretrained_vector = vector.get_vecs_by_tokens(load_vocal.get_itos())\n",
    "pretrained_vector"
   ]
  },
  {
   "cell_type": "code",
   "execution_count": 5,
   "metadata": {
    "collapsed": false,
    "jupyter": {
     "outputs_hidden": false
    },
    "pycharm": {
     "name": "#%%\n"
    }
   },
   "outputs": [],
   "source": [
    "kernel_sizes, nums_channels = [3, 4, 5, 10], [256, 256, 256]  # 卷积核大小和输出通道\n",
    "\n",
    "net = TextCNN(pretrained_vector.shape[0], pretrained_vector.shape[1], kernel_sizes, nums_channels)\n",
    "net.embedding.weight.data.copy_(pretrained_vector)\n",
    "net.constant_embedding.weight.data.copy_(pretrained_vector)  # 使用预训练词向量矩阵\n",
    "net.constant_embedding.weight.requires_grad = False  # 冻结网络层,使之不参与训练\n",
    "net = net.to(device)\n",
    "\n",
    "lr, num_epochs = 0.001, 5\n",
    "optimer = torch.optim.Adam(net.parameters(), lr=lr)\n",
    "loss = nn.CrossEntropyLoss()\n",
    "\n",
    "\n",
    "def compute_metrics_acc(predict_all, y_true):\n",
    "    predict = predict_all.argmax(-1)\n",
    "    label = y_true\n",
    "    acc = accuracy_score(label, predict)\n",
    "    return {\"acc\": acc}"
   ]
  },
  {
   "cell_type": "code",
   "execution_count": 6,
   "metadata": {
    "collapsed": false,
    "jupyter": {
     "outputs_hidden": false
    },
    "pycharm": {
     "name": "#%%\n"
    }
   },
   "outputs": [],
   "source": [
    "dataset_tr = Data.TensorDataset(torch.tensor(X_train), torch.tensor(y_train))\n",
    "dataloader_tr = Data.DataLoader(dataset_tr, 64, shuffle=True)\n",
    "\n",
    "t_and_v = Trainer(model=net, optimizer=optimer, criterion=loss, epochs=num_epochs)"
   ]
  },
  {
   "cell_type": "code",
   "execution_count": 7,
   "metadata": {
    "collapsed": false,
    "jupyter": {
     "outputs_hidden": false
    },
    "pycharm": {
     "name": "#%%\n"
    }
   },
   "outputs": [
    {
     "name": "stdout",
     "output_type": "stream",
     "text": [
      "Train Epoch: 0  [0    /200000 (0  %)]\tLoss: 6.925406\tacc: 0.140625\n",
      "Train Epoch: 0  [32000/200000 (16 %)]\tLoss: 2.114855\tacc: 0.781250\n",
      "Train Epoch: 0  [64000/200000 (32 %)]\tLoss: 1.281380\tacc: 0.890625\n",
      "Train Epoch: 0  [96000/200000 (48 %)]\tLoss: 1.059104\tacc: 0.875000\n",
      "Train Epoch: 0  [128000/200000 (64 %)]\tLoss: 1.218440\tacc: 0.875000\n",
      "Train Epoch: 0  [160000/200000 (80 %)]\tLoss: 2.286226\tacc: 0.812500\n",
      "Train Epoch: 0  [192000/200000 (96 %)]\tLoss: 2.718640\tacc: 0.781250\n",
      "Train Epoch: 0  [200000/200000 (100%)]\tLoss: 1.092227\tacc: 0.875000\n",
      "----------------------------------------------------------------------------------------------------\n",
      "Train Epoch: 1  [0    /200000 (0  %)]\tLoss: 2.347232\tacc: 0.828125\n",
      "Train Epoch: 1  [32000/200000 (16 %)]\tLoss: 1.999630\tacc: 0.906250\n",
      "Train Epoch: 1  [64000/200000 (32 %)]\tLoss: 2.130521\tacc: 0.828125\n",
      "Train Epoch: 1  [96000/200000 (48 %)]\tLoss: 1.303273\tacc: 0.812500\n",
      "Train Epoch: 1  [128000/200000 (64 %)]\tLoss: 0.569701\tacc: 0.906250\n",
      "Train Epoch: 1  [160000/200000 (80 %)]\tLoss: 0.677860\tacc: 0.875000\n",
      "Train Epoch: 1  [192000/200000 (96 %)]\tLoss: 0.765646\tacc: 0.921875\n",
      "Train Epoch: 1  [200000/200000 (100%)]\tLoss: 0.953684\tacc: 0.875000\n",
      "----------------------------------------------------------------------------------------------------\n",
      "Train Epoch: 2  [0    /200000 (0  %)]\tLoss: 0.385563\tacc: 0.921875\n",
      "Train Epoch: 2  [32000/200000 (16 %)]\tLoss: 0.588122\tacc: 0.906250\n",
      "Train Epoch: 2  [64000/200000 (32 %)]\tLoss: 0.123944\tacc: 0.953125\n",
      "Train Epoch: 2  [96000/200000 (48 %)]\tLoss: 0.455391\tacc: 0.875000\n",
      "Train Epoch: 2  [128000/200000 (64 %)]\tLoss: 0.850758\tacc: 0.875000\n",
      "Train Epoch: 2  [160000/200000 (80 %)]\tLoss: 0.308883\tacc: 0.921875\n",
      "Train Epoch: 2  [192000/200000 (96 %)]\tLoss: 0.295869\tacc: 0.906250\n",
      "Train Epoch: 2  [200000/200000 (100%)]\tLoss: 0.502777\tacc: 0.906250\n",
      "----------------------------------------------------------------------------------------------------\n",
      "Train Epoch: 3  [0    /200000 (0  %)]\tLoss: 0.437665\tacc: 0.921875\n",
      "Train Epoch: 3  [32000/200000 (16 %)]\tLoss: 0.508711\tacc: 0.906250\n",
      "Train Epoch: 3  [64000/200000 (32 %)]\tLoss: 0.382192\tacc: 0.937500\n",
      "Train Epoch: 3  [96000/200000 (48 %)]\tLoss: 0.982614\tacc: 0.796875\n",
      "Train Epoch: 3  [128000/200000 (64 %)]\tLoss: 0.635235\tacc: 0.875000\n",
      "Train Epoch: 3  [160000/200000 (80 %)]\tLoss: 0.617567\tacc: 0.843750\n",
      "Train Epoch: 3  [192000/200000 (96 %)]\tLoss: 0.296767\tacc: 0.921875\n",
      "Train Epoch: 3  [200000/200000 (100%)]\tLoss: 0.527542\tacc: 0.921875\n",
      "----------------------------------------------------------------------------------------------------\n",
      "Train Epoch: 4  [0    /200000 (0  %)]\tLoss: 0.472844\tacc: 0.906250\n",
      "Train Epoch: 4  [32000/200000 (16 %)]\tLoss: 0.183777\tacc: 0.968750\n",
      "Train Epoch: 4  [64000/200000 (32 %)]\tLoss: 0.428586\tacc: 0.906250\n",
      "Train Epoch: 4  [96000/200000 (48 %)]\tLoss: 0.424274\tacc: 0.906250\n",
      "Train Epoch: 4  [128000/200000 (64 %)]\tLoss: 0.108631\tacc: 0.968750\n",
      "Train Epoch: 4  [160000/200000 (80 %)]\tLoss: 0.429413\tacc: 0.890625\n",
      "Train Epoch: 4  [192000/200000 (96 %)]\tLoss: 0.607654\tacc: 0.859375\n",
      "Train Epoch: 4  [200000/200000 (100%)]\tLoss: 0.206030\tacc: 0.937500\n",
      "----------------------------------------------------------------------------------------------------\n"
     ]
    },
    {
     "data": {
      "text/plain": [
       "{'Training loss': [0.7525599002838135,\n",
       "  0.3523303270339966,\n",
       "  0.23900297284126282,\n",
       "  0.2608601450920105,\n",
       "  0.21644048392772675],\n",
       " 'Training acc': [0.92187, 0.938705, 0.94162, 0.937195, 0.942225]}"
      ]
     },
     "execution_count": 7,
     "metadata": {},
     "output_type": "execute_result"
    }
   ],
   "source": [
    "t_and_v.train(dataloader_tr,  compute_metrics=compute_metrics_acc, verbose=500)"
   ]
  },
  {
   "cell_type": "code",
   "execution_count": 8,
   "metadata": {},
   "outputs": [
    {
     "data": {
      "text/plain": [
       "tensor([[  6.5208,  33.4337,  -9.1491,  ..., -31.3840, -19.9089, -34.7295],\n",
       "        [ -0.0969,  -1.5964,  34.2942,  ...,  -4.7506,  18.5967, -20.9246],\n",
       "        [  4.3830,   0.6824,  -6.7073,  ...,  -3.4819, -10.2862, -21.2170],\n",
       "        ...,\n",
       "        [ -1.2743,   9.8537,  -4.1295,  ...,  -5.7697,  -7.8294, -10.9021],\n",
       "        [  6.6159,  -0.2909,   4.4105,  ...,  -4.5588, -10.7106, -15.7881],\n",
       "        [  5.1693,  19.0582,  -2.3024,  ..., -13.4357, -10.5318, -16.1603]],\n",
       "       device='cuda:0')"
      ]
     },
     "execution_count": 8,
     "metadata": {},
     "output_type": "execute_result"
    }
   ],
   "source": [
    "dataset_te = Data.TensorDataset(torch.tensor(X_test))\n",
    "dataloader_te = Data.DataLoader(dataset_te, 64)  # 测试数据集\n",
    "\n",
    "result_pro = t_and_v.predict(dataloader_te, status='Test')\n",
    "result_pro"
   ]
  },
  {
   "cell_type": "code",
   "execution_count": 9,
   "metadata": {},
   "outputs": [
    {
     "data": {
      "text/html": [
       "<div>\n",
       "<style scoped>\n",
       "    .dataframe tbody tr th:only-of-type {\n",
       "        vertical-align: middle;\n",
       "    }\n",
       "\n",
       "    .dataframe tbody tr th {\n",
       "        vertical-align: top;\n",
       "    }\n",
       "\n",
       "    .dataframe thead th {\n",
       "        text-align: right;\n",
       "    }\n",
       "</style>\n",
       "<table border=\"1\" class=\"dataframe\">\n",
       "  <thead>\n",
       "    <tr style=\"text-align: right;\">\n",
       "      <th></th>\n",
       "      <th>label</th>\n",
       "    </tr>\n",
       "  </thead>\n",
       "  <tbody>\n",
       "    <tr>\n",
       "      <th>0</th>\n",
       "      <td>1</td>\n",
       "    </tr>\n",
       "    <tr>\n",
       "      <th>1</th>\n",
       "      <td>2</td>\n",
       "    </tr>\n",
       "    <tr>\n",
       "      <th>2</th>\n",
       "      <td>8</td>\n",
       "    </tr>\n",
       "    <tr>\n",
       "      <th>3</th>\n",
       "      <td>0</td>\n",
       "    </tr>\n",
       "    <tr>\n",
       "      <th>4</th>\n",
       "      <td>0</td>\n",
       "    </tr>\n",
       "    <tr>\n",
       "      <th>...</th>\n",
       "      <td>...</td>\n",
       "    </tr>\n",
       "    <tr>\n",
       "      <th>49995</th>\n",
       "      <td>0</td>\n",
       "    </tr>\n",
       "    <tr>\n",
       "      <th>49996</th>\n",
       "      <td>13</td>\n",
       "    </tr>\n",
       "    <tr>\n",
       "      <th>49997</th>\n",
       "      <td>1</td>\n",
       "    </tr>\n",
       "    <tr>\n",
       "      <th>49998</th>\n",
       "      <td>3</td>\n",
       "    </tr>\n",
       "    <tr>\n",
       "      <th>49999</th>\n",
       "      <td>1</td>\n",
       "    </tr>\n",
       "  </tbody>\n",
       "</table>\n",
       "<p>50000 rows × 1 columns</p>\n",
       "</div>"
      ],
      "text/plain": [
       "       label\n",
       "0          1\n",
       "1          2\n",
       "2          8\n",
       "3          0\n",
       "4          0\n",
       "...      ...\n",
       "49995      0\n",
       "49996     13\n",
       "49997      1\n",
       "49998      3\n",
       "49999      1\n",
       "\n",
       "[50000 rows x 1 columns]"
      ]
     },
     "execution_count": 9,
     "metadata": {},
     "output_type": "execute_result"
    }
   ],
   "source": [
    "pre_result_label = np.argmax(result_pro.cpu().numpy(), axis=1)\n",
    "pre_result_label = pd.DataFrame(pre_result_label, columns=['label'])\n",
    "pre_result_label"
   ]
  },
  {
   "cell_type": "code",
   "execution_count": 10,
   "metadata": {},
   "outputs": [],
   "source": [
    "# 冻结预训练词向量权重=>线上F1 score:0.9199\n",
    "# 预训练词向量权重正常参与更新=>线上F1 score:0.9191\n",
    "pre_result_label.to_csv('../../output/test_predictions_textcnn_w2v.csv', index=False)"
   ]
  },
  {
   "cell_type": "code",
   "execution_count": null,
   "metadata": {},
   "outputs": [],
   "source": []
  }
 ],
 "metadata": {
  "kernelspec": {
   "display_name": "Python [conda env:pytorch_env]",
   "language": "python",
   "name": "conda-env-pytorch_env-py"
  },
  "language_info": {
   "codemirror_mode": {
    "name": "ipython",
    "version": 3
   },
   "file_extension": ".py",
   "mimetype": "text/x-python",
   "name": "python",
   "nbconvert_exporter": "python",
   "pygments_lexer": "ipython3",
   "version": "3.8.12"
  }
 },
 "nbformat": 4,
 "nbformat_minor": 4
}