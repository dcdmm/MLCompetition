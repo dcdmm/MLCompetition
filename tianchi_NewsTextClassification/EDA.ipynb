{
 "cells": [
  {
   "cell_type": "code",
   "execution_count": 1,
   "metadata": {
    "collapsed": true
   },
   "outputs": [],
   "source": [
    "import pandas as pd\n",
    "import matplotlib.pyplot as plt\n",
    "import seaborn as sns\n",
    "from scipy import stats\n",
    "from collections import Counter\n",
    "import numpy as np\n",
    "from sklearn.preprocessing import OrdinalEncoder"
   ]
  },
  {
   "cell_type": "code",
   "execution_count": 2,
   "outputs": [
    {
     "data": {
      "text/plain": "        label                                               text\n0           2  2967 6758 339 2021 1854 3731 4109 3792 4149 15...\n1          11  4464 486 6352 5619 2465 4802 1452 3137 5778 54...\n2           3  7346 4068 5074 3747 5681 6093 1777 2226 7354 6...\n3           2  7159 948 4866 2109 5520 2490 211 3956 5520 549...\n4           3  3646 3055 3055 2490 4659 6065 3370 5814 2465 5...\n...       ...                                                ...\n199995      2  307 4894 7539 4853 5330 648 6038 4409 3764 603...\n199996      2  3792 2983 355 1070 4464 5050 6298 3782 3130 68...\n199997     11  6811 1580 7539 1252 1899 5139 1386 3870 4124 1...\n199998      2  6405 3203 6644 983 794 1913 1678 5736 1397 191...\n199999      3  4350 3878 3268 1699 6909 5505 2376 2465 6088 2...\n\n[200000 rows x 2 columns]",
      "text/html": "<div>\n<style scoped>\n    .dataframe tbody tr th:only-of-type {\n        vertical-align: middle;\n    }\n\n    .dataframe tbody tr th {\n        vertical-align: top;\n    }\n\n    .dataframe thead th {\n        text-align: right;\n    }\n</style>\n<table border=\"1\" class=\"dataframe\">\n  <thead>\n    <tr style=\"text-align: right;\">\n      <th></th>\n      <th>label</th>\n      <th>text</th>\n    </tr>\n  </thead>\n  <tbody>\n    <tr>\n      <th>0</th>\n      <td>2</td>\n      <td>2967 6758 339 2021 1854 3731 4109 3792 4149 15...</td>\n    </tr>\n    <tr>\n      <th>1</th>\n      <td>11</td>\n      <td>4464 486 6352 5619 2465 4802 1452 3137 5778 54...</td>\n    </tr>\n    <tr>\n      <th>2</th>\n      <td>3</td>\n      <td>7346 4068 5074 3747 5681 6093 1777 2226 7354 6...</td>\n    </tr>\n    <tr>\n      <th>3</th>\n      <td>2</td>\n      <td>7159 948 4866 2109 5520 2490 211 3956 5520 549...</td>\n    </tr>\n    <tr>\n      <th>4</th>\n      <td>3</td>\n      <td>3646 3055 3055 2490 4659 6065 3370 5814 2465 5...</td>\n    </tr>\n    <tr>\n      <th>...</th>\n      <td>...</td>\n      <td>...</td>\n    </tr>\n    <tr>\n      <th>199995</th>\n      <td>2</td>\n      <td>307 4894 7539 4853 5330 648 6038 4409 3764 603...</td>\n    </tr>\n    <tr>\n      <th>199996</th>\n      <td>2</td>\n      <td>3792 2983 355 1070 4464 5050 6298 3782 3130 68...</td>\n    </tr>\n    <tr>\n      <th>199997</th>\n      <td>11</td>\n      <td>6811 1580 7539 1252 1899 5139 1386 3870 4124 1...</td>\n    </tr>\n    <tr>\n      <th>199998</th>\n      <td>2</td>\n      <td>6405 3203 6644 983 794 1913 1678 5736 1397 191...</td>\n    </tr>\n    <tr>\n      <th>199999</th>\n      <td>3</td>\n      <td>4350 3878 3268 1699 6909 5505 2376 2465 6088 2...</td>\n    </tr>\n  </tbody>\n</table>\n<p>200000 rows × 2 columns</p>\n</div>"
     },
     "execution_count": 2,
     "metadata": {},
     "output_type": "execute_result"
    }
   ],
   "source": [
    "# train_df.shape=(200000, 2)\n",
    "train_df = pd.read_csv('datasets/train_set.csv', sep='\\t')\n",
    "train_df"
   ],
   "metadata": {
    "collapsed": false,
    "pycharm": {
     "name": "#%%\n"
    }
   }
  },
  {
   "cell_type": "code",
   "execution_count": 3,
   "outputs": [
    {
     "name": "stdout",
     "output_type": "stream",
     "text": [
      "<class 'pandas.core.frame.DataFrame'>\n",
      "RangeIndex: 200000 entries, 0 to 199999\n",
      "Data columns (total 2 columns):\n",
      " #   Column  Non-Null Count   Dtype \n",
      "---  ------  --------------   ----- \n",
      " 0   label   200000 non-null  int64 \n",
      " 1   text    200000 non-null  object\n",
      "dtypes: int64(1), object(1)\n",
      "memory usage: 3.1+ MB\n"
     ]
    }
   ],
   "source": [
    "# 均无缺失值\n",
    "train_df.info()"
   ],
   "metadata": {
    "collapsed": false,
    "pycharm": {
     "name": "#%%\n"
    }
   }
  },
  {
   "cell_type": "code",
   "execution_count": 4,
   "outputs": [
    {
     "data": {
      "text/plain": "                                                    text\n0      5399 3117 1070 4321 4568 2621 5466 3772 4516 2...\n1      2491 4109 1757 7539 648 3695 3038 4490 23 7019...\n2      2673 5076 6835 2835 5948 5677 3247 4124 2465 5...\n3      4562 4893 2210 4761 3659 1324 2595 5949 4583 2...\n4      4269 7134 2614 1724 4464 1324 3370 3370 2106 2...\n...                                                  ...\n49995  3725 4498 2282 1647 6293 4245 4498 3615 1141 2...\n49996  4811 465 3800 1394 3038 2376 2327 5165 3070 57...\n49997  5338 1952 3117 4109 299 6656 6654 3792 6831 21...\n49998  893 3469 5775 584 2490 4223 6569 6663 2124 168...\n49999  2400 4409 4412 2210 5122 4464 7186 2465 1327 9...\n\n[50000 rows x 1 columns]",
      "text/html": "<div>\n<style scoped>\n    .dataframe tbody tr th:only-of-type {\n        vertical-align: middle;\n    }\n\n    .dataframe tbody tr th {\n        vertical-align: top;\n    }\n\n    .dataframe thead th {\n        text-align: right;\n    }\n</style>\n<table border=\"1\" class=\"dataframe\">\n  <thead>\n    <tr style=\"text-align: right;\">\n      <th></th>\n      <th>text</th>\n    </tr>\n  </thead>\n  <tbody>\n    <tr>\n      <th>0</th>\n      <td>5399 3117 1070 4321 4568 2621 5466 3772 4516 2...</td>\n    </tr>\n    <tr>\n      <th>1</th>\n      <td>2491 4109 1757 7539 648 3695 3038 4490 23 7019...</td>\n    </tr>\n    <tr>\n      <th>2</th>\n      <td>2673 5076 6835 2835 5948 5677 3247 4124 2465 5...</td>\n    </tr>\n    <tr>\n      <th>3</th>\n      <td>4562 4893 2210 4761 3659 1324 2595 5949 4583 2...</td>\n    </tr>\n    <tr>\n      <th>4</th>\n      <td>4269 7134 2614 1724 4464 1324 3370 3370 2106 2...</td>\n    </tr>\n    <tr>\n      <th>...</th>\n      <td>...</td>\n    </tr>\n    <tr>\n      <th>49995</th>\n      <td>3725 4498 2282 1647 6293 4245 4498 3615 1141 2...</td>\n    </tr>\n    <tr>\n      <th>49996</th>\n      <td>4811 465 3800 1394 3038 2376 2327 5165 3070 57...</td>\n    </tr>\n    <tr>\n      <th>49997</th>\n      <td>5338 1952 3117 4109 299 6656 6654 3792 6831 21...</td>\n    </tr>\n    <tr>\n      <th>49998</th>\n      <td>893 3469 5775 584 2490 4223 6569 6663 2124 168...</td>\n    </tr>\n    <tr>\n      <th>49999</th>\n      <td>2400 4409 4412 2210 5122 4464 7186 2465 1327 9...</td>\n    </tr>\n  </tbody>\n</table>\n<p>50000 rows × 1 columns</p>\n</div>"
     },
     "execution_count": 4,
     "metadata": {},
     "output_type": "execute_result"
    }
   ],
   "source": [
    "# test_df.shape=(50000, )\n",
    "test_df = pd.read_csv('datasets/test_a.csv', sep='\\t')\n",
    "test_df"
   ],
   "metadata": {
    "collapsed": false,
    "pycharm": {
     "name": "#%%\n"
    }
   }
  },
  {
   "cell_type": "code",
   "execution_count": 5,
   "outputs": [
    {
     "name": "stdout",
     "output_type": "stream",
     "text": [
      "<class 'pandas.core.frame.DataFrame'>\n",
      "RangeIndex: 50000 entries, 0 to 49999\n",
      "Data columns (total 1 columns):\n",
      " #   Column  Non-Null Count  Dtype \n",
      "---  ------  --------------  ----- \n",
      " 0   text    50000 non-null  object\n",
      "dtypes: object(1)\n",
      "memory usage: 390.8+ KB\n"
     ]
    }
   ],
   "source": [
    "test_df.info()"
   ],
   "metadata": {
    "collapsed": false,
    "pycharm": {
     "name": "#%%\n"
    }
   }
  },
  {
   "cell_type": "code",
   "execution_count": 6,
   "outputs": [
    {
     "data": {
      "text/plain": "        label                                               text  text_len\n0           2  2967 6758 339 2021 1854 3731 4109 3792 4149 15...      1057\n1          11  4464 486 6352 5619 2465 4802 1452 3137 5778 54...       486\n2           3  7346 4068 5074 3747 5681 6093 1777 2226 7354 6...       764\n3           2  7159 948 4866 2109 5520 2490 211 3956 5520 549...      1570\n4           3  3646 3055 3055 2490 4659 6065 3370 5814 2465 5...       307\n...       ...                                                ...       ...\n199995      2  307 4894 7539 4853 5330 648 6038 4409 3764 603...       868\n199996      2  3792 2983 355 1070 4464 5050 6298 3782 3130 68...      1142\n199997     11  6811 1580 7539 1252 1899 5139 1386 3870 4124 1...      1180\n199998      2  6405 3203 6644 983 794 1913 1678 5736 1397 191...       179\n199999      3  4350 3878 3268 1699 6909 5505 2376 2465 6088 2...      2098\n\n[200000 rows x 3 columns]",
      "text/html": "<div>\n<style scoped>\n    .dataframe tbody tr th:only-of-type {\n        vertical-align: middle;\n    }\n\n    .dataframe tbody tr th {\n        vertical-align: top;\n    }\n\n    .dataframe thead th {\n        text-align: right;\n    }\n</style>\n<table border=\"1\" class=\"dataframe\">\n  <thead>\n    <tr style=\"text-align: right;\">\n      <th></th>\n      <th>label</th>\n      <th>text</th>\n      <th>text_len</th>\n    </tr>\n  </thead>\n  <tbody>\n    <tr>\n      <th>0</th>\n      <td>2</td>\n      <td>2967 6758 339 2021 1854 3731 4109 3792 4149 15...</td>\n      <td>1057</td>\n    </tr>\n    <tr>\n      <th>1</th>\n      <td>11</td>\n      <td>4464 486 6352 5619 2465 4802 1452 3137 5778 54...</td>\n      <td>486</td>\n    </tr>\n    <tr>\n      <th>2</th>\n      <td>3</td>\n      <td>7346 4068 5074 3747 5681 6093 1777 2226 7354 6...</td>\n      <td>764</td>\n    </tr>\n    <tr>\n      <th>3</th>\n      <td>2</td>\n      <td>7159 948 4866 2109 5520 2490 211 3956 5520 549...</td>\n      <td>1570</td>\n    </tr>\n    <tr>\n      <th>4</th>\n      <td>3</td>\n      <td>3646 3055 3055 2490 4659 6065 3370 5814 2465 5...</td>\n      <td>307</td>\n    </tr>\n    <tr>\n      <th>...</th>\n      <td>...</td>\n      <td>...</td>\n      <td>...</td>\n    </tr>\n    <tr>\n      <th>199995</th>\n      <td>2</td>\n      <td>307 4894 7539 4853 5330 648 6038 4409 3764 603...</td>\n      <td>868</td>\n    </tr>\n    <tr>\n      <th>199996</th>\n      <td>2</td>\n      <td>3792 2983 355 1070 4464 5050 6298 3782 3130 68...</td>\n      <td>1142</td>\n    </tr>\n    <tr>\n      <th>199997</th>\n      <td>11</td>\n      <td>6811 1580 7539 1252 1899 5139 1386 3870 4124 1...</td>\n      <td>1180</td>\n    </tr>\n    <tr>\n      <th>199998</th>\n      <td>2</td>\n      <td>6405 3203 6644 983 794 1913 1678 5736 1397 191...</td>\n      <td>179</td>\n    </tr>\n    <tr>\n      <th>199999</th>\n      <td>3</td>\n      <td>4350 3878 3268 1699 6909 5505 2376 2465 6088 2...</td>\n      <td>2098</td>\n    </tr>\n  </tbody>\n</table>\n<p>200000 rows × 3 columns</p>\n</div>"
     },
     "execution_count": 6,
     "metadata": {},
     "output_type": "execute_result"
    }
   ],
   "source": [
    "# 'text_len':句子长度\n",
    "train_df['text_len'] = train_df['text'].apply(lambda x: len(x.split(' ')))\n",
    "train_df"
   ],
   "metadata": {
    "collapsed": false,
    "pycharm": {
     "name": "#%%\n"
    }
   }
  },
  {
   "cell_type": "code",
   "execution_count": 7,
   "outputs": [
    {
     "data": {
      "text/plain": "                                                    text  text_len\n0      5399 3117 1070 4321 4568 2621 5466 3772 4516 2...      1057\n1      2491 4109 1757 7539 648 3695 3038 4490 23 7019...       486\n2      2673 5076 6835 2835 5948 5677 3247 4124 2465 5...       764\n3      4562 4893 2210 4761 3659 1324 2595 5949 4583 2...      1570\n4      4269 7134 2614 1724 4464 1324 3370 3370 2106 2...       307\n...                                                  ...       ...\n49995  3725 4498 2282 1647 6293 4245 4498 3615 1141 2...      1484\n49996  4811 465 3800 1394 3038 2376 2327 5165 3070 57...       995\n49997  5338 1952 3117 4109 299 6656 6654 3792 6831 21...       394\n49998  893 3469 5775 584 2490 4223 6569 6663 2124 168...       957\n49999  2400 4409 4412 2210 5122 4464 7186 2465 1327 9...      1728\n\n[50000 rows x 2 columns]",
      "text/html": "<div>\n<style scoped>\n    .dataframe tbody tr th:only-of-type {\n        vertical-align: middle;\n    }\n\n    .dataframe tbody tr th {\n        vertical-align: top;\n    }\n\n    .dataframe thead th {\n        text-align: right;\n    }\n</style>\n<table border=\"1\" class=\"dataframe\">\n  <thead>\n    <tr style=\"text-align: right;\">\n      <th></th>\n      <th>text</th>\n      <th>text_len</th>\n    </tr>\n  </thead>\n  <tbody>\n    <tr>\n      <th>0</th>\n      <td>5399 3117 1070 4321 4568 2621 5466 3772 4516 2...</td>\n      <td>1057</td>\n    </tr>\n    <tr>\n      <th>1</th>\n      <td>2491 4109 1757 7539 648 3695 3038 4490 23 7019...</td>\n      <td>486</td>\n    </tr>\n    <tr>\n      <th>2</th>\n      <td>2673 5076 6835 2835 5948 5677 3247 4124 2465 5...</td>\n      <td>764</td>\n    </tr>\n    <tr>\n      <th>3</th>\n      <td>4562 4893 2210 4761 3659 1324 2595 5949 4583 2...</td>\n      <td>1570</td>\n    </tr>\n    <tr>\n      <th>4</th>\n      <td>4269 7134 2614 1724 4464 1324 3370 3370 2106 2...</td>\n      <td>307</td>\n    </tr>\n    <tr>\n      <th>...</th>\n      <td>...</td>\n      <td>...</td>\n    </tr>\n    <tr>\n      <th>49995</th>\n      <td>3725 4498 2282 1647 6293 4245 4498 3615 1141 2...</td>\n      <td>1484</td>\n    </tr>\n    <tr>\n      <th>49996</th>\n      <td>4811 465 3800 1394 3038 2376 2327 5165 3070 57...</td>\n      <td>995</td>\n    </tr>\n    <tr>\n      <th>49997</th>\n      <td>5338 1952 3117 4109 299 6656 6654 3792 6831 21...</td>\n      <td>394</td>\n    </tr>\n    <tr>\n      <th>49998</th>\n      <td>893 3469 5775 584 2490 4223 6569 6663 2124 168...</td>\n      <td>957</td>\n    </tr>\n    <tr>\n      <th>49999</th>\n      <td>2400 4409 4412 2210 5122 4464 7186 2465 1327 9...</td>\n      <td>1728</td>\n    </tr>\n  </tbody>\n</table>\n<p>50000 rows × 2 columns</p>\n</div>"
     },
     "execution_count": 7,
     "metadata": {},
     "output_type": "execute_result"
    }
   ],
   "source": [
    "test_df['text_len'] = train_df['text'].apply(lambda x: len(x.split(' ')))\n",
    "test_df"
   ],
   "metadata": {
    "collapsed": false,
    "pycharm": {
     "name": "#%%\n"
    }
   }
  },
  {
   "cell_type": "code",
   "execution_count": 8,
   "outputs": [
    {
     "name": "stdout",
     "output_type": "stream",
     "text": [
      "count    200000.000000\n",
      "mean        907.207110\n",
      "std         996.029036\n",
      "min           2.000000\n",
      "25%         374.000000\n",
      "50%         676.000000\n",
      "75%        1131.000000\n",
      "max       57921.000000\n",
      "Name: text_len, dtype: float64\n",
      "\n",
      "count    50000.000000\n",
      "mean       904.589900\n",
      "std        961.345267\n",
      "min          2.000000\n",
      "25%        373.000000\n",
      "50%        670.500000\n",
      "75%       1123.000000\n",
      "max      44665.000000\n",
      "Name: text_len, dtype: float64\n"
     ]
    }
   ],
   "source": [
    "# 大部分句子的长度都集中在1500以内\n",
    "print(train_df['text_len'].describe(), end='\\n\\n')\n",
    "print(test_df['text_len'].describe())"
   ],
   "metadata": {
    "collapsed": false,
    "pycharm": {
     "name": "#%%\n"
    }
   }
  },
  {
   "cell_type": "code",
   "execution_count": 9,
   "outputs": [
    {
     "data": {
      "text/plain": "512.0"
     },
     "execution_count": 9,
     "metadata": {},
     "output_type": "execute_result"
    }
   ],
   "source": [
    "# 仅有37.5%的样本长度低于或等于512\n",
    "np.percentile(train_df['text_len'], q=37.2)"
   ],
   "metadata": {
    "collapsed": false,
    "pycharm": {
     "name": "#%%\n"
    }
   }
  },
  {
   "cell_type": "code",
   "execution_count": 10,
   "outputs": [
    {
     "data": {
      "text/plain": "5159.0"
     },
     "execution_count": 10,
     "metadata": {},
     "output_type": "execute_result"
    }
   ],
   "source": [
    "# 文本长度大部分(99.5%)在5159以内\n",
    "np.percentile(train_df['text_len'], q=99.5)"
   ],
   "metadata": {
    "collapsed": false,
    "pycharm": {
     "name": "#%%\n"
    }
   }
  },
  {
   "cell_type": "code",
   "execution_count": 11,
   "outputs": [
    {
     "data": {
      "text/plain": "<matplotlib.legend.Legend at 0x1caa4652a30>"
     },
     "execution_count": 11,
     "metadata": {},
     "output_type": "execute_result"
    },
    {
     "data": {
      "text/plain": "<Figure size 1080x360 with 1 Axes>",
      "image/png": "[encoded data removed]"
     },
     "metadata": {
      "needs_background": "light"
     },
     "output_type": "display_data"
    }
   ],
   "source": [
    "# 观察训练数据集与测试数据集分布情况\n",
    "plt.figure(figsize=(15, 5))\n",
    "ax = plt.subplot(111)\n",
    "sns.kdeplot(train_df['text_len'], ax=ax, color='red', fill=True)\n",
    "sns.kdeplot(test_df['text_len'], ax=ax, color='b', fill=True)\n",
    "ax.set_xlim([0, max(max(train_df['text_len']), max(test_df['text_len']))])\n",
    "plt.xlabel(\"length of sample\")\n",
    "plt.ylabel(\"prob of sample\")\n",
    "plt.legend(['train_text_len', 'test_text_len'])"
   ],
   "metadata": {
    "collapsed": false,
    "pycharm": {
     "name": "#%%\n"
    }
   }
  },
  {
   "cell_type": "code",
   "execution_count": 12,
   "outputs": [
    {
     "data": {
      "text/plain": "KstestResult(statistic=0.004655000000000076, pvalue=0.3503043887727427)"
     },
     "execution_count": 12,
     "metadata": {},
     "output_type": "execute_result"
    }
   ],
   "source": [
    "# p值不小于阈值0.05,接受原假设,train_df['text_len']与test['text_len']来自相同分布\n",
    "stats.ks_2samp(train_df['text_len'], test_df['text_len'])"
   ],
   "metadata": {
    "collapsed": false,
    "pycharm": {
     "name": "#%%\n"
    }
   }
  },
  {
   "cell_type": "code",
   "execution_count": 13,
   "outputs": [
    {
     "data": {
      "text/plain": "Text(0.5, 0, 'category')"
     },
     "execution_count": 13,
     "metadata": {},
     "output_type": "execute_result"
    },
    {
     "data": {
      "text/plain": "<Figure size 432x288 with 1 Axes>",
      "image/png": "[encoded data removed]"
     },
     "metadata": {
      "needs_background": "light"
     },
     "output_type": "display_data"
    }
   ],
   "source": [
    "# {'科技': 0, '股票': 1, '体育': 2, '娱乐': 3, '时政': 4, '社会': 5,\n",
    "# '教育': 6, '财经': 7, '家居': 8, '游戏': 9, '房产': 10, '时尚': 11, '彩票': 12, '星座': 13}\n",
    "train_df['label'].value_counts().plot(kind='bar')  # 存在类别不均衡的情况\n",
    "plt.title('News class count')\n",
    "plt.xlabel(\"category\")"
   ],
   "metadata": {
    "collapsed": false,
    "pycharm": {
     "name": "#%%\n"
    }
   }
  },
  {
   "cell_type": "code",
   "execution_count": 14,
   "outputs": [
    {
     "data": {
      "text/plain": "<AxesSubplot:xlabel='label', ylabel='text_len'>"
     },
     "execution_count": 14,
     "metadata": {},
     "output_type": "execute_result"
    },
    {
     "data": {
      "text/plain": "<Figure size 432x288 with 1 Axes>",
      "image/png": "[encoded data removed]"
     },
     "metadata": {
      "needs_background": "light"
     },
     "output_type": "display_data"
    }
   ],
   "source": [
    "# 不同类别的文章长度不同\n",
    "sns.stripplot(x=\"label\", y=\"text_len\", data=train_df)"
   ],
   "metadata": {
    "collapsed": false,
    "pycharm": {
     "name": "#%%\n"
    }
   }
  },
  {
   "cell_type": "code",
   "execution_count": 15,
   "outputs": [
    {
     "name": "stdout",
     "output_type": "stream",
     "text": [
      "6869\n",
      "('3750', 7482224)\n",
      "('648', 4924890)\n",
      "('900', 3262544)\n",
      "('3370', 2020958)\n",
      "('6122', 1602363)\n",
      "('4464', 1544962)\n",
      "('7399', 1455864)\n",
      "('4939', 1387951)\n",
      "('3659', 1251253)\n",
      "('4811', 1159401)\n",
      "('5061', 1)\n",
      "('4135', 1)\n",
      "('4256', 1)\n",
      "('6911', 1)\n",
      "('1926', 1)\n",
      "('2010', 1)\n",
      "('155', 1)\n",
      "('1415', 1)\n",
      "('1015', 1)\n",
      "('4468', 1)\n"
     ]
    }
   ],
   "source": [
    "all_lines = ' '.join(train_df['text'].values.tolist())\n",
    "word_count = Counter(all_lines.split(\" \"))\n",
    "word_count = sorted(word_count.items(), key=lambda d: d[1], reverse=True)\n",
    "\n",
    "# 共有6869个单词\n",
    "print(len(word_count))\n",
    "\n",
    "# 出现频率最高的10个词\n",
    "for i in range(10):\n",
    "    print(word_count[i])\n",
    "\n",
    "# 出现频率最低的10个词\n",
    "for j in range(-11, -1):\n",
    "    print(word_count[j])"
   ],
   "metadata": {
    "collapsed": false,
    "pycharm": {
     "name": "#%%\n"
    }
   }
  },
  {
   "cell_type": "code",
   "execution_count": 16,
   "outputs": [
    {
     "name": "stdout",
     "output_type": "stream",
     "text": [
      "3750 occurs 197997 times, 98.9985%\n",
      "900 occurs 197653 times, 98.8265%\n",
      "648 occurs 191975 times, 95.9875%\n",
      "2465 occurs 177310 times, 88.655%\n",
      "6122 occurs 176543 times, 88.2715%\n",
      "7399 occurs 176249 times, 88.1245%\n",
      "4811 occurs 169371 times, 84.6855%\n",
      "4464 occurs 167161 times, 83.5805%\n",
      "1699 occurs 164856 times, 82.428%\n",
      "3659 occurs 163171 times, 81.5855%\n",
      "2400 occurs 163070 times, 81.535%\n",
      "299 occurs 163068 times, 81.53399999999999%\n",
      "3370 occurs 162335 times, 81.1675%\n",
      "2109 occurs 159373 times, 79.68650000000001%\n",
      "4939 occurs 158713 times, 79.3565%\n",
      "5598 occurs 156009 times, 78.0045%\n",
      "669 occurs 155729 times, 77.8645%\n",
      "5445 occurs 154533 times, 77.26650000000001%\n",
      "4853 occurs 153050 times, 76.525%\n",
      "2376 occurs 149517 times, 74.75850000000001%\n"
     ]
    }
   ],
   "source": [
    "# 字符3750、字符900和字符648在20w新闻的覆盖率较高,很有可能是标点符号\n",
    "train_df['text_unique'] = train_df['text'].apply(lambda x: ' '.join(list(set(x.split(' ')))))\n",
    "all_lines_unique = ' '.join(list(train_df['text_unique']))\n",
    "word_count_unique = Counter(all_lines_unique.split(\" \"))\n",
    "word_count_unique = sorted(word_count_unique.items(), key=lambda d: int(d[1]), reverse=True)\n",
    "# 打印整个训练集中覆盖率前20的词\n",
    "for i in range(20):\n",
    "    print(\"{} occurs {} times, {}%\".format(word_count_unique[i][0], word_count_unique[i][1],\n",
    "                                           (word_count_unique[i][1] / 200000) * 100))"
   ],
   "metadata": {
    "collapsed": false,
    "pycharm": {
     "name": "#%%\n"
    }
   }
  },
  {
   "cell_type": "code",
   "execution_count": 17,
   "outputs": [
    {
     "name": "stdout",
     "output_type": "stream",
     "text": [
      "173\n",
      "60\n",
      "73\n",
      "45\n",
      "149\n",
      "41\n",
      "181\n",
      "68\n",
      "43\n",
      "30\n",
      "146\n",
      "128\n",
      "31\n",
      "56\n",
      "105\n",
      "21\n",
      "48\n",
      "138\n",
      "73\n",
      "66\n",
      "121\n",
      "145\n",
      "59\n",
      "45\n",
      "120\n",
      "183\n",
      "31\n",
      "41\n",
      "48\n",
      "75\n",
      "74\n",
      "58\n",
      "40\n",
      "129\n",
      "10\n",
      "26\n",
      "55\n",
      "208\n",
      "81\n",
      "113\n",
      "114\n",
      "44\n",
      "26\n",
      "98\n",
      "49\n",
      "42\n",
      "116\n",
      "33\n",
      "26\n",
      "63\n",
      "20\n",
      "110\n",
      "60\n",
      "127\n",
      "16\n",
      "50\n",
      "45\n",
      "65\n",
      "19\n",
      "55\n",
      "147\n",
      "80\n",
      "69\n",
      "30\n",
      "23\n",
      "***********************\n",
      "300\n",
      "166\n",
      "217\n",
      "270\n",
      "183\n",
      "96\n",
      "101\n",
      "163\n",
      "314\n",
      "116\n",
      "261\n",
      "114\n",
      "38\n",
      "326\n",
      "191\n",
      "164\n",
      "74\n",
      "92\n",
      "166\n",
      "46\n",
      "301\n",
      "158\n",
      "187\n",
      "95\n",
      "106\n",
      "89\n",
      "320\n",
      "202\n",
      "134\n",
      "35\n",
      "5\n",
      "***********************\n",
      "339\n",
      "113\n",
      "25\n",
      "135\n",
      "209\n",
      "241\n",
      "16\n",
      "349\n",
      "21\n",
      "33\n",
      "265\n",
      "334\n",
      "195\n",
      "57\n",
      "50\n",
      "149\n",
      "36\n",
      "650\n",
      "62\n",
      "441\n",
      "174\n",
      "149\n",
      "252\n",
      "158\n",
      "280\n",
      "203\n",
      "106\n",
      "***********************\n"
     ]
    }
   ],
   "source": [
    "# '3750'可能为句号\n",
    "for i in train_df['text'][0].split('3750'):\n",
    "    print(len(i))\n",
    "\n",
    "print('***********************')\n",
    "\n",
    "for i in train_df['text'][0].split('900'):\n",
    "    print(len(i))\n",
    "\n",
    "print('***********************')\n",
    "\n",
    "for i in train_df['text'][0].split('648'):\n",
    "    print(len(i))\n",
    "\n",
    "print('***********************')"
   ],
   "metadata": {
    "collapsed": false,
    "pycharm": {
     "name": "#%%\n"
    }
   }
  },
  {
   "cell_type": "code",
   "execution_count": 18,
   "outputs": [],
   "source": [
    "def func(lst):\n",
    "    enc = OrdinalEncoder()\n",
    "    arr = np.array(lst).reshape(-1, 1)\n",
    "    arr_enc = enc.fit_transform(arr).astype(np.int_).reshape(-1, )\n",
    "    freq = np.bincount(arr_enc)\n",
    "    max_freq = np.argmax(freq)\n",
    "    max_freq_value = enc.inverse_transform(np.array([[max_freq]]))[0][0]\n",
    "    return max_freq_value"
   ],
   "metadata": {
    "collapsed": false,
    "pycharm": {
     "name": "#%%\n"
    }
   }
  },
  {
   "cell_type": "code",
   "execution_count": 19,
   "outputs": [
    {
     "data": {
      "text/plain": "        label                                               text  text_len  \\\n0           2  2967 6758 339 2021 1854 3731 4109 3792 4149 15...      1057   \n1          11  4464 486 6352 5619 2465 4802 1452 3137 5778 54...       486   \n2           3  7346 4068 5074 3747 5681 6093 1777 2226 7354 6...       764   \n3           2  7159 948 4866 2109 5520 2490 211 3956 5520 549...      1570   \n4           3  3646 3055 3055 2490 4659 6065 3370 5814 2465 5...       307   \n...       ...                                                ...       ...   \n199995      2  307 4894 7539 4853 5330 648 6038 4409 3764 603...       868   \n199996      2  3792 2983 355 1070 4464 5050 6298 3782 3130 68...      1142   \n199997     11  6811 1580 7539 1252 1899 5139 1386 3870 4124 1...      1180   \n199998      2  6405 3203 6644 983 794 1913 1678 5736 1397 191...       179   \n199999      3  4350 3878 3268 1699 6909 5505 2376 2465 6088 2...      2098   \n\n                                              text_unique  \\\n0       4469 2646 7420 4280 1641 4173 2828 4190 6045 6...   \n1       656 5928 1452 3137 5689 1394 4939 418 2646 669...   \n2       3545 3137 4190 6045 5822 3223 3725 141 5525 40...   \n3       4469 5678 1936 7420 4173 2828 4190 3651 502 18...   \n4       6833 4778 3103 3137 4939 1394 1344 26 1920 604...   \n...                                                   ...   \n199995  6833 4968 5470 910 3137 4939 1394 3792 2612 44...   \n199996  7420 1641 4173 2828 4190 6045 600 4151 7129 58...   \n199997  3531 6206 2998 5179 3137 4237 7420 4190 3223 3...   \n199998  5284 6644 1913 2828 4704 1920 314 442 7305 109...   \n199999  3531 6206 4469 1693 3137 4173 2828 4190 6045 4...   \n\n                                               text_split   len first_char  \\\n0       [2967, 6758, 339, 2021, 1854, 3731, 4109, 3792...  1057       2967   \n1       [4464, 486, 6352, 5619, 2465, 4802, 1452, 3137...   486       4464   \n2       [7346, 4068, 5074, 3747, 5681, 6093, 1777, 222...   764       7346   \n3       [7159, 948, 4866, 2109, 5520, 2490, 211, 3956,...  1570       7159   \n4       [3646, 3055, 3055, 2490, 4659, 6065, 3370, 581...   307       3646   \n...                                                   ...   ...        ...   \n199995  [307, 4894, 7539, 4853, 5330, 648, 6038, 4409,...   868        307   \n199996  [3792, 2983, 355, 1070, 4464, 5050, 6298, 3782...  1142       3792   \n199997  [6811, 1580, 7539, 1252, 1899, 5139, 1386, 387...  1180       6811   \n199998  [6405, 3203, 6644, 983, 794, 1913, 1678, 5736,...   179       6405   \n199999  [4350, 3878, 3268, 1699, 6909, 5505, 2376, 246...  2098       4350   \n\n       last_char most_freq  \n0           1635      3750  \n1            900      3750  \n2             57      3750  \n3           2662      3750  \n4           1635      3055  \n...          ...       ...  \n199995      2662      3750  \n199996      2662      3750  \n199997       900       648  \n199998      2662      3750  \n199999       900      3750  \n\n[200000 rows x 9 columns]",
      "text/html": "<div>\n<style scoped>\n    .dataframe tbody tr th:only-of-type {\n        vertical-align: middle;\n    }\n\n    .dataframe tbody tr th {\n        vertical-align: top;\n    }\n\n    .dataframe thead th {\n        text-align: right;\n    }\n</style>\n<table border=\"1\" class=\"dataframe\">\n  <thead>\n    <tr style=\"text-align: right;\">\n      <th></th>\n      <th>label</th>\n      <th>text</th>\n      <th>text_len</th>\n      <th>text_unique</th>\n      <th>text_split</th>\n      <th>len</th>\n      <th>first_char</th>\n      <th>last_char</th>\n      <th>most_freq</th>\n    </tr>\n  </thead>\n  <tbody>\n    <tr>\n      <th>0</th>\n      <td>2</td>\n      <td>2967 6758 339 2021 1854 3731 4109 3792 4149 15...</td>\n      <td>1057</td>\n      <td>4469 2646 7420 4280 1641 4173 2828 4190 6045 6...</td>\n      <td>[2967, 6758, 339, 2021, 1854, 3731, 4109, 3792...</td>\n      <td>1057</td>\n      <td>2967</td>\n      <td>1635</td>\n      <td>3750</td>\n    </tr>\n    <tr>\n      <th>1</th>\n      <td>11</td>\n      <td>4464 486 6352 5619 2465 4802 1452 3137 5778 54...</td>\n      <td>486</td>\n      <td>656 5928 1452 3137 5689 1394 4939 418 2646 669...</td>\n      <td>[4464, 486, 6352, 5619, 2465, 4802, 1452, 3137...</td>\n      <td>486</td>\n      <td>4464</td>\n      <td>900</td>\n      <td>3750</td>\n    </tr>\n    <tr>\n      <th>2</th>\n      <td>3</td>\n      <td>7346 4068 5074 3747 5681 6093 1777 2226 7354 6...</td>\n      <td>764</td>\n      <td>3545 3137 4190 6045 5822 3223 3725 141 5525 40...</td>\n      <td>[7346, 4068, 5074, 3747, 5681, 6093, 1777, 222...</td>\n      <td>764</td>\n      <td>7346</td>\n      <td>57</td>\n      <td>3750</td>\n    </tr>\n    <tr>\n      <th>3</th>\n      <td>2</td>\n      <td>7159 948 4866 2109 5520 2490 211 3956 5520 549...</td>\n      <td>1570</td>\n      <td>4469 5678 1936 7420 4173 2828 4190 3651 502 18...</td>\n      <td>[7159, 948, 4866, 2109, 5520, 2490, 211, 3956,...</td>\n      <td>1570</td>\n      <td>7159</td>\n      <td>2662</td>\n      <td>3750</td>\n    </tr>\n    <tr>\n      <th>4</th>\n      <td>3</td>\n      <td>3646 3055 3055 2490 4659 6065 3370 5814 2465 5...</td>\n      <td>307</td>\n      <td>6833 4778 3103 3137 4939 1394 1344 26 1920 604...</td>\n      <td>[3646, 3055, 3055, 2490, 4659, 6065, 3370, 581...</td>\n      <td>307</td>\n      <td>3646</td>\n      <td>1635</td>\n      <td>3055</td>\n    </tr>\n    <tr>\n      <th>...</th>\n      <td>...</td>\n      <td>...</td>\n      <td>...</td>\n      <td>...</td>\n      <td>...</td>\n      <td>...</td>\n      <td>...</td>\n      <td>...</td>\n      <td>...</td>\n    </tr>\n    <tr>\n      <th>199995</th>\n      <td>2</td>\n      <td>307 4894 7539 4853 5330 648 6038 4409 3764 603...</td>\n      <td>868</td>\n      <td>6833 4968 5470 910 3137 4939 1394 3792 2612 44...</td>\n      <td>[307, 4894, 7539, 4853, 5330, 648, 6038, 4409,...</td>\n      <td>868</td>\n      <td>307</td>\n      <td>2662</td>\n      <td>3750</td>\n    </tr>\n    <tr>\n      <th>199996</th>\n      <td>2</td>\n      <td>3792 2983 355 1070 4464 5050 6298 3782 3130 68...</td>\n      <td>1142</td>\n      <td>7420 1641 4173 2828 4190 6045 600 4151 7129 58...</td>\n      <td>[3792, 2983, 355, 1070, 4464, 5050, 6298, 3782...</td>\n      <td>1142</td>\n      <td>3792</td>\n      <td>2662</td>\n      <td>3750</td>\n    </tr>\n    <tr>\n      <th>199997</th>\n      <td>11</td>\n      <td>6811 1580 7539 1252 1899 5139 1386 3870 4124 1...</td>\n      <td>1180</td>\n      <td>3531 6206 2998 5179 3137 4237 7420 4190 3223 3...</td>\n      <td>[6811, 1580, 7539, 1252, 1899, 5139, 1386, 387...</td>\n      <td>1180</td>\n      <td>6811</td>\n      <td>900</td>\n      <td>648</td>\n    </tr>\n    <tr>\n      <th>199998</th>\n      <td>2</td>\n      <td>6405 3203 6644 983 794 1913 1678 5736 1397 191...</td>\n      <td>179</td>\n      <td>5284 6644 1913 2828 4704 1920 314 442 7305 109...</td>\n      <td>[6405, 3203, 6644, 983, 794, 1913, 1678, 5736,...</td>\n      <td>179</td>\n      <td>6405</td>\n      <td>2662</td>\n      <td>3750</td>\n    </tr>\n    <tr>\n      <th>199999</th>\n      <td>3</td>\n      <td>4350 3878 3268 1699 6909 5505 2376 2465 6088 2...</td>\n      <td>2098</td>\n      <td>3531 6206 4469 1693 3137 4173 2828 4190 6045 4...</td>\n      <td>[4350, 3878, 3268, 1699, 6909, 5505, 2376, 246...</td>\n      <td>2098</td>\n      <td>4350</td>\n      <td>900</td>\n      <td>3750</td>\n    </tr>\n  </tbody>\n</table>\n<p>200000 rows × 9 columns</p>\n</div>"
     },
     "execution_count": 19,
     "metadata": {},
     "output_type": "execute_result"
    }
   ],
   "source": [
    "train_df['text_split'] = train_df['text'].apply(lambda x: x.split())\n",
    "train_df['len'] = train_df['text'].apply(lambda x: len(x.split()))\n",
    "train_df['first_char'] = train_df['text_split'].apply(lambda x: x[0])\n",
    "train_df['last_char'] = train_df['text_split'].apply(lambda x: x[-1])\n",
    "train_df['most_freq'] = train_df['text_split'].apply(func)\n",
    "train_df"
   ],
   "metadata": {
    "collapsed": false,
    "pycharm": {
     "name": "#%%\n"
    }
   }
  },
  {
   "cell_type": "code",
   "execution_count": 20,
   "outputs": [
    {
     "data": {
      "text/plain": "    count     len_mean      len_std  len_min  len_max freq_fc freq_lc  \\\n0   38918   878.717663   859.302990       12    18587    2400     900   \n1   36945   870.363676  1451.060541        9    57921    1141     900   \n2   31425  1014.429562   737.313693        2    41894    1580    2662   \n3   22133   784.774726   739.347231       17    10817    7346     900   \n4   15016   649.705647   718.689556       25    14928    1141     900   \n5   12232  1116.054938   910.002484       27    15839    5744     900   \n6    9985  1249.114071  1203.464887       16    25728    3659     900   \n7    8841  1157.883271   942.048602       11    14469    6835     900   \n8    7847   712.401172   898.704321        7    15271     913     900   \n9    5878   833.627084   739.593276       17    23866    7346     900   \n10   4920   911.138008   958.311796       14    20622    3523     885   \n11   3131   608.889812   509.755296       21     5729    6811     900   \n12   1821  1194.969248  1108.697967       25     8737    5006     900   \n13    908   735.325991   795.676666       26     6399    1999    2662   \n\n   freq_freq  \n0       3750  \n1       3750  \n2       3750  \n3       3750  \n4       3750  \n5       3750  \n6       3750  \n7       3750  \n8       3750  \n9       3750  \n10      3750  \n11      3750  \n12      3750  \n13      3750  ",
      "text/html": "<div>\n<style scoped>\n    .dataframe tbody tr th:only-of-type {\n        vertical-align: middle;\n    }\n\n    .dataframe tbody tr th {\n        vertical-align: top;\n    }\n\n    .dataframe thead th {\n        text-align: right;\n    }\n</style>\n<table border=\"1\" class=\"dataframe\">\n  <thead>\n    <tr style=\"text-align: right;\">\n      <th></th>\n      <th>count</th>\n      <th>len_mean</th>\n      <th>len_std</th>\n      <th>len_min</th>\n      <th>len_max</th>\n      <th>freq_fc</th>\n      <th>freq_lc</th>\n      <th>freq_freq</th>\n    </tr>\n  </thead>\n  <tbody>\n    <tr>\n      <th>0</th>\n      <td>38918</td>\n      <td>878.717663</td>\n      <td>859.302990</td>\n      <td>12</td>\n      <td>18587</td>\n      <td>2400</td>\n      <td>900</td>\n      <td>3750</td>\n    </tr>\n    <tr>\n      <th>1</th>\n      <td>36945</td>\n      <td>870.363676</td>\n      <td>1451.060541</td>\n      <td>9</td>\n      <td>57921</td>\n      <td>1141</td>\n      <td>900</td>\n      <td>3750</td>\n    </tr>\n    <tr>\n      <th>2</th>\n      <td>31425</td>\n      <td>1014.429562</td>\n      <td>737.313693</td>\n      <td>2</td>\n      <td>41894</td>\n      <td>1580</td>\n      <td>2662</td>\n      <td>3750</td>\n    </tr>\n    <tr>\n      <th>3</th>\n      <td>22133</td>\n      <td>784.774726</td>\n      <td>739.347231</td>\n      <td>17</td>\n      <td>10817</td>\n      <td>7346</td>\n      <td>900</td>\n      <td>3750</td>\n    </tr>\n    <tr>\n      <th>4</th>\n      <td>15016</td>\n      <td>649.705647</td>\n      <td>718.689556</td>\n      <td>25</td>\n      <td>14928</td>\n      <td>1141</td>\n      <td>900</td>\n      <td>3750</td>\n    </tr>\n    <tr>\n      <th>5</th>\n      <td>12232</td>\n      <td>1116.054938</td>\n      <td>910.002484</td>\n      <td>27</td>\n      <td>15839</td>\n      <td>5744</td>\n      <td>900</td>\n      <td>3750</td>\n    </tr>\n    <tr>\n      <th>6</th>\n      <td>9985</td>\n      <td>1249.114071</td>\n      <td>1203.464887</td>\n      <td>16</td>\n      <td>25728</td>\n      <td>3659</td>\n      <td>900</td>\n      <td>3750</td>\n    </tr>\n    <tr>\n      <th>7</th>\n      <td>8841</td>\n      <td>1157.883271</td>\n      <td>942.048602</td>\n      <td>11</td>\n      <td>14469</td>\n      <td>6835</td>\n      <td>900</td>\n      <td>3750</td>\n    </tr>\n    <tr>\n      <th>8</th>\n      <td>7847</td>\n      <td>712.401172</td>\n      <td>898.704321</td>\n      <td>7</td>\n      <td>15271</td>\n      <td>913</td>\n      <td>900</td>\n      <td>3750</td>\n    </tr>\n    <tr>\n      <th>9</th>\n      <td>5878</td>\n      <td>833.627084</td>\n      <td>739.593276</td>\n      <td>17</td>\n      <td>23866</td>\n      <td>7346</td>\n      <td>900</td>\n      <td>3750</td>\n    </tr>\n    <tr>\n      <th>10</th>\n      <td>4920</td>\n      <td>911.138008</td>\n      <td>958.311796</td>\n      <td>14</td>\n      <td>20622</td>\n      <td>3523</td>\n      <td>885</td>\n      <td>3750</td>\n    </tr>\n    <tr>\n      <th>11</th>\n      <td>3131</td>\n      <td>608.889812</td>\n      <td>509.755296</td>\n      <td>21</td>\n      <td>5729</td>\n      <td>6811</td>\n      <td>900</td>\n      <td>3750</td>\n    </tr>\n    <tr>\n      <th>12</th>\n      <td>1821</td>\n      <td>1194.969248</td>\n      <td>1108.697967</td>\n      <td>25</td>\n      <td>8737</td>\n      <td>5006</td>\n      <td>900</td>\n      <td>3750</td>\n    </tr>\n    <tr>\n      <th>13</th>\n      <td>908</td>\n      <td>735.325991</td>\n      <td>795.676666</td>\n      <td>26</td>\n      <td>6399</td>\n      <td>1999</td>\n      <td>2662</td>\n      <td>3750</td>\n    </tr>\n  </tbody>\n</table>\n</div>"
     },
     "execution_count": 20,
     "metadata": {},
     "output_type": "execute_result"
    }
   ],
   "source": [
    "train_df_info = pd.DataFrame(\n",
    "    columns=['count', 'len_mean', 'len_std', 'len_min', 'len_max', 'freq_fc', 'freq_lc', 'freq_freq'])\n",
    "for name, group in train_df.groupby('label'):\n",
    "    count = len(group)  # 该类别新闻数\n",
    "    len_mean = np.mean(group['len'])  # 该类别长度平均值\n",
    "    len_std = np.std(group['len'])  # 长度标准差\n",
    "    len_min = np.min(group['len'])  # 最短的新闻长度\n",
    "    len_max = np.max(group['len'])  # 最长的新闻长度\n",
    "    freq_fc = func(group['first_char'])  # 最频繁出现的首词\n",
    "    freq_lc = func(group['last_char'])  # 最频繁出现的末词(900可能是句号)\n",
    "    freq_freq = func(group['most_freq'])  # 该类别最频繁出现的词\n",
    "    train_df_info.loc[name] = [count, len_mean, len_std, len_min, len_max, freq_fc, freq_lc, freq_freq]\n",
    "train_df_info"
   ],
   "metadata": {
    "collapsed": false,
    "pycharm": {
     "name": "#%%\n"
    }
   }
  },
  {
   "cell_type": "code",
   "execution_count": 20,
   "outputs": [],
   "source": [],
   "metadata": {
    "collapsed": false,
    "pycharm": {
     "name": "#%%"
    }
   }
  }
 ],
 "metadata": {
  "kernelspec": {
   "display_name": "Python 3",
   "language": "python",
   "name": "python3"
  },
  "language_info": {
   "codemirror_mode": {
    "name": "ipython",
    "version": 2
   },
   "file_extension": ".py",
   "mimetype": "text/x-python",
   "name": "python",
   "nbconvert_exporter": "python",
   "pygments_lexer": "ipython2",
   "version": "2.7.6"
  }
 },
 "nbformat": 4,
 "nbformat_minor": 0
}