{
 "cells": [
  {
   "cell_type": "code",
   "execution_count": 13,
   "metadata": {
    "collapsed": true
   },
   "outputs": [],
   "source": [
    "import pandas as pd\n",
    "import matplotlib.pyplot as plt"
   ]
  },
  {
   "cell_type": "code",
   "execution_count": 14,
   "outputs": [
    {
     "data": {
      "text/plain": "             id  discourse_id  discourse_start  discourse_end  \\\n0  423A1CA112E2  1.622628e+12              8.0          229.0   \n1  423A1CA112E2  1.622628e+12            230.0          312.0   \n2  423A1CA112E2  1.622628e+12            313.0          401.0   \n3  423A1CA112E2  1.622628e+12            402.0          758.0   \n4  423A1CA112E2  1.622628e+12            759.0          886.0   \n\n                                      discourse_text discourse_type  \\\n0  Modern humans today are always on their phone....           Lead   \n1  They are some really bad consequences when stu...       Position   \n2  Some certain areas in the United States ban ph...       Evidence   \n3  When people have phones, they know about certa...       Evidence   \n4  Driving is one of the way how to get around. P...          Claim   \n\n  discourse_type_num                                   predictionstring  \n0             Lead 1  1 2 3 4 5 6 7 8 9 10 11 12 13 14 15 16 17 18 1...  \n1         Position 1       45 46 47 48 49 50 51 52 53 54 55 56 57 58 59  \n2         Evidence 1    60 61 62 63 64 65 66 67 68 69 70 71 72 73 74 75  \n3         Evidence 2  76 77 78 79 80 81 82 83 84 85 86 87 88 89 90 9...  \n4            Claim 1  139 140 141 142 143 144 145 146 147 148 149 15...  ",
      "text/html": "<div>\n<style scoped>\n    .dataframe tbody tr th:only-of-type {\n        vertical-align: middle;\n    }\n\n    .dataframe tbody tr th {\n        vertical-align: top;\n    }\n\n    .dataframe thead th {\n        text-align: right;\n    }\n</style>\n<table border=\"1\" class=\"dataframe\">\n  <thead>\n    <tr style=\"text-align: right;\">\n      <th></th>\n      <th>id</th>\n      <th>discourse_id</th>\n      <th>discourse_start</th>\n      <th>discourse_end</th>\n      <th>discourse_text</th>\n      <th>discourse_type</th>\n      <th>discourse_type_num</th>\n      <th>predictionstring</th>\n    </tr>\n  </thead>\n  <tbody>\n    <tr>\n      <th>0</th>\n      <td>423A1CA112E2</td>\n      <td>1.622628e+12</td>\n      <td>8.0</td>\n      <td>229.0</td>\n      <td>Modern humans today are always on their phone....</td>\n      <td>Lead</td>\n      <td>Lead 1</td>\n      <td>1 2 3 4 5 6 7 8 9 10 11 12 13 14 15 16 17 18 1...</td>\n    </tr>\n    <tr>\n      <th>1</th>\n      <td>423A1CA112E2</td>\n      <td>1.622628e+12</td>\n      <td>230.0</td>\n      <td>312.0</td>\n      <td>They are some really bad consequences when stu...</td>\n      <td>Position</td>\n      <td>Position 1</td>\n      <td>45 46 47 48 49 50 51 52 53 54 55 56 57 58 59</td>\n    </tr>\n    <tr>\n      <th>2</th>\n      <td>423A1CA112E2</td>\n      <td>1.622628e+12</td>\n      <td>313.0</td>\n      <td>401.0</td>\n      <td>Some certain areas in the United States ban ph...</td>\n      <td>Evidence</td>\n      <td>Evidence 1</td>\n      <td>60 61 62 63 64 65 66 67 68 69 70 71 72 73 74 75</td>\n    </tr>\n    <tr>\n      <th>3</th>\n      <td>423A1CA112E2</td>\n      <td>1.622628e+12</td>\n      <td>402.0</td>\n      <td>758.0</td>\n      <td>When people have phones, they know about certa...</td>\n      <td>Evidence</td>\n      <td>Evidence 2</td>\n      <td>76 77 78 79 80 81 82 83 84 85 86 87 88 89 90 9...</td>\n    </tr>\n    <tr>\n      <th>4</th>\n      <td>423A1CA112E2</td>\n      <td>1.622628e+12</td>\n      <td>759.0</td>\n      <td>886.0</td>\n      <td>Driving is one of the way how to get around. P...</td>\n      <td>Claim</td>\n      <td>Claim 1</td>\n      <td>139 140 141 142 143 144 145 146 147 148 149 15...</td>\n    </tr>\n  </tbody>\n</table>\n</div>"
     },
     "execution_count": 14,
     "metadata": {},
     "output_type": "execute_result"
    }
   ],
   "source": [
    "'''\n",
    "id - ID code for essay response\n",
    "discourse_id - ID code for discourse element\n",
    "discourse_start - character position where discourse element begins in the essay response\n",
    "discourse_end - character position where discourse element ends in the essay response\n",
    "discourse_text - text of discourse element\n",
    "discourse_type - classification of discourse element\n",
    "discourse_type_num - enumerated class label of discourse element\n",
    "predictionstring - the word indices of the training sample, as required for predictions\n",
    "'''\n",
    "train = pd.read_csv(\"datasets/train.csv\")\n",
    "train.head()"
   ],
   "metadata": {
    "collapsed": false,
    "pycharm": {
     "name": "#%%\n"
    }
   }
  },
  {
   "cell_type": "code",
   "execution_count": 15,
   "outputs": [
    {
     "data": {
      "text/plain": "             id  discourse_id  discourse_start  discourse_end  \\\n0  423A1CA112E2  1.622628e+12              8.0          229.0   \n1  423A1CA112E2  1.622628e+12            230.0          312.0   \n2  423A1CA112E2  1.622628e+12            313.0          401.0   \n3  423A1CA112E2  1.622628e+12            402.0          758.0   \n4  423A1CA112E2  1.622628e+12            759.0          886.0   \n5  423A1CA112E2  1.622628e+12            887.0         1150.0   \n6  423A1CA112E2  1.622628e+12           1151.0         1533.0   \n7  423A1CA112E2  1.622628e+12           1534.0         1602.0   \n8  423A1CA112E2  1.622628e+12           1603.0         1890.0   \n9  423A1CA112E2  1.622628e+12           1891.0         2027.0   \n\n                                      discourse_text        discourse_type  \\\n0  Modern humans today are always on their phone....                  Lead   \n1  They are some really bad consequences when stu...              Position   \n2  Some certain areas in the United States ban ph...              Evidence   \n3  When people have phones, they know about certa...              Evidence   \n4  Driving is one of the way how to get around. P...                 Claim   \n5  That's why there's a thing that's called no te...              Evidence   \n6  Sometimes on the news there is either an accid...              Evidence   \n7  Phones are fine to use and it's also the best ...                 Claim   \n8  If you go through a problem and you can't find...              Evidence   \n9  The news always updated when people do somethi...  Concluding Statement   \n\n       discourse_type_num                                   predictionstring  \n0                  Lead 1  1 2 3 4 5 6 7 8 9 10 11 12 13 14 15 16 17 18 1...  \n1              Position 1       45 46 47 48 49 50 51 52 53 54 55 56 57 58 59  \n2              Evidence 1    60 61 62 63 64 65 66 67 68 69 70 71 72 73 74 75  \n3              Evidence 2  76 77 78 79 80 81 82 83 84 85 86 87 88 89 90 9...  \n4                 Claim 1  139 140 141 142 143 144 145 146 147 148 149 15...  \n5              Evidence 3  163 164 165 166 167 168 169 170 171 172 173 17...  \n6              Evidence 4  211 212 213 214 215 216 217 218 219 220 221 22...  \n7                 Claim 2  282 283 284 285 286 287 288 289 290 291 292 29...  \n8              Evidence 5  297 298 299 300 301 302 303 304 305 306 307 30...  \n9  Concluding Statement 1  355 356 357 358 359 360 361 362 363 364 365 36...  ",
      "text/html": "<div>\n<style scoped>\n    .dataframe tbody tr th:only-of-type {\n        vertical-align: middle;\n    }\n\n    .dataframe tbody tr th {\n        vertical-align: top;\n    }\n\n    .dataframe thead th {\n        text-align: right;\n    }\n</style>\n<table border=\"1\" class=\"dataframe\">\n  <thead>\n    <tr style=\"text-align: right;\">\n      <th></th>\n      <th>id</th>\n      <th>discourse_id</th>\n      <th>discourse_start</th>\n      <th>discourse_end</th>\n      <th>discourse_text</th>\n      <th>discourse_type</th>\n      <th>discourse_type_num</th>\n      <th>predictionstring</th>\n    </tr>\n  </thead>\n  <tbody>\n    <tr>\n      <th>0</th>\n      <td>423A1CA112E2</td>\n      <td>1.622628e+12</td>\n      <td>8.0</td>\n      <td>229.0</td>\n      <td>Modern humans today are always on their phone....</td>\n      <td>Lead</td>\n      <td>Lead 1</td>\n      <td>1 2 3 4 5 6 7 8 9 10 11 12 13 14 15 16 17 18 1...</td>\n    </tr>\n    <tr>\n      <th>1</th>\n      <td>423A1CA112E2</td>\n      <td>1.622628e+12</td>\n      <td>230.0</td>\n      <td>312.0</td>\n      <td>They are some really bad consequences when stu...</td>\n      <td>Position</td>\n      <td>Position 1</td>\n      <td>45 46 47 48 49 50 51 52 53 54 55 56 57 58 59</td>\n    </tr>\n    <tr>\n      <th>2</th>\n      <td>423A1CA112E2</td>\n      <td>1.622628e+12</td>\n      <td>313.0</td>\n      <td>401.0</td>\n      <td>Some certain areas in the United States ban ph...</td>\n      <td>Evidence</td>\n      <td>Evidence 1</td>\n      <td>60 61 62 63 64 65 66 67 68 69 70 71 72 73 74 75</td>\n    </tr>\n    <tr>\n      <th>3</th>\n      <td>423A1CA112E2</td>\n      <td>1.622628e+12</td>\n      <td>402.0</td>\n      <td>758.0</td>\n      <td>When people have phones, they know about certa...</td>\n      <td>Evidence</td>\n      <td>Evidence 2</td>\n      <td>76 77 78 79 80 81 82 83 84 85 86 87 88 89 90 9...</td>\n    </tr>\n    <tr>\n      <th>4</th>\n      <td>423A1CA112E2</td>\n      <td>1.622628e+12</td>\n      <td>759.0</td>\n      <td>886.0</td>\n      <td>Driving is one of the way how to get around. P...</td>\n      <td>Claim</td>\n      <td>Claim 1</td>\n      <td>139 140 141 142 143 144 145 146 147 148 149 15...</td>\n    </tr>\n    <tr>\n      <th>5</th>\n      <td>423A1CA112E2</td>\n      <td>1.622628e+12</td>\n      <td>887.0</td>\n      <td>1150.0</td>\n      <td>That's why there's a thing that's called no te...</td>\n      <td>Evidence</td>\n      <td>Evidence 3</td>\n      <td>163 164 165 166 167 168 169 170 171 172 173 17...</td>\n    </tr>\n    <tr>\n      <th>6</th>\n      <td>423A1CA112E2</td>\n      <td>1.622628e+12</td>\n      <td>1151.0</td>\n      <td>1533.0</td>\n      <td>Sometimes on the news there is either an accid...</td>\n      <td>Evidence</td>\n      <td>Evidence 4</td>\n      <td>211 212 213 214 215 216 217 218 219 220 221 22...</td>\n    </tr>\n    <tr>\n      <th>7</th>\n      <td>423A1CA112E2</td>\n      <td>1.622628e+12</td>\n      <td>1534.0</td>\n      <td>1602.0</td>\n      <td>Phones are fine to use and it's also the best ...</td>\n      <td>Claim</td>\n      <td>Claim 2</td>\n      <td>282 283 284 285 286 287 288 289 290 291 292 29...</td>\n    </tr>\n    <tr>\n      <th>8</th>\n      <td>423A1CA112E2</td>\n      <td>1.622628e+12</td>\n      <td>1603.0</td>\n      <td>1890.0</td>\n      <td>If you go through a problem and you can't find...</td>\n      <td>Evidence</td>\n      <td>Evidence 5</td>\n      <td>297 298 299 300 301 302 303 304 305 306 307 30...</td>\n    </tr>\n    <tr>\n      <th>9</th>\n      <td>423A1CA112E2</td>\n      <td>1.622628e+12</td>\n      <td>1891.0</td>\n      <td>2027.0</td>\n      <td>The news always updated when people do somethi...</td>\n      <td>Concluding Statement</td>\n      <td>Concluding Statement 1</td>\n      <td>355 356 357 358 359 360 361 362 363 364 365 36...</td>\n    </tr>\n  </tbody>\n</table>\n</div>"
     },
     "execution_count": 15,
     "metadata": {},
     "output_type": "execute_result"
    }
   ],
   "source": [
    "# 同一id表示属于同一句话\n",
    "train.query('id == \"423A1CA112E2\"')"
   ],
   "metadata": {
    "collapsed": false,
    "pycharm": {
     "name": "#%%\n"
    }
   }
  },
  {
   "cell_type": "code",
   "execution_count": 16,
   "outputs": [
    {
     "name": "stdout",
     "output_type": "stream",
     "text": [
      "<class 'pandas.core.frame.DataFrame'>\n",
      "RangeIndex: 144293 entries, 0 to 144292\n",
      "Data columns (total 8 columns):\n",
      " #   Column              Non-Null Count   Dtype  \n",
      "---  ------              --------------   -----  \n",
      " 0   id                  144293 non-null  object \n",
      " 1   discourse_id        144293 non-null  float64\n",
      " 2   discourse_start     144293 non-null  float64\n",
      " 3   discourse_end       144293 non-null  float64\n",
      " 4   discourse_text      144293 non-null  object \n",
      " 5   discourse_type      144293 non-null  object \n",
      " 6   discourse_type_num  144293 non-null  object \n",
      " 7   predictionstring    144293 non-null  object \n",
      "dtypes: float64(3), object(5)\n",
      "memory usage: 8.8+ MB\n"
     ]
    }
   ],
   "source": [
    "train.info()"
   ],
   "metadata": {
    "collapsed": false,
    "pycharm": {
     "name": "#%%\n"
    }
   }
  },
  {
   "cell_type": "code",
   "execution_count": 17,
   "outputs": [
    {
     "data": {
      "text/plain": "Claim                   50208\nEvidence                45702\nPosition                15419\nConcluding Statement    13505\nLead                     9305\nCounterclaim             5817\nRebuttal                 4337\nName: discourse_type, dtype: int64"
     },
     "execution_count": 17,
     "metadata": {},
     "output_type": "execute_result"
    }
   ],
   "source": [
    "'''\n",
    "Lead - an introduction that begins with a statistic, a quotation, a description, or some other device to grab the reader’s attention and point toward the thesis\n",
    "Position - an opinion or conclusion on the main question\n",
    "Claim - a claim that supports the position\n",
    "Counterclaim - a claim that refutes another claim or gives an opposing reason to the position\n",
    "Rebuttal - a claim that refutes a counterclaim\n",
    "Evidence - ideas or examples that support claims, counterclaims, or rebuttals.\n",
    "Concluding Statement - a concluding statement that restates the claims\n",
    "'''\n",
    "train['discourse_type'].value_counts()"
   ],
   "metadata": {
    "collapsed": false,
    "pycharm": {
     "name": "#%%\n"
    }
   }
  },
  {
   "cell_type": "code",
   "execution_count": 18,
   "outputs": [
    {
     "data": {
      "text/plain": "<Figure size 864x288 with 1 Axes>",
      "image/png": "[encoded data removed]"
     },
     "metadata": {
      "needs_background": "light"
     },
     "output_type": "display_data"
    }
   ],
   "source": [
    "data = train.groupby(\"discourse_type\")[['discourse_end', 'discourse_start']].mean().reset_index().sort_values(\n",
    "    by='discourse_start', ascending=False)\n",
    "data.plot(x='discourse_type',\n",
    "          kind='barh',\n",
    "          stacked=False,\n",
    "          title='Average start and end position absolute',\n",
    "          figsize=(12, 4))\n",
    "plt.show()"
   ],
   "metadata": {
    "collapsed": false,
    "pycharm": {
     "name": "#%%\n"
    }
   }
  },
  {
   "cell_type": "code",
   "execution_count": 19,
   "outputs": [
    {
     "data": {
      "text/plain": "Evidence 1                15550\nPosition 1                15366\nClaim 1                   14927\nEvidence 2                14020\nConcluding Statement 1    13418\nClaim 2                   13212\nEvidence 3                10373\nClaim 3                    9862\nLead 1                     9301\nClaim 4                    5619\nCounterclaim 1             4576\nEvidence 4                 3840\nRebuttal 1                 3598\nClaim 5                    3498\nClaim 6                    2589\nEvidence 5                 1299\nCounterclaim 2              948\nRebuttal 2                  578\nEvidence 6                  426\nClaim 7                     324\nCounterclaim 3              223\nRebuttal 3                  131\nClaim 8                     122\nEvidence 7                  121\nConcluding Statement 2       85\nPosition 2                   53\nCounterclaim 4               49\nEvidence 8                   46\nClaim 9                      34\nRebuttal 4                   21\nEvidence 9                   16\nCounterclaim 5               16\nClaim 10                     15\nRebuttal 5                    8\nEvidence 10                   7\nCounterclaim 6                5\nClaim 11                      5\nLead 2                        4\nEvidence 11                   3\nConcluding Statement 3        1\nConcluding Statement 4        1\nClaim 12                      1\nRebuttal 6                    1\nEvidence 12                   1\nName: discourse_type_num, dtype: int64"
     },
     "execution_count": 19,
     "metadata": {},
     "output_type": "execute_result"
    }
   ],
   "source": [
    "train['discourse_type_num'].value_counts()"
   ],
   "metadata": {
    "collapsed": false,
    "pycharm": {
     "name": "#%%\n"
    }
   }
  }
 ],
 "metadata": {
  "kernelspec": {
   "display_name": "Python 3",
   "language": "python",
   "name": "python3"
  },
  "language_info": {
   "codemirror_mode": {
    "name": "ipython",
    "version": 2
   },
   "file_extension": ".py",
   "mimetype": "text/x-python",
   "name": "python",
   "nbconvert_exporter": "python",
   "pygments_lexer": "ipython2",
   "version": "2.7.6"
  }
 },
 "nbformat": 4,
 "nbformat_minor": 0
}