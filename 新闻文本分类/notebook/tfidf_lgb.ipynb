{
 "cells": [
  {
   "cell_type": "code",
   "execution_count": 1,
   "metadata": {},
   "outputs": [],
   "source": [
    "import pandas as pd\n",
    "from sklearn.feature_extraction.text import TfidfVectorizer\n",
    "from sklearn.metrics import f1_score\n",
    "import numpy as np\n",
    "import joblib\n",
    "from sklearn.model_selection import StratifiedKFold\n",
    "import lightgbm as lgb\n",
    "\n",
    "# from 新闻文本分类.models.lightgbm_model import MyLightGBM\n",
    "%run ../models/lightgbm_model.py"
   ]
  },
  {
   "cell_type": "code",
   "execution_count": 2,
   "metadata": {
    "pycharm": {
     "name": "#%%\n"
    }
   },
   "outputs": [],
   "source": [
    "train_df = pd.read_csv('../datasets/train_set.csv', sep='\\t')\n",
    "test_df = pd.read_csv('../datasets/test_a.csv', sep='\\t')"
   ]
  },
  {
   "cell_type": "code",
   "execution_count": 3,
   "metadata": {
    "pycharm": {
     "name": "#%%\n"
    }
   },
   "outputs": [],
   "source": [
    "# ************1 step************\n",
    "\n",
    "# tfidf = TfidfVectorizer(ngram_range=(1, 3), max_features=5000)\n",
    "# tfidf.fit(np.concatenate((train_df['text'].values, test_df['text'].values), axis=0))\n",
    "\n",
    "# 保存训练数据集在TfidfVectorizer上的结果\n",
    "# train_word_features = tfidf.transform(train_df['text'].values)\n",
    "# joblib.dump(train_word_features, '../intermediate_save_data/train_word_features.pkl')\n",
    "\n",
    "# 保存测试数据集在TfidfVectorizer上的结果\n",
    "# test_word_features = tfidf.transform(test_df['text'].values)\n",
    "# joblib.dump(test_word_features, '../intermediate_save_data/test_word_features.pkl')"
   ]
  },
  {
   "cell_type": "code",
   "execution_count": 4,
   "metadata": {
    "pycharm": {
     "name": "#%%\n"
    }
   },
   "outputs": [],
   "source": [
    "# ************2 step************\n",
    "\n",
    "# train_word_features_load = joblib.load('../intermediate_save_data/train_word_features.pkl')\n",
    "# test_word_features_load = joblib.load('../intermediate_save_data/test_word_features.pkl')"
   ]
  },
  {
   "cell_type": "code",
   "execution_count": 5,
   "metadata": {
    "pycharm": {
     "name": "#%%\n"
    }
   },
   "outputs": [
    {
     "name": "stdout",
     "output_type": "stream",
     "text": [
      "Training fold 1\n",
      "Training until validation scores don't improve for 200 rounds\n",
      "[50]\ttraining's multi_logloss: 0.146868\ttraining's F1 score: 0.957488\tvalid_1's multi_logloss: 0.204472\tvalid_1's F1 score: 0.93685\n",
      "[100]\ttraining's multi_logloss: 0.0807472\ttraining's F1 score: 0.980025\tvalid_1's multi_logloss: 0.174611\tvalid_1's F1 score: 0.944\n",
      "[150]\ttraining's multi_logloss: 0.0516487\ttraining's F1 score: 0.99105\tvalid_1's multi_logloss: 0.167251\tvalid_1's F1 score: 0.94605\n",
      "[200]\ttraining's multi_logloss: 0.0364209\ttraining's F1 score: 0.995925\tvalid_1's multi_logloss: 0.16455\tvalid_1's F1 score: 0.9471\n",
      "[250]\ttraining's multi_logloss: 0.0280064\ttraining's F1 score: 0.998044\tvalid_1's multi_logloss: 0.163377\tvalid_1's F1 score: 0.947925\n",
      "[300]\ttraining's multi_logloss: 0.022986\ttraining's F1 score: 0.998981\tvalid_1's multi_logloss: 0.163091\tvalid_1's F1 score: 0.9486\n",
      "[350]\ttraining's multi_logloss: 0.0197615\ttraining's F1 score: 0.999331\tvalid_1's multi_logloss: 0.16314\tvalid_1's F1 score: 0.948825\n",
      "[400]\ttraining's multi_logloss: 0.0176659\ttraining's F1 score: 0.9995\tvalid_1's multi_logloss: 0.163366\tvalid_1's F1 score: 0.94885\n",
      "[450]\ttraining's multi_logloss: 0.0164591\ttraining's F1 score: 0.999581\tvalid_1's multi_logloss: 0.163526\tvalid_1's F1 score: 0.9489\n",
      "[500]\ttraining's multi_logloss: 0.015603\ttraining's F1 score: 0.999669\tvalid_1's multi_logloss: 0.163633\tvalid_1's F1 score: 0.9489\n",
      "Early stopping, best iteration is:\n",
      "[338]\ttraining's multi_logloss: 0.0203603\ttraining's F1 score: 0.999281\tvalid_1's multi_logloss: 0.163063\tvalid_1's F1 score: 0.94885\n",
      "Training fold 2\n",
      "[50]\ttraining's multi_logloss: 0.14722\ttraining's F1 score: 0.957187\tvalid_1's multi_logloss: 0.200549\tvalid_1's F1 score: 0.938275\n",
      "[100]\ttraining's multi_logloss: 0.080905\ttraining's F1 score: 0.979819\tvalid_1's multi_logloss: 0.171747\tvalid_1's F1 score: 0.94565\n",
      "[150]\ttraining's multi_logloss: 0.0517277\ttraining's F1 score: 0.991206\tvalid_1's multi_logloss: 0.165043\tvalid_1's F1 score: 0.947675\n",
      "[200]\ttraining's multi_logloss: 0.036408\ttraining's F1 score: 0.9961\tvalid_1's multi_logloss: 0.162522\tvalid_1's F1 score: 0.948275\n",
      "[250]\ttraining's multi_logloss: 0.0279995\ttraining's F1 score: 0.99825\tvalid_1's multi_logloss: 0.161625\tvalid_1's F1 score: 0.94855\n",
      "[300]\ttraining's multi_logloss: 0.0229699\ttraining's F1 score: 0.998981\tvalid_1's multi_logloss: 0.161538\tvalid_1's F1 score: 0.948925\n",
      "[350]\ttraining's multi_logloss: 0.0196788\ttraining's F1 score: 0.999325\tvalid_1's multi_logloss: 0.161754\tvalid_1's F1 score: 0.948925\n",
      "[400]\ttraining's multi_logloss: 0.0175494\ttraining's F1 score: 0.999556\tvalid_1's multi_logloss: 0.161917\tvalid_1's F1 score: 0.948825\n",
      "[450]\ttraining's multi_logloss: 0.0162869\ttraining's F1 score: 0.99965\tvalid_1's multi_logloss: 0.161965\tvalid_1's F1 score: 0.94905\n",
      "Early stopping, best iteration is:\n",
      "[289]\ttraining's multi_logloss: 0.023883\ttraining's F1 score: 0.998888\tvalid_1's multi_logloss: 0.161402\tvalid_1's F1 score: 0.94885\n",
      "Training fold 3\n",
      "[50]\ttraining's multi_logloss: 0.147354\ttraining's F1 score: 0.957194\tvalid_1's multi_logloss: 0.202617\tvalid_1's F1 score: 0.9373\n",
      "[100]\ttraining's multi_logloss: 0.0810132\ttraining's F1 score: 0.979975\tvalid_1's multi_logloss: 0.172808\tvalid_1's F1 score: 0.9452\n",
      "[150]\ttraining's multi_logloss: 0.0518573\ttraining's F1 score: 0.991081\tvalid_1's multi_logloss: 0.165702\tvalid_1's F1 score: 0.94655\n",
      "[200]\ttraining's multi_logloss: 0.0364656\ttraining's F1 score: 0.996237\tvalid_1's multi_logloss: 0.163436\tvalid_1's F1 score: 0.947425\n",
      "[250]\ttraining's multi_logloss: 0.0281251\ttraining's F1 score: 0.99815\tvalid_1's multi_logloss: 0.162502\tvalid_1's F1 score: 0.9476\n",
      "[300]\ttraining's multi_logloss: 0.0229935\ttraining's F1 score: 0.998938\tvalid_1's multi_logloss: 0.16244\tvalid_1's F1 score: 0.9478\n",
      "[350]\ttraining's multi_logloss: 0.0196791\ttraining's F1 score: 0.999275\tvalid_1's multi_logloss: 0.162483\tvalid_1's F1 score: 0.9482\n",
      "[400]\ttraining's multi_logloss: 0.0175701\ttraining's F1 score: 0.999506\tvalid_1's multi_logloss: 0.162647\tvalid_1's F1 score: 0.948125\n",
      "[450]\ttraining's multi_logloss: 0.0163633\ttraining's F1 score: 0.999619\tvalid_1's multi_logloss: 0.162776\tvalid_1's F1 score: 0.948325\n",
      "Early stopping, best iteration is:\n",
      "[289]\ttraining's multi_logloss: 0.023883\ttraining's F1 score: 0.998888\tvalid_1's multi_logloss: 0.161402\tvalid_1's F1 score: 0.94885\n",
      "Training fold 4\n",
      "[50]\ttraining's multi_logloss: 0.146558\ttraining's F1 score: 0.957125\tvalid_1's multi_logloss: 0.203891\tvalid_1's F1 score: 0.936775\n",
      "[100]\ttraining's multi_logloss: 0.080723\ttraining's F1 score: 0.979731\tvalid_1's multi_logloss: 0.173951\tvalid_1's F1 score: 0.94385\n",
      "[150]\ttraining's multi_logloss: 0.0517958\ttraining's F1 score: 0.990931\tvalid_1's multi_logloss: 0.166996\tvalid_1's F1 score: 0.9458\n",
      "[200]\ttraining's multi_logloss: 0.0364097\ttraining's F1 score: 0.996094\tvalid_1's multi_logloss: 0.164613\tvalid_1's F1 score: 0.946875\n",
      "[250]\ttraining's multi_logloss: 0.0279874\ttraining's F1 score: 0.9981\tvalid_1's multi_logloss: 0.16374\tvalid_1's F1 score: 0.94725\n",
      "[300]\ttraining's multi_logloss: 0.0229942\ttraining's F1 score: 0.998969\tvalid_1's multi_logloss: 0.16346\tvalid_1's F1 score: 0.947625\n",
      "[350]\ttraining's multi_logloss: 0.0196489\ttraining's F1 score: 0.99935\tvalid_1's multi_logloss: 0.163561\tvalid_1's F1 score: 0.948025\n",
      "[400]\ttraining's multi_logloss: 0.017477\ttraining's F1 score: 0.999544\tvalid_1's multi_logloss: 0.163626\tvalid_1's F1 score: 0.94815\n",
      "[450]\ttraining's multi_logloss: 0.0163873\ttraining's F1 score: 0.999644\tvalid_1's multi_logloss: 0.163636\tvalid_1's F1 score: 0.948475\n",
      "Early stopping, best iteration is:\n",
      "[289]\ttraining's multi_logloss: 0.023883\ttraining's F1 score: 0.998888\tvalid_1's multi_logloss: 0.161402\tvalid_1's F1 score: 0.94885\n",
      "Training fold 5\n",
      "[50]\ttraining's multi_logloss: 0.147125\ttraining's F1 score: 0.957131\tvalid_1's multi_logloss: 0.204249\tvalid_1's F1 score: 0.93665\n",
      "[100]\ttraining's multi_logloss: 0.0807913\ttraining's F1 score: 0.9799\tvalid_1's multi_logloss: 0.17403\tvalid_1's F1 score: 0.94415\n",
      "[150]\ttraining's multi_logloss: 0.0517649\ttraining's F1 score: 0.990969\tvalid_1's multi_logloss: 0.167063\tvalid_1's F1 score: 0.9464\n",
      "[200]\ttraining's multi_logloss: 0.0363222\ttraining's F1 score: 0.996044\tvalid_1's multi_logloss: 0.164438\tvalid_1's F1 score: 0.947025\n",
      "[250]\ttraining's multi_logloss: 0.0279253\ttraining's F1 score: 0.998162\tvalid_1's multi_logloss: 0.163555\tvalid_1's F1 score: 0.947325\n",
      "[300]\ttraining's multi_logloss: 0.0228874\ttraining's F1 score: 0.998956\tvalid_1's multi_logloss: 0.163121\tvalid_1's F1 score: 0.9477\n",
      "[350]\ttraining's multi_logloss: 0.0195082\ttraining's F1 score: 0.999319\tvalid_1's multi_logloss: 0.163061\tvalid_1's F1 score: 0.947875\n",
      "[400]\ttraining's multi_logloss: 0.0174638\ttraining's F1 score: 0.999487\tvalid_1's multi_logloss: 0.163326\tvalid_1's F1 score: 0.948\n",
      "[450]\ttraining's multi_logloss: 0.0162536\ttraining's F1 score: 0.999606\tvalid_1's multi_logloss: 0.163466\tvalid_1's F1 score: 0.9482\n",
      "Early stopping, best iteration is:\n",
      "[289]\ttraining's multi_logloss: 0.023883\ttraining's F1 score: 0.998888\tvalid_1's multi_logloss: 0.161402\tvalid_1's F1 score: 0.94885\n"
     ]
    }
   ],
   "source": [
    "# ************3 step************\n",
    "\n",
    "# y_train_data = train_df['label'].values\n",
    "# kf = StratifiedKFold(n_splits=5, shuffle=True, random_state=666)\n",
    "\n",
    "\n",
    "# def my_gbm_loss(y_pred, y_true):\n",
    "#     # 自定义验证数据集评估函数\n",
    "#     reshape_y_pred = np.transpose(y_pred.reshape(14, -1))  # 这是一个14分类任务\n",
    "#     reshape_y_pred = np.argmax(reshape_y_pred, axis=1)\n",
    "#     f1 = f1_score(y_true.get_label(), reshape_y_pred, average='micro')\n",
    "#     return 'F1 score', f1, True\n",
    "\n",
    "\n",
    "# 回调函数\n",
    "# es_func = lgb.early_stopping(stopping_rounds=200)\n",
    "# le_func = lgb.log_evaluation(50)\n",
    "\n",
    "# lgb_params = {\"objective\": \"multiclass\",\n",
    "#               \"num_class\": 14,\n",
    "#               \"max_depth\": -1,\n",
    "#               \"bagging_fraction\": 0.7,\n",
    "#               \"verbosity\": -1,\n",
    "#               \"reg_alpha\": 5,\n",
    "#               \"reg_lambda\": 5,\n",
    "#               \"n_jobs\": 8,\n",
    "#               \"metric\": (\"multi_logloss\",)}\n",
    "\n",
    "# test_predictions, model_list = MyLightGBM(X_train_data=train_word_features_load.toarray(),\n",
    "#                                           y_train_data=y_train_data,\n",
    "#                                           X_test_data=test_word_features_load.toarray(),\n",
    "#                                           kfold=kf,\n",
    "#                                           params=lgb_params,\n",
    "#                                           feval=my_gbm_loss,\n",
    "#                                           callbacks=[es_func, le_func])"
   ]
  },
  {
   "cell_type": "code",
   "execution_count": 6,
   "metadata": {
    "pycharm": {
     "name": "#%%\n"
    }
   },
   "outputs": [
    {
     "data": {
      "text/plain": [
       "['../intermediate_save_data/test_predictions.pkl']"
      ]
     },
     "execution_count": 6,
     "metadata": {},
     "output_type": "execute_result"
    }
   ],
   "source": [
    "# ************4 step************\n",
    "\n",
    "# 保存预测结果\n",
    "# joblib.dump(test_predictions, '../intermediate_save_data/test_predictions_tfidf_lgb.pkl')"
   ]
  },
  {
   "cell_type": "code",
   "execution_count": 6,
   "metadata": {
    "pycharm": {
     "name": "#%%\n"
    }
   },
   "outputs": [
    {
     "data": {
      "text/plain": "       label\n0          1\n1          2\n2          8\n3          5\n4          0\n...      ...\n49995      0\n49996     13\n49997      1\n49998      3\n49999      1\n\n[50000 rows x 1 columns]",
      "text/html": "<div>\n<style scoped>\n    .dataframe tbody tr th:only-of-type {\n        vertical-align: middle;\n    }\n\n    .dataframe tbody tr th {\n        vertical-align: top;\n    }\n\n    .dataframe thead th {\n        text-align: right;\n    }\n</style>\n<table border=\"1\" class=\"dataframe\">\n  <thead>\n    <tr style=\"text-align: right;\">\n      <th></th>\n      <th>label</th>\n    </tr>\n  </thead>\n  <tbody>\n    <tr>\n      <th>0</th>\n      <td>1</td>\n    </tr>\n    <tr>\n      <th>1</th>\n      <td>2</td>\n    </tr>\n    <tr>\n      <th>2</th>\n      <td>8</td>\n    </tr>\n    <tr>\n      <th>3</th>\n      <td>5</td>\n    </tr>\n    <tr>\n      <th>4</th>\n      <td>0</td>\n    </tr>\n    <tr>\n      <th>...</th>\n      <td>...</td>\n    </tr>\n    <tr>\n      <th>49995</th>\n      <td>0</td>\n    </tr>\n    <tr>\n      <th>49996</th>\n      <td>13</td>\n    </tr>\n    <tr>\n      <th>49997</th>\n      <td>1</td>\n    </tr>\n    <tr>\n      <th>49998</th>\n      <td>3</td>\n    </tr>\n    <tr>\n      <th>49999</th>\n      <td>1</td>\n    </tr>\n  </tbody>\n</table>\n<p>50000 rows × 1 columns</p>\n</div>"
     },
     "execution_count": 6,
     "metadata": {},
     "output_type": "execute_result"
    }
   ],
   "source": [
    "test_predictions_load = joblib.load('../intermediate_save_data/test_predictions_tfidf_lgb.pkl')\n",
    "test_predictions_label = np.argmax(test_predictions_load, axis=1)\n",
    "test_predictions_label_df = pd.DataFrame(test_predictions_label, columns=['label'])\n",
    "test_predictions_label_df"
   ]
  },
  {
   "cell_type": "code",
   "execution_count": 9,
   "outputs": [],
   "source": [
    "# 最终成绩:0.9428\n",
    "test_predictions_label_df.to_csv('../intermediate_save_data/test_predictions_tfidf_lgb.csv', index=False)"
   ],
   "metadata": {
    "collapsed": false,
    "pycharm": {
     "name": "#%%\n"
    }
   }
  },
  {
   "cell_type": "code",
   "execution_count": null,
   "outputs": [],
   "source": [],
   "metadata": {
    "collapsed": false,
    "pycharm": {
     "name": "#%%\n"
    }
   }
  }
 ],
 "metadata": {
  "kernelspec": {
   "display_name": "Python 3",
   "language": "python",
   "name": "python3"
  },
  "language_info": {
   "codemirror_mode": {
    "name": "ipython",
    "version": 3
   },
   "file_extension": ".py",
   "mimetype": "text/x-python",
   "name": "python",
   "nbconvert_exporter": "python",
   "pygments_lexer": "ipython3",
   "version": "3.8.8"
  }
 },
 "nbformat": 4,
 "nbformat_minor": 1
}