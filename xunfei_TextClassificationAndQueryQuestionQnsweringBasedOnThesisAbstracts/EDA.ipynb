{
 "cells": [
  {
   "cell_type": "code",
   "execution_count": 255,
   "metadata": {
    "collapsed": true
   },
   "outputs": [],
   "source": [
    "import pandas as pd\n",
    "import matplotlib.pyplot as plt\n",
    "import seaborn as sns\n",
    "import numpy as np"
   ]
  },
  {
   "cell_type": "code",
   "execution_count": 256,
   "outputs": [
    {
     "data": {
      "text/plain": "                                                   Title  \\\n0      \\n  \\n    \\n    \\n    \\n    \\n      \\n  The Va...   \n1      \\n  \\n    \\n    \\n    \\n    \\n      \\n  Metfor...   \n2      \\n  \\n    \\n    \\n    \\n    \\n      \\n  New In...   \n3      \\n  \\n    \\n    \\n    \\n    \\n      \\n  Î±-Lin...   \n4      \\n  \\n    \\n    \\n    \\n    \\n      \\n  Perire...   \n...                                                  ...   \n16499  \\n  \\n    \\n    \\n    \\n    \\n      \\n  Racial...   \n16500  \\n  \\n    \\n    \\n    \\n    \\n      \\n  Modifi...   \n16501  \\n  \\n    \\n    \\n    \\n    \\n      \\n  Predic...   \n16502  \\n  \\n    \\n    \\n    \\n    \\n      \\n  Establ...   \n16503  \\n  \\n    \\n    \\n    \\n    \\n      \\n  Challe...   \n\n                                                 Authors  \\\n0      ['Seyhmus Tunc', 'Suleyman Cemil Oglak', 'Fatm...   \n1      ['Katrin Schmitz', 'Eva-Maria Turnwald', 'Tobi...   \n2      ['Jorge Valencia-Ortega', 'Rebeca GonzÃ¡lez-Re...   \n3      ['Victoria Aiassa', 'MarÃ­a Del Rosario Ferrei...   \n4      ['Ming Jiang', 'Menghuan Li', 'Cuiying Liu', '...   \n...                                                  ...   \n16499  ['Steven O Roberts', 'Carmelle Bareket-Shavit'...   \n16500  ['Anne Congard', 'Eva Andreotti', 'Bruno Dauvi...   \n16501  ['Ursula C Hildebrandt', 'J Christopher Graham...   \n16502  ['Leslie K Wang', 'Sylvie H M Wong', 'Stephen ...   \n16503  ['Javier GÃ¼eita-Rodriguez', 'Pilar Famoso-PÃ©...   \n\n                        Citation  \\\n0        2022 Jun;32(6):722-727.   \n1       2022 May 30;14(11):2288.   \n2        2022 Jun 3;23(11):6279.   \n3           2022 Jun;156:111164.   \n4          2022 May 6;13:865009.   \n...                          ...   \n16499  2020 Nov;15(6):1295-1309.   \n16500    2020 Nov;12(3):770-786.   \n16501    2020 Sep;41(5):677-696.   \n16502  2020 Aug 1;71(8):868-871.   \n16503   2020 Jun 21;17(12):4466.   \n\n                                                Abstract  \\\n0      \\n\\n\\n          Objective:\\n        \\n      \\n...   \n1      \\n\\n      \\n      With the gaining prevalence ...   \n2      \\n\\n      \\n      Gestational diabetes mellitu...   \n3      \\n\\n      \\n      Given obesity and its associ...   \n4      \\n\\n\\n          Background:\\n        \\n      \\...   \n...                                                  ...   \n16499  \\n\\n      \\n      Race plays an important role...   \n16500  \\n\\n      \\n      Enhancing positive affect (P...   \n16501  \\n\\n      \\n      Mothers with substance use d...   \n16502  \\n\\n      \\n      Children who experience tran...   \n16503  \\n\\n      \\n      Rare diseases face serious s...   \n\n                                                     DOI   Topic(Label)  \n0      \\n        doi: 10.29271/jcpsp.2022.06.722.\\n  ...  Abdominal+Fat  \n1             \\n        doi: 10.3390/nu14112288.\\n        Abdominal+Fat  \n2           \\n        doi: 10.3390/ijms23116279.\\n        Abdominal+Fat  \n3      \\n        doi: 10.1016/j.foodres.2022.111164.\\...  Abdominal+Fat  \n4      \\n        doi: 10.3389/fendo.2022.865009.\\n        Abdominal+Fat  \n...                                                  ...            ...  \n16499   \\n        doi: 10.1177/1745691620927709.\\n           psychology  \n16500         \\n        doi: 10.1111/aphw.12206.\\n           psychology  \n16501         \\n        doi: 10.1002/imhj.21872.\\n           psychology  \n16502  \\n        doi: 10.1176/appi.ps.201900624.\\n           psychology  \n16503     \\n        doi: 10.3390/ijerph17124466.\\n           psychology  \n\n[16504 rows x 6 columns]",
      "text/html": "<div>\n<style scoped>\n    .dataframe tbody tr th:only-of-type {\n        vertical-align: middle;\n    }\n\n    .dataframe tbody tr th {\n        vertical-align: top;\n    }\n\n    .dataframe thead th {\n        text-align: right;\n    }\n</style>\n<table border=\"1\" class=\"dataframe\">\n  <thead>\n    <tr style=\"text-align: right;\">\n      <th></th>\n      <th>Title</th>\n      <th>Authors</th>\n      <th>Citation</th>\n      <th>Abstract</th>\n      <th>DOI</th>\n      <th>Topic(Label)</th>\n    </tr>\n  </thead>\n  <tbody>\n    <tr>\n      <th>0</th>\n      <td>\\n  \\n    \\n    \\n    \\n    \\n      \\n  The Va...</td>\n      <td>['Seyhmus Tunc', 'Suleyman Cemil Oglak', 'Fatm...</td>\n      <td>2022 Jun;32(6):722-727.</td>\n      <td>\\n\\n\\n          Objective:\\n        \\n      \\n...</td>\n      <td>\\n        doi: 10.29271/jcpsp.2022.06.722.\\n  ...</td>\n      <td>Abdominal+Fat</td>\n    </tr>\n    <tr>\n      <th>1</th>\n      <td>\\n  \\n    \\n    \\n    \\n    \\n      \\n  Metfor...</td>\n      <td>['Katrin Schmitz', 'Eva-Maria Turnwald', 'Tobi...</td>\n      <td>2022 May 30;14(11):2288.</td>\n      <td>\\n\\n      \\n      With the gaining prevalence ...</td>\n      <td>\\n        doi: 10.3390/nu14112288.\\n</td>\n      <td>Abdominal+Fat</td>\n    </tr>\n    <tr>\n      <th>2</th>\n      <td>\\n  \\n    \\n    \\n    \\n    \\n      \\n  New In...</td>\n      <td>['Jorge Valencia-Ortega', 'Rebeca GonzÃ¡lez-Re...</td>\n      <td>2022 Jun 3;23(11):6279.</td>\n      <td>\\n\\n      \\n      Gestational diabetes mellitu...</td>\n      <td>\\n        doi: 10.3390/ijms23116279.\\n</td>\n      <td>Abdominal+Fat</td>\n    </tr>\n    <tr>\n      <th>3</th>\n      <td>\\n  \\n    \\n    \\n    \\n    \\n      \\n  Î±-Lin...</td>\n      <td>['Victoria Aiassa', 'MarÃ­a Del Rosario Ferrei...</td>\n      <td>2022 Jun;156:111164.</td>\n      <td>\\n\\n      \\n      Given obesity and its associ...</td>\n      <td>\\n        doi: 10.1016/j.foodres.2022.111164.\\...</td>\n      <td>Abdominal+Fat</td>\n    </tr>\n    <tr>\n      <th>4</th>\n      <td>\\n  \\n    \\n    \\n    \\n    \\n      \\n  Perire...</td>\n      <td>['Ming Jiang', 'Menghuan Li', 'Cuiying Liu', '...</td>\n      <td>2022 May 6;13:865009.</td>\n      <td>\\n\\n\\n          Background:\\n        \\n      \\...</td>\n      <td>\\n        doi: 10.3389/fendo.2022.865009.\\n</td>\n      <td>Abdominal+Fat</td>\n    </tr>\n    <tr>\n      <th>...</th>\n      <td>...</td>\n      <td>...</td>\n      <td>...</td>\n      <td>...</td>\n      <td>...</td>\n      <td>...</td>\n    </tr>\n    <tr>\n      <th>16499</th>\n      <td>\\n  \\n    \\n    \\n    \\n    \\n      \\n  Racial...</td>\n      <td>['Steven O Roberts', 'Carmelle Bareket-Shavit'...</td>\n      <td>2020 Nov;15(6):1295-1309.</td>\n      <td>\\n\\n      \\n      Race plays an important role...</td>\n      <td>\\n        doi: 10.1177/1745691620927709.\\n</td>\n      <td>psychology</td>\n    </tr>\n    <tr>\n      <th>16500</th>\n      <td>\\n  \\n    \\n    \\n    \\n    \\n      \\n  Modifi...</td>\n      <td>['Anne Congard', 'Eva Andreotti', 'Bruno Dauvi...</td>\n      <td>2020 Nov;12(3):770-786.</td>\n      <td>\\n\\n      \\n      Enhancing positive affect (P...</td>\n      <td>\\n        doi: 10.1111/aphw.12206.\\n</td>\n      <td>psychology</td>\n    </tr>\n    <tr>\n      <th>16501</th>\n      <td>\\n  \\n    \\n    \\n    \\n    \\n      \\n  Predic...</td>\n      <td>['Ursula C Hildebrandt', 'J Christopher Graham...</td>\n      <td>2020 Sep;41(5):677-696.</td>\n      <td>\\n\\n      \\n      Mothers with substance use d...</td>\n      <td>\\n        doi: 10.1002/imhj.21872.\\n</td>\n      <td>psychology</td>\n    </tr>\n    <tr>\n      <th>16502</th>\n      <td>\\n  \\n    \\n    \\n    \\n    \\n      \\n  Establ...</td>\n      <td>['Leslie K Wang', 'Sylvie H M Wong', 'Stephen ...</td>\n      <td>2020 Aug 1;71(8):868-871.</td>\n      <td>\\n\\n      \\n      Children who experience tran...</td>\n      <td>\\n        doi: 10.1176/appi.ps.201900624.\\n</td>\n      <td>psychology</td>\n    </tr>\n    <tr>\n      <th>16503</th>\n      <td>\\n  \\n    \\n    \\n    \\n    \\n      \\n  Challe...</td>\n      <td>['Javier GÃ¼eita-Rodriguez', 'Pilar Famoso-PÃ©...</td>\n      <td>2020 Jun 21;17(12):4466.</td>\n      <td>\\n\\n      \\n      Rare diseases face serious s...</td>\n      <td>\\n        doi: 10.3390/ijerph17124466.\\n</td>\n      <td>psychology</td>\n    </tr>\n  </tbody>\n</table>\n<p>16504 rows × 6 columns</p>\n</div>"
     },
     "execution_count": 256,
     "metadata": {},
     "output_type": "execute_result"
    }
   ],
   "source": [
    "train_df = pd.read_csv('datasets/train.csv', sep=',')\n",
    "train_df"
   ],
   "metadata": {
    "collapsed": false,
    "pycharm": {
     "name": "#%%\n"
    }
   }
  },
  {
   "cell_type": "code",
   "execution_count": 257,
   "outputs": [
    {
     "name": "stdout",
     "output_type": "stream",
     "text": [
      "<class 'pandas.core.frame.DataFrame'>\n",
      "RangeIndex: 16504 entries, 0 to 16503\n",
      "Data columns (total 6 columns):\n",
      " #   Column        Non-Null Count  Dtype \n",
      "---  ------        --------------  ----- \n",
      " 0   Title         16504 non-null  object\n",
      " 1   Authors       16501 non-null  object\n",
      " 2   Citation      16500 non-null  object\n",
      " 3   Abstract      16500 non-null  object\n",
      " 4   DOI           16500 non-null  object\n",
      " 5   Topic(Label)  16500 non-null  object\n",
      "dtypes: object(6)\n",
      "memory usage: 773.8+ KB\n"
     ]
    }
   ],
   "source": [
    "# 存在缺失值\n",
    "train_df.info()"
   ],
   "metadata": {
    "collapsed": false,
    "pycharm": {
     "name": "#%%\n"
    }
   }
  },
  {
   "cell_type": "code",
   "execution_count": 258,
   "outputs": [
    {
     "data": {
      "text/plain": "                                         Title    Authors Citation Abstract  \\\n4235                                                  NaN      NaN      NaN   \n4236                                         ,        NaN      NaN      NaN   \n4237          doi: 10.11646/zootaxa.4974.1.10.        NaN      NaN      NaN   \n4238                                         \"  Culicidae      NaN      NaN   \n\n      DOI Topic(Label)  \n4235  NaN          NaN  \n4236  NaN          NaN  \n4237  NaN          NaN  \n4238  NaN          NaN  ",
      "text/html": "<div>\n<style scoped>\n    .dataframe tbody tr th:only-of-type {\n        vertical-align: middle;\n    }\n\n    .dataframe tbody tr th {\n        vertical-align: top;\n    }\n\n    .dataframe thead th {\n        text-align: right;\n    }\n</style>\n<table border=\"1\" class=\"dataframe\">\n  <thead>\n    <tr style=\"text-align: right;\">\n      <th></th>\n      <th>Title</th>\n      <th>Authors</th>\n      <th>Citation</th>\n      <th>Abstract</th>\n      <th>DOI</th>\n      <th>Topic(Label)</th>\n    </tr>\n  </thead>\n  <tbody>\n    <tr>\n      <th>4235</th>\n      <td></td>\n      <td>NaN</td>\n      <td>NaN</td>\n      <td>NaN</td>\n      <td>NaN</td>\n      <td>NaN</td>\n    </tr>\n    <tr>\n      <th>4236</th>\n      <td>,</td>\n      <td>NaN</td>\n      <td>NaN</td>\n      <td>NaN</td>\n      <td>NaN</td>\n      <td>NaN</td>\n    </tr>\n    <tr>\n      <th>4237</th>\n      <td>doi: 10.11646/zootaxa.4974.1.10.</td>\n      <td>NaN</td>\n      <td>NaN</td>\n      <td>NaN</td>\n      <td>NaN</td>\n      <td>NaN</td>\n    </tr>\n    <tr>\n      <th>4238</th>\n      <td>\"</td>\n      <td>Culicidae</td>\n      <td>NaN</td>\n      <td>NaN</td>\n      <td>NaN</td>\n      <td>NaN</td>\n    </tr>\n  </tbody>\n</table>\n</div>"
     },
     "execution_count": 258,
     "metadata": {},
     "output_type": "execute_result"
    }
   ],
   "source": [
    "train_df[train_df['DOI'].isna()]"
   ],
   "metadata": {
    "collapsed": false,
    "pycharm": {
     "name": "#%%\n"
    }
   }
  },
  {
   "cell_type": "code",
   "execution_count": 259,
   "outputs": [
    {
     "data": {
      "text/plain": "                                                   Title  \\\n0      \\n  \\n    \\n    \\n    \\n    \\n      \\n  The Va...   \n1      \\n  \\n    \\n    \\n    \\n    \\n      \\n  Metfor...   \n2      \\n  \\n    \\n    \\n    \\n    \\n      \\n  New In...   \n3      \\n  \\n    \\n    \\n    \\n    \\n      \\n  Î±-Lin...   \n4      \\n  \\n    \\n    \\n    \\n    \\n      \\n  Perire...   \n...                                                  ...   \n16499  \\n  \\n    \\n    \\n    \\n    \\n      \\n  Racial...   \n16500  \\n  \\n    \\n    \\n    \\n    \\n      \\n  Modifi...   \n16501  \\n  \\n    \\n    \\n    \\n    \\n      \\n  Predic...   \n16502  \\n  \\n    \\n    \\n    \\n    \\n      \\n  Establ...   \n16503  \\n  \\n    \\n    \\n    \\n    \\n      \\n  Challe...   \n\n                                                 Authors  \\\n0      ['Seyhmus Tunc', 'Suleyman Cemil Oglak', 'Fatm...   \n1      ['Katrin Schmitz', 'Eva-Maria Turnwald', 'Tobi...   \n2      ['Jorge Valencia-Ortega', 'Rebeca GonzÃ¡lez-Re...   \n3      ['Victoria Aiassa', 'MarÃ­a Del Rosario Ferrei...   \n4      ['Ming Jiang', 'Menghuan Li', 'Cuiying Liu', '...   \n...                                                  ...   \n16499  ['Steven O Roberts', 'Carmelle Bareket-Shavit'...   \n16500  ['Anne Congard', 'Eva Andreotti', 'Bruno Dauvi...   \n16501  ['Ursula C Hildebrandt', 'J Christopher Graham...   \n16502  ['Leslie K Wang', 'Sylvie H M Wong', 'Stephen ...   \n16503  ['Javier GÃ¼eita-Rodriguez', 'Pilar Famoso-PÃ©...   \n\n                        Citation  \\\n0        2022 Jun;32(6):722-727.   \n1       2022 May 30;14(11):2288.   \n2        2022 Jun 3;23(11):6279.   \n3           2022 Jun;156:111164.   \n4          2022 May 6;13:865009.   \n...                          ...   \n16499  2020 Nov;15(6):1295-1309.   \n16500    2020 Nov;12(3):770-786.   \n16501    2020 Sep;41(5):677-696.   \n16502  2020 Aug 1;71(8):868-871.   \n16503   2020 Jun 21;17(12):4466.   \n\n                                                Abstract  \\\n0      \\n\\n\\n          Objective:\\n        \\n      \\n...   \n1      \\n\\n      \\n      With the gaining prevalence ...   \n2      \\n\\n      \\n      Gestational diabetes mellitu...   \n3      \\n\\n      \\n      Given obesity and its associ...   \n4      \\n\\n\\n          Background:\\n        \\n      \\...   \n...                                                  ...   \n16499  \\n\\n      \\n      Race plays an important role...   \n16500  \\n\\n      \\n      Enhancing positive affect (P...   \n16501  \\n\\n      \\n      Mothers with substance use d...   \n16502  \\n\\n      \\n      Children who experience tran...   \n16503  \\n\\n      \\n      Rare diseases face serious s...   \n\n                                                     DOI   Topic(Label)  \n0      \\n        doi: 10.29271/jcpsp.2022.06.722.\\n  ...  Abdominal+Fat  \n1             \\n        doi: 10.3390/nu14112288.\\n        Abdominal+Fat  \n2           \\n        doi: 10.3390/ijms23116279.\\n        Abdominal+Fat  \n3      \\n        doi: 10.1016/j.foodres.2022.111164.\\...  Abdominal+Fat  \n4      \\n        doi: 10.3389/fendo.2022.865009.\\n        Abdominal+Fat  \n...                                                  ...            ...  \n16499   \\n        doi: 10.1177/1745691620927709.\\n           psychology  \n16500         \\n        doi: 10.1111/aphw.12206.\\n           psychology  \n16501         \\n        doi: 10.1002/imhj.21872.\\n           psychology  \n16502  \\n        doi: 10.1176/appi.ps.201900624.\\n           psychology  \n16503     \\n        doi: 10.3390/ijerph17124466.\\n           psychology  \n\n[16500 rows x 6 columns]",
      "text/html": "<div>\n<style scoped>\n    .dataframe tbody tr th:only-of-type {\n        vertical-align: middle;\n    }\n\n    .dataframe tbody tr th {\n        vertical-align: top;\n    }\n\n    .dataframe thead th {\n        text-align: right;\n    }\n</style>\n<table border=\"1\" class=\"dataframe\">\n  <thead>\n    <tr style=\"text-align: right;\">\n      <th></th>\n      <th>Title</th>\n      <th>Authors</th>\n      <th>Citation</th>\n      <th>Abstract</th>\n      <th>DOI</th>\n      <th>Topic(Label)</th>\n    </tr>\n  </thead>\n  <tbody>\n    <tr>\n      <th>0</th>\n      <td>\\n  \\n    \\n    \\n    \\n    \\n      \\n  The Va...</td>\n      <td>['Seyhmus Tunc', 'Suleyman Cemil Oglak', 'Fatm...</td>\n      <td>2022 Jun;32(6):722-727.</td>\n      <td>\\n\\n\\n          Objective:\\n        \\n      \\n...</td>\n      <td>\\n        doi: 10.29271/jcpsp.2022.06.722.\\n  ...</td>\n      <td>Abdominal+Fat</td>\n    </tr>\n    <tr>\n      <th>1</th>\n      <td>\\n  \\n    \\n    \\n    \\n    \\n      \\n  Metfor...</td>\n      <td>['Katrin Schmitz', 'Eva-Maria Turnwald', 'Tobi...</td>\n      <td>2022 May 30;14(11):2288.</td>\n      <td>\\n\\n      \\n      With the gaining prevalence ...</td>\n      <td>\\n        doi: 10.3390/nu14112288.\\n</td>\n      <td>Abdominal+Fat</td>\n    </tr>\n    <tr>\n      <th>2</th>\n      <td>\\n  \\n    \\n    \\n    \\n    \\n      \\n  New In...</td>\n      <td>['Jorge Valencia-Ortega', 'Rebeca GonzÃ¡lez-Re...</td>\n      <td>2022 Jun 3;23(11):6279.</td>\n      <td>\\n\\n      \\n      Gestational diabetes mellitu...</td>\n      <td>\\n        doi: 10.3390/ijms23116279.\\n</td>\n      <td>Abdominal+Fat</td>\n    </tr>\n    <tr>\n      <th>3</th>\n      <td>\\n  \\n    \\n    \\n    \\n    \\n      \\n  Î±-Lin...</td>\n      <td>['Victoria Aiassa', 'MarÃ­a Del Rosario Ferrei...</td>\n      <td>2022 Jun;156:111164.</td>\n      <td>\\n\\n      \\n      Given obesity and its associ...</td>\n      <td>\\n        doi: 10.1016/j.foodres.2022.111164.\\...</td>\n      <td>Abdominal+Fat</td>\n    </tr>\n    <tr>\n      <th>4</th>\n      <td>\\n  \\n    \\n    \\n    \\n    \\n      \\n  Perire...</td>\n      <td>['Ming Jiang', 'Menghuan Li', 'Cuiying Liu', '...</td>\n      <td>2022 May 6;13:865009.</td>\n      <td>\\n\\n\\n          Background:\\n        \\n      \\...</td>\n      <td>\\n        doi: 10.3389/fendo.2022.865009.\\n</td>\n      <td>Abdominal+Fat</td>\n    </tr>\n    <tr>\n      <th>...</th>\n      <td>...</td>\n      <td>...</td>\n      <td>...</td>\n      <td>...</td>\n      <td>...</td>\n      <td>...</td>\n    </tr>\n    <tr>\n      <th>16499</th>\n      <td>\\n  \\n    \\n    \\n    \\n    \\n      \\n  Racial...</td>\n      <td>['Steven O Roberts', 'Carmelle Bareket-Shavit'...</td>\n      <td>2020 Nov;15(6):1295-1309.</td>\n      <td>\\n\\n      \\n      Race plays an important role...</td>\n      <td>\\n        doi: 10.1177/1745691620927709.\\n</td>\n      <td>psychology</td>\n    </tr>\n    <tr>\n      <th>16500</th>\n      <td>\\n  \\n    \\n    \\n    \\n    \\n      \\n  Modifi...</td>\n      <td>['Anne Congard', 'Eva Andreotti', 'Bruno Dauvi...</td>\n      <td>2020 Nov;12(3):770-786.</td>\n      <td>\\n\\n      \\n      Enhancing positive affect (P...</td>\n      <td>\\n        doi: 10.1111/aphw.12206.\\n</td>\n      <td>psychology</td>\n    </tr>\n    <tr>\n      <th>16501</th>\n      <td>\\n  \\n    \\n    \\n    \\n    \\n      \\n  Predic...</td>\n      <td>['Ursula C Hildebrandt', 'J Christopher Graham...</td>\n      <td>2020 Sep;41(5):677-696.</td>\n      <td>\\n\\n      \\n      Mothers with substance use d...</td>\n      <td>\\n        doi: 10.1002/imhj.21872.\\n</td>\n      <td>psychology</td>\n    </tr>\n    <tr>\n      <th>16502</th>\n      <td>\\n  \\n    \\n    \\n    \\n    \\n      \\n  Establ...</td>\n      <td>['Leslie K Wang', 'Sylvie H M Wong', 'Stephen ...</td>\n      <td>2020 Aug 1;71(8):868-871.</td>\n      <td>\\n\\n      \\n      Children who experience tran...</td>\n      <td>\\n        doi: 10.1176/appi.ps.201900624.\\n</td>\n      <td>psychology</td>\n    </tr>\n    <tr>\n      <th>16503</th>\n      <td>\\n  \\n    \\n    \\n    \\n    \\n      \\n  Challe...</td>\n      <td>['Javier GÃ¼eita-Rodriguez', 'Pilar Famoso-PÃ©...</td>\n      <td>2020 Jun 21;17(12):4466.</td>\n      <td>\\n\\n      \\n      Rare diseases face serious s...</td>\n      <td>\\n        doi: 10.3390/ijerph17124466.\\n</td>\n      <td>psychology</td>\n    </tr>\n  </tbody>\n</table>\n<p>16500 rows × 6 columns</p>\n</div>"
     },
     "execution_count": 259,
     "metadata": {},
     "output_type": "execute_result"
    }
   ],
   "source": [
    "train_df = train_df.dropna()\n",
    "train_df"
   ],
   "metadata": {
    "collapsed": false,
    "pycharm": {
     "name": "#%%\n"
    }
   }
  },
  {
   "cell_type": "code",
   "execution_count": 260,
   "outputs": [
    {
     "data": {
      "text/plain": "                                                  Title  \\\n0     \\n  \\n    \\n    \\n    \\n    \\n      \\n  Gut mi...   \n1     \\n  \\n    \\n    \\n    \\n    \\n      \\n  [A spa...   \n2     \\n  \\n    \\n    \\n    \\n    \\n      \\n  A muci...   \n3     \\n  \\n    \\n    \\n    \\n    \\n      \\n  Progre...   \n4     \\n  \\n    \\n    \\n    \\n    \\n      \\n  Microb...   \n...                                                 ...   \n2081  \\n  \\n    \\n    \\n    \\n    \\n      \\n  miRNA-...   \n2082  \\n  \\n    \\n    \\n    \\n    \\n      \\n  Intera...   \n2083  \\n  \\n    \\n    \\n    \\n    \\n      \\n  Hydrol...   \n2084  \\n  \\n    \\n    \\n    \\n    \\n      \\n  Diagno...   \n2085  \\n  \\n    \\n    \\n    \\n    \\n      \\n  Overwe...   \n\n                                                Authors  \\\n0     ['Xiaomin Su', 'Minying Zhang', 'Houbao Qi', '...   \n1     ['Naigong Yu', 'Yishen Liao', 'Naigong Yu', 'Y...   \n2     ['Ju-Hyung Lee', 'Soo-Jeong Kwon', 'Ji-Yoon Ha...   \n3     ['Michal Å tros', 'Eva VolfovÃ¡ PolanskÃ¡', 'T...   \n4     ['Jing Ouyang', 'Silvere D Zaongo', 'Xue Zhang...   \n...                                                 ...   \n2081  ['Jaqueline Poleto Bragato', 'Gabriela Torres ...   \n2082  ['Wonsuk Choi', 'Ju-Wan Kim', 'Hee-Ju Kang', '...   \n2083  ['Ornchuma Naksuriya', 'Krai Daowtak', 'Singko...   \n2084  ['Hyun-Hwa Cha', 'Won Ki Lee', 'Sujeong Kim', ...   \n2085  ['Lu Ma', 'Liwang Gao', 'Dorothy T Chiu', 'Yix...   \n\n                         Citation  \\\n0           2022 Jan 24;10(1):13.   \n1      2022 Apr 25;39(2):217-227.   \n2         2022 Feb;60(2):215-223.   \n3           2022 Apr 5;12(4):544.   \n4           2022 Jan 6;12:755890.   \n...                           ...   \n2081  2022 Mar 24;17(3):e0265192.   \n2082      2022 Apr 22;12(1):6602.   \n2083     2022 May 18;27(10):3226.   \n2084  2022 Mar 11;101(10):e29025.   \n2085    2020 Jul;28(7):1301-1309.   \n\n                                               Abstract  \\\n0     \\n\\n\\n          Background:\\n        \\n      \\...   \n1     \\n\\n      \\n      Physiological studies reveal...   \n2     \\n\\n      \\n      The mammalian intestinal tra...   \n3     \\n\\n      \\n      Extracellular HMGB1 protein ...   \n4     \\n\\n      \\n      Hepatitis B virus (HBV) co-i...   \n...                                                 ...   \n2081  \\n\\n      \\n      Visceral leishmaniasis in hu...   \n2082  \\n\\n      \\n      Acute coronary syndrome (ACS...   \n2083  \\n\\nCyrtosperma johnstonii is one of the most ...   \n2084  \\n\\n      \\n      We aimed to determine the up...   \n2085  \\n\\n\\n          Objective:\\n        \\n      \\n...   \n\n                                                    DOI  \n0     \\n        doi: 10.1186/s40168-021-01205-8.\\n  ...  \n1     \\n        doi: 10.7507/1001-5515.202109051.\\n ...  \n2     \\n        doi: 10.1007/s12275-022-1649-3.\\n        \n3          \\n        doi: 10.3390/biom12040544.\\n        \n4     \\n        doi: 10.3389/fimmu.2021.755890.\\n        \n...                                                 ...  \n2081  \\n        doi: 10.1371/journal.pone.0265192.\\n...  \n2082  \\n        doi: 10.1038/s41598-022-10557-6.\\n  ...  \n2083  \\n        doi: 10.3390/molecules27103226.\\n        \n2084  \\n        doi: 10.1097/MD.0000000000029025.\\n ...  \n2085          \\n        doi: 10.1002/oby.22801.\\n        \n\n[2086 rows x 5 columns]",
      "text/html": "<div>\n<style scoped>\n    .dataframe tbody tr th:only-of-type {\n        vertical-align: middle;\n    }\n\n    .dataframe tbody tr th {\n        vertical-align: top;\n    }\n\n    .dataframe thead th {\n        text-align: right;\n    }\n</style>\n<table border=\"1\" class=\"dataframe\">\n  <thead>\n    <tr style=\"text-align: right;\">\n      <th></th>\n      <th>Title</th>\n      <th>Authors</th>\n      <th>Citation</th>\n      <th>Abstract</th>\n      <th>DOI</th>\n    </tr>\n  </thead>\n  <tbody>\n    <tr>\n      <th>0</th>\n      <td>\\n  \\n    \\n    \\n    \\n    \\n      \\n  Gut mi...</td>\n      <td>['Xiaomin Su', 'Minying Zhang', 'Houbao Qi', '...</td>\n      <td>2022 Jan 24;10(1):13.</td>\n      <td>\\n\\n\\n          Background:\\n        \\n      \\...</td>\n      <td>\\n        doi: 10.1186/s40168-021-01205-8.\\n  ...</td>\n    </tr>\n    <tr>\n      <th>1</th>\n      <td>\\n  \\n    \\n    \\n    \\n    \\n      \\n  [A spa...</td>\n      <td>['Naigong Yu', 'Yishen Liao', 'Naigong Yu', 'Y...</td>\n      <td>2022 Apr 25;39(2):217-227.</td>\n      <td>\\n\\n      \\n      Physiological studies reveal...</td>\n      <td>\\n        doi: 10.7507/1001-5515.202109051.\\n ...</td>\n    </tr>\n    <tr>\n      <th>2</th>\n      <td>\\n  \\n    \\n    \\n    \\n    \\n      \\n  A muci...</td>\n      <td>['Ju-Hyung Lee', 'Soo-Jeong Kwon', 'Ji-Yoon Ha...</td>\n      <td>2022 Feb;60(2):215-223.</td>\n      <td>\\n\\n      \\n      The mammalian intestinal tra...</td>\n      <td>\\n        doi: 10.1007/s12275-022-1649-3.\\n</td>\n    </tr>\n    <tr>\n      <th>3</th>\n      <td>\\n  \\n    \\n    \\n    \\n    \\n      \\n  Progre...</td>\n      <td>['Michal Å tros', 'Eva VolfovÃ¡ PolanskÃ¡', 'T...</td>\n      <td>2022 Apr 5;12(4):544.</td>\n      <td>\\n\\n      \\n      Extracellular HMGB1 protein ...</td>\n      <td>\\n        doi: 10.3390/biom12040544.\\n</td>\n    </tr>\n    <tr>\n      <th>4</th>\n      <td>\\n  \\n    \\n    \\n    \\n    \\n      \\n  Microb...</td>\n      <td>['Jing Ouyang', 'Silvere D Zaongo', 'Xue Zhang...</td>\n      <td>2022 Jan 6;12:755890.</td>\n      <td>\\n\\n      \\n      Hepatitis B virus (HBV) co-i...</td>\n      <td>\\n        doi: 10.3389/fimmu.2021.755890.\\n</td>\n    </tr>\n    <tr>\n      <th>...</th>\n      <td>...</td>\n      <td>...</td>\n      <td>...</td>\n      <td>...</td>\n      <td>...</td>\n    </tr>\n    <tr>\n      <th>2081</th>\n      <td>\\n  \\n    \\n    \\n    \\n    \\n      \\n  miRNA-...</td>\n      <td>['Jaqueline Poleto Bragato', 'Gabriela Torres ...</td>\n      <td>2022 Mar 24;17(3):e0265192.</td>\n      <td>\\n\\n      \\n      Visceral leishmaniasis in hu...</td>\n      <td>\\n        doi: 10.1371/journal.pone.0265192.\\n...</td>\n    </tr>\n    <tr>\n      <th>2082</th>\n      <td>\\n  \\n    \\n    \\n    \\n    \\n      \\n  Intera...</td>\n      <td>['Wonsuk Choi', 'Ju-Wan Kim', 'Hee-Ju Kang', '...</td>\n      <td>2022 Apr 22;12(1):6602.</td>\n      <td>\\n\\n      \\n      Acute coronary syndrome (ACS...</td>\n      <td>\\n        doi: 10.1038/s41598-022-10557-6.\\n  ...</td>\n    </tr>\n    <tr>\n      <th>2083</th>\n      <td>\\n  \\n    \\n    \\n    \\n    \\n      \\n  Hydrol...</td>\n      <td>['Ornchuma Naksuriya', 'Krai Daowtak', 'Singko...</td>\n      <td>2022 May 18;27(10):3226.</td>\n      <td>\\n\\nCyrtosperma johnstonii is one of the most ...</td>\n      <td>\\n        doi: 10.3390/molecules27103226.\\n</td>\n    </tr>\n    <tr>\n      <th>2084</th>\n      <td>\\n  \\n    \\n    \\n    \\n    \\n      \\n  Diagno...</td>\n      <td>['Hyun-Hwa Cha', 'Won Ki Lee', 'Sujeong Kim', ...</td>\n      <td>2022 Mar 11;101(10):e29025.</td>\n      <td>\\n\\n      \\n      We aimed to determine the up...</td>\n      <td>\\n        doi: 10.1097/MD.0000000000029025.\\n ...</td>\n    </tr>\n    <tr>\n      <th>2085</th>\n      <td>\\n  \\n    \\n    \\n    \\n    \\n      \\n  Overwe...</td>\n      <td>['Lu Ma', 'Liwang Gao', 'Dorothy T Chiu', 'Yix...</td>\n      <td>2020 Jul;28(7):1301-1309.</td>\n      <td>\\n\\n\\n          Objective:\\n        \\n      \\n...</td>\n      <td>\\n        doi: 10.1002/oby.22801.\\n</td>\n    </tr>\n  </tbody>\n</table>\n<p>2086 rows × 5 columns</p>\n</div>"
     },
     "execution_count": 260,
     "metadata": {},
     "output_type": "execute_result"
    }
   ],
   "source": [
    "test_df = pd.read_csv('datasets/test.csv', sep=',')\n",
    "test_df"
   ],
   "metadata": {
    "collapsed": false,
    "pycharm": {
     "name": "#%%\n"
    }
   }
  },
  {
   "cell_type": "code",
   "execution_count": 261,
   "outputs": [
    {
     "name": "stdout",
     "output_type": "stream",
     "text": [
      "<class 'pandas.core.frame.DataFrame'>\n",
      "RangeIndex: 2086 entries, 0 to 2085\n",
      "Data columns (total 5 columns):\n",
      " #   Column    Non-Null Count  Dtype \n",
      "---  ------    --------------  ----- \n",
      " 0   Title     2086 non-null   object\n",
      " 1   Authors   2086 non-null   object\n",
      " 2   Citation  2086 non-null   object\n",
      " 3   Abstract  2086 non-null   object\n",
      " 4   DOI       2086 non-null   object\n",
      "dtypes: object(5)\n",
      "memory usage: 81.6+ KB\n"
     ]
    }
   ],
   "source": [
    "# 均无缺失值\n",
    "test_df.info()"
   ],
   "metadata": {
    "collapsed": false,
    "pycharm": {
     "name": "#%%\n"
    }
   }
  },
  {
   "cell_type": "code",
   "execution_count": 262,
   "outputs": [
    {
     "data": {
      "text/plain": "0    The Value of First-trimester Maternal Abdomina...\n1    Metformin Prevents Key Mechanisms of Obesity-R...\n2    New Insights into Adipokines in Gestational Di...\n3    Î±-Linolenic acid rich-chia seed modulates vis...\n4    Perirenal Fat Volume Is Positively Associated ...\n5    Can visceral adipose tissue and skeletal muscl...\n6    Equations for predicting DXA-measured visceral...\n7    Visceral Adiposity Index: A Simple Tool For As...\n8    Altered Visceral Adipose Tissue Predictors and...\n9    Visceral adiposity index and sex differences i...\nName: Title, dtype: object"
     },
     "execution_count": 262,
     "metadata": {},
     "output_type": "execute_result"
    }
   ],
   "source": [
    "train_df['Title'][:10].str.strip()"
   ],
   "metadata": {
    "collapsed": false,
    "pycharm": {
     "name": "#%%\n"
    }
   }
  },
  {
   "cell_type": "code",
   "execution_count": 263,
   "outputs": [
    {
     "data": {
      "text/plain": "0    ['Seyhmus Tunc', 'Suleyman Cemil Oglak', 'Fatm...\n1    ['Katrin Schmitz', 'Eva-Maria Turnwald', 'Tobi...\n2    ['Jorge Valencia-Ortega', 'Rebeca GonzÃ¡lez-Re...\n3    ['Victoria Aiassa', 'MarÃ­a Del Rosario Ferrei...\n4    ['Ming Jiang', 'Menghuan Li', 'Cuiying Liu', '...\n5    ['Zinan Zhang', 'Xiaoyu Yu', 'Ning Fang', 'Xiu...\n6    ['Xuan Song', 'Hongxia Wu', 'Wenhua Zhang', 'B...\n7    ['Adnan Zar', 'Sobia Sabir Ali', 'Adnan Zar', ...\n8    ['Vanessa Carvalho Moreira', 'Calliandra Maria...\n9    ['Yumeng Shi', 'Chao Yu', 'Lihua Hu', 'Minghui...\nName: Authors, dtype: object"
     },
     "execution_count": 263,
     "metadata": {},
     "output_type": "execute_result"
    }
   ],
   "source": [
    "train_df['Authors'][:10]"
   ],
   "metadata": {
    "collapsed": false,
    "pycharm": {
     "name": "#%%\n"
    }
   }
  },
  {
   "cell_type": "code",
   "execution_count": 264,
   "outputs": [
    {
     "data": {
      "text/plain": "0        2022 Jun;32(6):722-727.\n1       2022 May 30;14(11):2288.\n2        2022 Jun 3;23(11):6279.\n3           2022 Jun;156:111164.\n4          2022 May 6;13:865009.\n5         2022 May 18;22(1):250.\n6          2022 May 16;21(1):45.\n7    Apr-Jun 2022;34(2):345-350.\n8         2022 May 1;19(9):5505.\n9          2022 May 12;13(1):22.\nName: Citation, dtype: object"
     },
     "execution_count": 264,
     "metadata": {},
     "output_type": "execute_result"
    }
   ],
   "source": [
    "train_df['Citation'][:10]"
   ],
   "metadata": {
    "collapsed": false,
    "pycharm": {
     "name": "#%%\n"
    }
   }
  },
  {
   "cell_type": "code",
   "execution_count": 265,
   "outputs": [
    {
     "data": {
      "text/plain": "0       doi: 10.29271/jcpsp.2022.06.722.\n1               doi: 10.3390/nu14112288.\n2             doi: 10.3390/ijms23116279.\n3    doi: 10.1016/j.foodres.2022.111164.\n4        doi: 10.3389/fendo.2022.865009.\n5       doi: 10.1186/s12876-022-02327-5.\n6       doi: 10.1186/s12944-022-01652-8.\n7            doi: 10.55519/JAMC-02-9977.\n8           doi: 10.3390/ijerph19095505.\n9       doi: 10.1186/s13293-022-00432-4.\nName: DOI, dtype: object"
     },
     "execution_count": 265,
     "metadata": {},
     "output_type": "execute_result"
    }
   ],
   "source": [
    "train_df['DOI'][:10].str.strip()"
   ],
   "metadata": {
    "collapsed": false,
    "pycharm": {
     "name": "#%%\n"
    }
   }
  },
  {
   "cell_type": "code",
   "execution_count": 266,
   "outputs": [
    {
     "data": {
      "text/plain": "Abdominal+Fat                  1500\nArtificial+Intelligence        1500\nDiabetes+Mellitus              1500\nFasting                        1500\nGastrointestinal+Microbiome    1500\nInflammation                   1500\nMicroRNAs                      1500\nNeoplasms                      1500\nParkinson+Disease              1500\npsychology                     1500\nCulicidae                      1499\n Humboldt states                  1\nName: Topic(Label), dtype: int64"
     },
     "execution_count": 266,
     "metadata": {},
     "output_type": "execute_result"
    }
   ],
   "source": [
    "train_df['Topic(Label)'].value_counts()"
   ],
   "metadata": {
    "collapsed": false,
    "pycharm": {
     "name": "#%%\n"
    }
   }
  },
  {
   "cell_type": "code",
   "execution_count": 267,
   "outputs": [
    {
     "data": {
      "text/plain": "                                                  Title  \\\n4234  \\n  \\n    \\n    \\n    \\n    \\n      \\n  A case...   \n\n                                                Authors  \\\n4234  ['Ralph E Harbach', 'Neal L Evenhuis', 'Ralph ...   \n\n                         Citation  \\\n4234  2021 May 19;4974(1):191192.   \n\n                                               Abstract  \\\n4234  \\n\\n      \\n      While adding taxon names to ...   \n\n                                        DOI      Topic(Label)  \n4234   a bright semi-metallic). On page 345   Humboldt states  ",
      "text/html": "<div>\n<style scoped>\n    .dataframe tbody tr th:only-of-type {\n        vertical-align: middle;\n    }\n\n    .dataframe tbody tr th {\n        vertical-align: top;\n    }\n\n    .dataframe thead th {\n        text-align: right;\n    }\n</style>\n<table border=\"1\" class=\"dataframe\">\n  <thead>\n    <tr style=\"text-align: right;\">\n      <th></th>\n      <th>Title</th>\n      <th>Authors</th>\n      <th>Citation</th>\n      <th>Abstract</th>\n      <th>DOI</th>\n      <th>Topic(Label)</th>\n    </tr>\n  </thead>\n  <tbody>\n    <tr>\n      <th>4234</th>\n      <td>\\n  \\n    \\n    \\n    \\n    \\n      \\n  A case...</td>\n      <td>['Ralph E Harbach', 'Neal L Evenhuis', 'Ralph ...</td>\n      <td>2021 May 19;4974(1):191192.</td>\n      <td>\\n\\n      \\n      While adding taxon names to ...</td>\n      <td>a bright semi-metallic). On page 345</td>\n      <td>Humboldt states</td>\n    </tr>\n  </tbody>\n</table>\n</div>"
     },
     "execution_count": 267,
     "metadata": {},
     "output_type": "execute_result"
    }
   ],
   "source": [
    "mistake_label = train_df[train_df['Topic(Label)'] == ' Humboldt states']\n",
    "mistake_label"
   ],
   "metadata": {
    "collapsed": false,
    "pycharm": {
     "name": "#%%\n"
    }
   }
  },
  {
   "cell_type": "code",
   "execution_count": 268,
   "outputs": [
    {
     "name": "stdout",
     "output_type": "stream",
     "text": [
      "A case of two spellings for Humboldt's blue-winged mosquito (Diptera: Culicidae)\n",
      "While adding taxon names to the Systema Dipterorum database (Evenhuis Pape 2021), one of us (NLE) discovered that Humboldt (1819) had spelled the proposed name of a nominal mosquito species in two ways. He described the species, which was found in swampy places along the Magdalena River near Tenerife, Colombia, as Culex cyanopennis on page 340 and afterwards referred to it as Culex cyanopterus on pages 345 and 349. Both names have the same meaning: cyano- (Gr. kyanos, dark blue), pennis (L. penna, feather, wing) and pteron (Gr. feather, wing). The species was named for the perceived color of the wings: \"AlÃ¦ cÃ¦ruleÃ¦, splendore semi-metallicoâ? (wings blue\n"
     ]
    }
   ],
   "source": [
    "# ' Humboldt states'为标记错误,实际应为'Culicidae'\n",
    "print(mistake_label['Title'].tolist()[0].strip())\n",
    "print(mistake_label['Abstract'].tolist()[0].strip())"
   ],
   "metadata": {
    "collapsed": false,
    "pycharm": {
     "name": "#%%\n"
    }
   }
  },
  {
   "cell_type": "code",
   "execution_count": 269,
   "outputs": [
    {
     "data": {
      "text/plain": "                                                   Title  \\\n0      \\n  \\n    \\n    \\n    \\n    \\n      \\n  The Va...   \n1      \\n  \\n    \\n    \\n    \\n    \\n      \\n  Metfor...   \n2      \\n  \\n    \\n    \\n    \\n    \\n      \\n  New In...   \n3      \\n  \\n    \\n    \\n    \\n    \\n      \\n  Î±-Lin...   \n4      \\n  \\n    \\n    \\n    \\n    \\n      \\n  Perire...   \n...                                                  ...   \n16499  \\n  \\n    \\n    \\n    \\n    \\n      \\n  Racial...   \n16500  \\n  \\n    \\n    \\n    \\n    \\n      \\n  Modifi...   \n16501  \\n  \\n    \\n    \\n    \\n    \\n      \\n  Predic...   \n16502  \\n  \\n    \\n    \\n    \\n    \\n      \\n  Establ...   \n16503  \\n  \\n    \\n    \\n    \\n    \\n      \\n  Challe...   \n\n                                                 Authors  \\\n0      ['Seyhmus Tunc', 'Suleyman Cemil Oglak', 'Fatm...   \n1      ['Katrin Schmitz', 'Eva-Maria Turnwald', 'Tobi...   \n2      ['Jorge Valencia-Ortega', 'Rebeca GonzÃ¡lez-Re...   \n3      ['Victoria Aiassa', 'MarÃ­a Del Rosario Ferrei...   \n4      ['Ming Jiang', 'Menghuan Li', 'Cuiying Liu', '...   \n...                                                  ...   \n16499  ['Steven O Roberts', 'Carmelle Bareket-Shavit'...   \n16500  ['Anne Congard', 'Eva Andreotti', 'Bruno Dauvi...   \n16501  ['Ursula C Hildebrandt', 'J Christopher Graham...   \n16502  ['Leslie K Wang', 'Sylvie H M Wong', 'Stephen ...   \n16503  ['Javier GÃ¼eita-Rodriguez', 'Pilar Famoso-PÃ©...   \n\n                        Citation  \\\n0        2022 Jun;32(6):722-727.   \n1       2022 May 30;14(11):2288.   \n2        2022 Jun 3;23(11):6279.   \n3           2022 Jun;156:111164.   \n4          2022 May 6;13:865009.   \n...                          ...   \n16499  2020 Nov;15(6):1295-1309.   \n16500    2020 Nov;12(3):770-786.   \n16501    2020 Sep;41(5):677-696.   \n16502  2020 Aug 1;71(8):868-871.   \n16503   2020 Jun 21;17(12):4466.   \n\n                                                Abstract  \\\n0      \\n\\n\\n          Objective:\\n        \\n      \\n...   \n1      \\n\\n      \\n      With the gaining prevalence ...   \n2      \\n\\n      \\n      Gestational diabetes mellitu...   \n3      \\n\\n      \\n      Given obesity and its associ...   \n4      \\n\\n\\n          Background:\\n        \\n      \\...   \n...                                                  ...   \n16499  \\n\\n      \\n      Race plays an important role...   \n16500  \\n\\n      \\n      Enhancing positive affect (P...   \n16501  \\n\\n      \\n      Mothers with substance use d...   \n16502  \\n\\n      \\n      Children who experience tran...   \n16503  \\n\\n      \\n      Rare diseases face serious s...   \n\n                                                     DOI   Topic(Label)  \n0      \\n        doi: 10.29271/jcpsp.2022.06.722.\\n  ...  Abdominal+Fat  \n1             \\n        doi: 10.3390/nu14112288.\\n        Abdominal+Fat  \n2           \\n        doi: 10.3390/ijms23116279.\\n        Abdominal+Fat  \n3      \\n        doi: 10.1016/j.foodres.2022.111164.\\...  Abdominal+Fat  \n4      \\n        doi: 10.3389/fendo.2022.865009.\\n        Abdominal+Fat  \n...                                                  ...            ...  \n16499   \\n        doi: 10.1177/1745691620927709.\\n           psychology  \n16500         \\n        doi: 10.1111/aphw.12206.\\n           psychology  \n16501         \\n        doi: 10.1002/imhj.21872.\\n           psychology  \n16502  \\n        doi: 10.1176/appi.ps.201900624.\\n           psychology  \n16503     \\n        doi: 10.3390/ijerph17124466.\\n           psychology  \n\n[16500 rows x 6 columns]",
      "text/html": "<div>\n<style scoped>\n    .dataframe tbody tr th:only-of-type {\n        vertical-align: middle;\n    }\n\n    .dataframe tbody tr th {\n        vertical-align: top;\n    }\n\n    .dataframe thead th {\n        text-align: right;\n    }\n</style>\n<table border=\"1\" class=\"dataframe\">\n  <thead>\n    <tr style=\"text-align: right;\">\n      <th></th>\n      <th>Title</th>\n      <th>Authors</th>\n      <th>Citation</th>\n      <th>Abstract</th>\n      <th>DOI</th>\n      <th>Topic(Label)</th>\n    </tr>\n  </thead>\n  <tbody>\n    <tr>\n      <th>0</th>\n      <td>\\n  \\n    \\n    \\n    \\n    \\n      \\n  The Va...</td>\n      <td>['Seyhmus Tunc', 'Suleyman Cemil Oglak', 'Fatm...</td>\n      <td>2022 Jun;32(6):722-727.</td>\n      <td>\\n\\n\\n          Objective:\\n        \\n      \\n...</td>\n      <td>\\n        doi: 10.29271/jcpsp.2022.06.722.\\n  ...</td>\n      <td>Abdominal+Fat</td>\n    </tr>\n    <tr>\n      <th>1</th>\n      <td>\\n  \\n    \\n    \\n    \\n    \\n      \\n  Metfor...</td>\n      <td>['Katrin Schmitz', 'Eva-Maria Turnwald', 'Tobi...</td>\n      <td>2022 May 30;14(11):2288.</td>\n      <td>\\n\\n      \\n      With the gaining prevalence ...</td>\n      <td>\\n        doi: 10.3390/nu14112288.\\n</td>\n      <td>Abdominal+Fat</td>\n    </tr>\n    <tr>\n      <th>2</th>\n      <td>\\n  \\n    \\n    \\n    \\n    \\n      \\n  New In...</td>\n      <td>['Jorge Valencia-Ortega', 'Rebeca GonzÃ¡lez-Re...</td>\n      <td>2022 Jun 3;23(11):6279.</td>\n      <td>\\n\\n      \\n      Gestational diabetes mellitu...</td>\n      <td>\\n        doi: 10.3390/ijms23116279.\\n</td>\n      <td>Abdominal+Fat</td>\n    </tr>\n    <tr>\n      <th>3</th>\n      <td>\\n  \\n    \\n    \\n    \\n    \\n      \\n  Î±-Lin...</td>\n      <td>['Victoria Aiassa', 'MarÃ­a Del Rosario Ferrei...</td>\n      <td>2022 Jun;156:111164.</td>\n      <td>\\n\\n      \\n      Given obesity and its associ...</td>\n      <td>\\n        doi: 10.1016/j.foodres.2022.111164.\\...</td>\n      <td>Abdominal+Fat</td>\n    </tr>\n    <tr>\n      <th>4</th>\n      <td>\\n  \\n    \\n    \\n    \\n    \\n      \\n  Perire...</td>\n      <td>['Ming Jiang', 'Menghuan Li', 'Cuiying Liu', '...</td>\n      <td>2022 May 6;13:865009.</td>\n      <td>\\n\\n\\n          Background:\\n        \\n      \\...</td>\n      <td>\\n        doi: 10.3389/fendo.2022.865009.\\n</td>\n      <td>Abdominal+Fat</td>\n    </tr>\n    <tr>\n      <th>...</th>\n      <td>...</td>\n      <td>...</td>\n      <td>...</td>\n      <td>...</td>\n      <td>...</td>\n      <td>...</td>\n    </tr>\n    <tr>\n      <th>16499</th>\n      <td>\\n  \\n    \\n    \\n    \\n    \\n      \\n  Racial...</td>\n      <td>['Steven O Roberts', 'Carmelle Bareket-Shavit'...</td>\n      <td>2020 Nov;15(6):1295-1309.</td>\n      <td>\\n\\n      \\n      Race plays an important role...</td>\n      <td>\\n        doi: 10.1177/1745691620927709.\\n</td>\n      <td>psychology</td>\n    </tr>\n    <tr>\n      <th>16500</th>\n      <td>\\n  \\n    \\n    \\n    \\n    \\n      \\n  Modifi...</td>\n      <td>['Anne Congard', 'Eva Andreotti', 'Bruno Dauvi...</td>\n      <td>2020 Nov;12(3):770-786.</td>\n      <td>\\n\\n      \\n      Enhancing positive affect (P...</td>\n      <td>\\n        doi: 10.1111/aphw.12206.\\n</td>\n      <td>psychology</td>\n    </tr>\n    <tr>\n      <th>16501</th>\n      <td>\\n  \\n    \\n    \\n    \\n    \\n      \\n  Predic...</td>\n      <td>['Ursula C Hildebrandt', 'J Christopher Graham...</td>\n      <td>2020 Sep;41(5):677-696.</td>\n      <td>\\n\\n      \\n      Mothers with substance use d...</td>\n      <td>\\n        doi: 10.1002/imhj.21872.\\n</td>\n      <td>psychology</td>\n    </tr>\n    <tr>\n      <th>16502</th>\n      <td>\\n  \\n    \\n    \\n    \\n    \\n      \\n  Establ...</td>\n      <td>['Leslie K Wang', 'Sylvie H M Wong', 'Stephen ...</td>\n      <td>2020 Aug 1;71(8):868-871.</td>\n      <td>\\n\\n      \\n      Children who experience tran...</td>\n      <td>\\n        doi: 10.1176/appi.ps.201900624.\\n</td>\n      <td>psychology</td>\n    </tr>\n    <tr>\n      <th>16503</th>\n      <td>\\n  \\n    \\n    \\n    \\n    \\n      \\n  Challe...</td>\n      <td>['Javier GÃ¼eita-Rodriguez', 'Pilar Famoso-PÃ©...</td>\n      <td>2020 Jun 21;17(12):4466.</td>\n      <td>\\n\\n      \\n      Rare diseases face serious s...</td>\n      <td>\\n        doi: 10.3390/ijerph17124466.\\n</td>\n      <td>psychology</td>\n    </tr>\n  </tbody>\n</table>\n<p>16500 rows × 6 columns</p>\n</div>"
     },
     "execution_count": 269,
     "metadata": {},
     "output_type": "execute_result"
    }
   ],
   "source": [
    "train_df = train_df.replace({'Topic(Label)': {' Humboldt states': 'Culicidae'}})\n",
    "train_df"
   ],
   "metadata": {
    "collapsed": false,
    "pycharm": {
     "name": "#%%\n"
    }
   }
  },
  {
   "cell_type": "code",
   "execution_count": 270,
   "outputs": [
    {
     "data": {
      "text/plain": "0        [Objective:, To, examine, the, performance, of...\n1        [With, the, gaining, prevalence, of, obesity,,...\n2        [Gestational, diabetes, mellitus, (GDM), is, t...\n3        [Given, obesity, and, its, associated, metabol...\n4        [Background:, Visceral, fat, has, been, consid...\n                               ...                        \n16499    [Race, plays, an, important, role, in, how, pe...\n16500    [Enhancing, positive, affect, (PA), and, reduc...\n16501    [Mothers, with, substance, use, disorders, (SU...\n16502    [Children, who, experience, transnational, sep...\n16503    [Rare, diseases, face, serious, sustainability...\nName: Abstract, Length: 16500, dtype: object"
     },
     "execution_count": 270,
     "metadata": {},
     "output_type": "execute_result"
    }
   ],
   "source": [
    "Abstract_list_train = train_df['Abstract'].str.strip().str.split()\n",
    "Abstract_list_train"
   ],
   "metadata": {
    "collapsed": false,
    "pycharm": {
     "name": "#%%\n"
    }
   }
  },
  {
   "cell_type": "code",
   "execution_count": 271,
   "outputs": [
    {
     "data": {
      "text/plain": "0        255\n1        195\n2        157\n3        199\n4        263\n        ... \n16499    200\n16500    146\n16501    202\n16502    102\n16503    180\nName: Abstract, Length: 16500, dtype: int64"
     },
     "execution_count": 271,
     "metadata": {},
     "output_type": "execute_result"
    }
   ],
   "source": [
    "Abstract_len_train = Abstract_list_train.apply(lambda x: len(x))\n",
    "Abstract_len_train"
   ],
   "metadata": {
    "collapsed": false,
    "pycharm": {
     "name": "#%%\n"
    }
   }
  },
  {
   "cell_type": "code",
   "execution_count": 272,
   "outputs": [
    {
     "data": {
      "text/plain": "0       214\n1       200\n2       148\n3       174\n4       273\n       ... \n2081    210\n2082    245\n2083    189\n2084    234\n2085    214\nName: Abstract, Length: 2086, dtype: int64"
     },
     "execution_count": 272,
     "metadata": {},
     "output_type": "execute_result"
    }
   ],
   "source": [
    "Abstract_list_test = test_df['Abstract'].str.strip().str.split()\n",
    "Abstract_len_test = Abstract_list_test.apply(lambda x: len(x))\n",
    "Abstract_len_test"
   ],
   "metadata": {
    "collapsed": false,
    "pycharm": {
     "name": "#%%\n"
    }
   }
  },
  {
   "cell_type": "code",
   "execution_count": 273,
   "outputs": [
    {
     "data": {
      "text/plain": "<matplotlib.legend.Legend at 0x1b064bd8250>"
     },
     "execution_count": 273,
     "metadata": {},
     "output_type": "execute_result"
    },
    {
     "data": {
      "text/plain": "<Figure size 1080x360 with 1 Axes>",
      "image/png": "[encoded data removed]"
     },
     "metadata": {
      "needs_background": "light"
     },
     "output_type": "display_data"
    }
   ],
   "source": [
    "# 观察训练数据集与测试数据集分布情况\n",
    "# 大部分句子的长度都集中在400以内\n",
    "plt.figure(figsize=(15, 5))\n",
    "ax = plt.subplot(111)\n",
    "sns.kdeplot(Abstract_len_train, ax=ax, color='red', fill=True)\n",
    "sns.kdeplot(Abstract_len_test, ax=ax, color='b', fill=True)\n",
    "ax.set_xlim([0, max(max(Abstract_len_train), max(Abstract_len_test))])\n",
    "plt.xlabel(\"length of sample\")\n",
    "plt.ylabel(\"prob of sample\")\n",
    "plt.legend(['train_text_len', 'test_text_len'])"
   ],
   "metadata": {
    "collapsed": false,
    "pycharm": {
     "name": "#%%\n"
    }
   }
  },
  {
   "cell_type": "code",
   "execution_count": 274,
   "outputs": [
    {
     "name": "stdout",
     "output_type": "stream",
     "text": [
      "489.01000000000204\n",
      "444.7499999999982\n",
      "705.0240000000049\n",
      "602.6850000000163\n"
     ]
    }
   ],
   "source": [
    "# 文本长度大部分(99.5)在489以内\n",
    "print(np.percentile(Abstract_len_train, q=99.5))\n",
    "print(np.percentile(Abstract_len_test, q=99.5))\n",
    "\n",
    "print(np.percentile(Abstract_len_train, q=99.9))\n",
    "print(np.percentile(Abstract_len_test, q=99.9))"
   ],
   "metadata": {
    "collapsed": false,
    "pycharm": {
     "name": "#%%\n"
    }
   }
  },
  {
   "cell_type": "code",
   "execution_count": 274,
   "outputs": [],
   "source": [
    "\n"
   ],
   "metadata": {
    "collapsed": false,
    "pycharm": {
     "name": "#%%\n"
    }
   }
  }
 ],
 "metadata": {
  "kernelspec": {
   "display_name": "Python 3",
   "language": "python",
   "name": "python3"
  },
  "language_info": {
   "codemirror_mode": {
    "name": "ipython",
    "version": 2
   },
   "file_extension": ".py",
   "mimetype": "text/x-python",
   "name": "python",
   "nbconvert_exporter": "python",
   "pygments_lexer": "ipython2",
   "version": "2.7.6"
  }
 },
 "nbformat": 4,
 "nbformat_minor": 0
}